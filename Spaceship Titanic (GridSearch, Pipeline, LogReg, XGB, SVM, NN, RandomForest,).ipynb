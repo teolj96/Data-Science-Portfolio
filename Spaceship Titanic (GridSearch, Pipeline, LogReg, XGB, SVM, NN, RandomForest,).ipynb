{
 "cells": [
  {
   "cell_type": "code",
   "execution_count": 1,
   "id": "8f76bc24",
   "metadata": {},
   "outputs": [],
   "source": [
    "import numpy as np\n",
    "import pandas as pd\n",
    "import matplotlib.pyplot as plt\n",
    "import seaborn as sns\n",
    "import warnings\n",
    "warnings.filterwarnings('ignore')\n",
    "pd.set_option('display.max_columns', None)"
   ]
  },
  {
   "cell_type": "code",
   "execution_count": 2,
   "id": "cb0b02fc",
   "metadata": {},
   "outputs": [],
   "source": [
    "train_df = pd.read_csv(r'C:\\Users\\croatia\\Desktop\\python\\Datasets\\spaceship titanic\\train.csv')\n",
    "test_df = pd.read_csv(r'C:\\Users\\croatia\\Desktop\\python\\Datasets\\spaceship titanic\\test.csv')"
   ]
  },
  {
   "cell_type": "markdown",
   "id": "4c0d75a8",
   "metadata": {},
   "source": [
    "CHECKING OUT THE DATASET"
   ]
  },
  {
   "cell_type": "code",
   "execution_count": 3,
   "id": "f0f8f7bd",
   "metadata": {},
   "outputs": [
    {
     "data": {
      "text/html": [
       "<div>\n",
       "<style scoped>\n",
       "    .dataframe tbody tr th:only-of-type {\n",
       "        vertical-align: middle;\n",
       "    }\n",
       "\n",
       "    .dataframe tbody tr th {\n",
       "        vertical-align: top;\n",
       "    }\n",
       "\n",
       "    .dataframe thead th {\n",
       "        text-align: right;\n",
       "    }\n",
       "</style>\n",
       "<table border=\"1\" class=\"dataframe\">\n",
       "  <thead>\n",
       "    <tr style=\"text-align: right;\">\n",
       "      <th></th>\n",
       "      <th>PassengerId</th>\n",
       "      <th>HomePlanet</th>\n",
       "      <th>CryoSleep</th>\n",
       "      <th>Cabin</th>\n",
       "      <th>Destination</th>\n",
       "      <th>Age</th>\n",
       "      <th>VIP</th>\n",
       "      <th>RoomService</th>\n",
       "      <th>FoodCourt</th>\n",
       "      <th>ShoppingMall</th>\n",
       "      <th>Spa</th>\n",
       "      <th>VRDeck</th>\n",
       "      <th>Name</th>\n",
       "      <th>Transported</th>\n",
       "    </tr>\n",
       "  </thead>\n",
       "  <tbody>\n",
       "    <tr>\n",
       "      <th>0</th>\n",
       "      <td>0001_01</td>\n",
       "      <td>Europa</td>\n",
       "      <td>False</td>\n",
       "      <td>B/0/P</td>\n",
       "      <td>TRAPPIST-1e</td>\n",
       "      <td>39.0</td>\n",
       "      <td>False</td>\n",
       "      <td>0.0</td>\n",
       "      <td>0.0</td>\n",
       "      <td>0.0</td>\n",
       "      <td>0.0</td>\n",
       "      <td>0.0</td>\n",
       "      <td>Maham Ofracculy</td>\n",
       "      <td>False</td>\n",
       "    </tr>\n",
       "    <tr>\n",
       "      <th>1</th>\n",
       "      <td>0002_01</td>\n",
       "      <td>Earth</td>\n",
       "      <td>False</td>\n",
       "      <td>F/0/S</td>\n",
       "      <td>TRAPPIST-1e</td>\n",
       "      <td>24.0</td>\n",
       "      <td>False</td>\n",
       "      <td>109.0</td>\n",
       "      <td>9.0</td>\n",
       "      <td>25.0</td>\n",
       "      <td>549.0</td>\n",
       "      <td>44.0</td>\n",
       "      <td>Juanna Vines</td>\n",
       "      <td>True</td>\n",
       "    </tr>\n",
       "    <tr>\n",
       "      <th>2</th>\n",
       "      <td>0003_01</td>\n",
       "      <td>Europa</td>\n",
       "      <td>False</td>\n",
       "      <td>A/0/S</td>\n",
       "      <td>TRAPPIST-1e</td>\n",
       "      <td>58.0</td>\n",
       "      <td>True</td>\n",
       "      <td>43.0</td>\n",
       "      <td>3576.0</td>\n",
       "      <td>0.0</td>\n",
       "      <td>6715.0</td>\n",
       "      <td>49.0</td>\n",
       "      <td>Altark Susent</td>\n",
       "      <td>False</td>\n",
       "    </tr>\n",
       "    <tr>\n",
       "      <th>3</th>\n",
       "      <td>0003_02</td>\n",
       "      <td>Europa</td>\n",
       "      <td>False</td>\n",
       "      <td>A/0/S</td>\n",
       "      <td>TRAPPIST-1e</td>\n",
       "      <td>33.0</td>\n",
       "      <td>False</td>\n",
       "      <td>0.0</td>\n",
       "      <td>1283.0</td>\n",
       "      <td>371.0</td>\n",
       "      <td>3329.0</td>\n",
       "      <td>193.0</td>\n",
       "      <td>Solam Susent</td>\n",
       "      <td>False</td>\n",
       "    </tr>\n",
       "    <tr>\n",
       "      <th>4</th>\n",
       "      <td>0004_01</td>\n",
       "      <td>Earth</td>\n",
       "      <td>False</td>\n",
       "      <td>F/1/S</td>\n",
       "      <td>TRAPPIST-1e</td>\n",
       "      <td>16.0</td>\n",
       "      <td>False</td>\n",
       "      <td>303.0</td>\n",
       "      <td>70.0</td>\n",
       "      <td>151.0</td>\n",
       "      <td>565.0</td>\n",
       "      <td>2.0</td>\n",
       "      <td>Willy Santantines</td>\n",
       "      <td>True</td>\n",
       "    </tr>\n",
       "  </tbody>\n",
       "</table>\n",
       "</div>"
      ],
      "text/plain": [
       "  PassengerId HomePlanet CryoSleep  Cabin  Destination   Age    VIP  \\\n",
       "0     0001_01     Europa     False  B/0/P  TRAPPIST-1e  39.0  False   \n",
       "1     0002_01      Earth     False  F/0/S  TRAPPIST-1e  24.0  False   \n",
       "2     0003_01     Europa     False  A/0/S  TRAPPIST-1e  58.0   True   \n",
       "3     0003_02     Europa     False  A/0/S  TRAPPIST-1e  33.0  False   \n",
       "4     0004_01      Earth     False  F/1/S  TRAPPIST-1e  16.0  False   \n",
       "\n",
       "   RoomService  FoodCourt  ShoppingMall     Spa  VRDeck               Name  \\\n",
       "0          0.0        0.0           0.0     0.0     0.0    Maham Ofracculy   \n",
       "1        109.0        9.0          25.0   549.0    44.0       Juanna Vines   \n",
       "2         43.0     3576.0           0.0  6715.0    49.0      Altark Susent   \n",
       "3          0.0     1283.0         371.0  3329.0   193.0       Solam Susent   \n",
       "4        303.0       70.0         151.0   565.0     2.0  Willy Santantines   \n",
       "\n",
       "   Transported  \n",
       "0        False  \n",
       "1         True  \n",
       "2        False  \n",
       "3        False  \n",
       "4         True  "
      ]
     },
     "execution_count": 3,
     "metadata": {},
     "output_type": "execute_result"
    }
   ],
   "source": [
    "train_df.head()"
   ]
  },
  {
   "cell_type": "code",
   "execution_count": 4,
   "id": "176ac704",
   "metadata": {
    "scrolled": true
   },
   "outputs": [
    {
     "data": {
      "text/html": [
       "<div>\n",
       "<style scoped>\n",
       "    .dataframe tbody tr th:only-of-type {\n",
       "        vertical-align: middle;\n",
       "    }\n",
       "\n",
       "    .dataframe tbody tr th {\n",
       "        vertical-align: top;\n",
       "    }\n",
       "\n",
       "    .dataframe thead th {\n",
       "        text-align: right;\n",
       "    }\n",
       "</style>\n",
       "<table border=\"1\" class=\"dataframe\">\n",
       "  <thead>\n",
       "    <tr style=\"text-align: right;\">\n",
       "      <th></th>\n",
       "      <th>PassengerId</th>\n",
       "      <th>HomePlanet</th>\n",
       "      <th>CryoSleep</th>\n",
       "      <th>Cabin</th>\n",
       "      <th>Destination</th>\n",
       "      <th>Age</th>\n",
       "      <th>VIP</th>\n",
       "      <th>RoomService</th>\n",
       "      <th>FoodCourt</th>\n",
       "      <th>ShoppingMall</th>\n",
       "      <th>Spa</th>\n",
       "      <th>VRDeck</th>\n",
       "      <th>Name</th>\n",
       "    </tr>\n",
       "  </thead>\n",
       "  <tbody>\n",
       "    <tr>\n",
       "      <th>0</th>\n",
       "      <td>0013_01</td>\n",
       "      <td>Earth</td>\n",
       "      <td>True</td>\n",
       "      <td>G/3/S</td>\n",
       "      <td>TRAPPIST-1e</td>\n",
       "      <td>27.0</td>\n",
       "      <td>False</td>\n",
       "      <td>0.0</td>\n",
       "      <td>0.0</td>\n",
       "      <td>0.0</td>\n",
       "      <td>0.0</td>\n",
       "      <td>0.0</td>\n",
       "      <td>Nelly Carsoning</td>\n",
       "    </tr>\n",
       "    <tr>\n",
       "      <th>1</th>\n",
       "      <td>0018_01</td>\n",
       "      <td>Earth</td>\n",
       "      <td>False</td>\n",
       "      <td>F/4/S</td>\n",
       "      <td>TRAPPIST-1e</td>\n",
       "      <td>19.0</td>\n",
       "      <td>False</td>\n",
       "      <td>0.0</td>\n",
       "      <td>9.0</td>\n",
       "      <td>0.0</td>\n",
       "      <td>2823.0</td>\n",
       "      <td>0.0</td>\n",
       "      <td>Lerome Peckers</td>\n",
       "    </tr>\n",
       "    <tr>\n",
       "      <th>2</th>\n",
       "      <td>0019_01</td>\n",
       "      <td>Europa</td>\n",
       "      <td>True</td>\n",
       "      <td>C/0/S</td>\n",
       "      <td>55 Cancri e</td>\n",
       "      <td>31.0</td>\n",
       "      <td>False</td>\n",
       "      <td>0.0</td>\n",
       "      <td>0.0</td>\n",
       "      <td>0.0</td>\n",
       "      <td>0.0</td>\n",
       "      <td>0.0</td>\n",
       "      <td>Sabih Unhearfus</td>\n",
       "    </tr>\n",
       "    <tr>\n",
       "      <th>3</th>\n",
       "      <td>0021_01</td>\n",
       "      <td>Europa</td>\n",
       "      <td>False</td>\n",
       "      <td>C/1/S</td>\n",
       "      <td>TRAPPIST-1e</td>\n",
       "      <td>38.0</td>\n",
       "      <td>False</td>\n",
       "      <td>0.0</td>\n",
       "      <td>6652.0</td>\n",
       "      <td>0.0</td>\n",
       "      <td>181.0</td>\n",
       "      <td>585.0</td>\n",
       "      <td>Meratz Caltilter</td>\n",
       "    </tr>\n",
       "    <tr>\n",
       "      <th>4</th>\n",
       "      <td>0023_01</td>\n",
       "      <td>Earth</td>\n",
       "      <td>False</td>\n",
       "      <td>F/5/S</td>\n",
       "      <td>TRAPPIST-1e</td>\n",
       "      <td>20.0</td>\n",
       "      <td>False</td>\n",
       "      <td>10.0</td>\n",
       "      <td>0.0</td>\n",
       "      <td>635.0</td>\n",
       "      <td>0.0</td>\n",
       "      <td>0.0</td>\n",
       "      <td>Brence Harperez</td>\n",
       "    </tr>\n",
       "  </tbody>\n",
       "</table>\n",
       "</div>"
      ],
      "text/plain": [
       "  PassengerId HomePlanet CryoSleep  Cabin  Destination   Age    VIP  \\\n",
       "0     0013_01      Earth      True  G/3/S  TRAPPIST-1e  27.0  False   \n",
       "1     0018_01      Earth     False  F/4/S  TRAPPIST-1e  19.0  False   \n",
       "2     0019_01     Europa      True  C/0/S  55 Cancri e  31.0  False   \n",
       "3     0021_01     Europa     False  C/1/S  TRAPPIST-1e  38.0  False   \n",
       "4     0023_01      Earth     False  F/5/S  TRAPPIST-1e  20.0  False   \n",
       "\n",
       "   RoomService  FoodCourt  ShoppingMall     Spa  VRDeck              Name  \n",
       "0          0.0        0.0           0.0     0.0     0.0   Nelly Carsoning  \n",
       "1          0.0        9.0           0.0  2823.0     0.0    Lerome Peckers  \n",
       "2          0.0        0.0           0.0     0.0     0.0   Sabih Unhearfus  \n",
       "3          0.0     6652.0           0.0   181.0   585.0  Meratz Caltilter  \n",
       "4         10.0        0.0         635.0     0.0     0.0   Brence Harperez  "
      ]
     },
     "execution_count": 4,
     "metadata": {},
     "output_type": "execute_result"
    }
   ],
   "source": [
    "test_df.head()"
   ]
  },
  {
   "cell_type": "code",
   "execution_count": 5,
   "id": "39d55b44",
   "metadata": {},
   "outputs": [
    {
     "name": "stdout",
     "output_type": "stream",
     "text": [
      "<class 'pandas.core.frame.DataFrame'>\n",
      "RangeIndex: 8693 entries, 0 to 8692\n",
      "Data columns (total 14 columns):\n",
      " #   Column        Non-Null Count  Dtype  \n",
      "---  ------        --------------  -----  \n",
      " 0   PassengerId   8693 non-null   object \n",
      " 1   HomePlanet    8492 non-null   object \n",
      " 2   CryoSleep     8476 non-null   object \n",
      " 3   Cabin         8494 non-null   object \n",
      " 4   Destination   8511 non-null   object \n",
      " 5   Age           8514 non-null   float64\n",
      " 6   VIP           8490 non-null   object \n",
      " 7   RoomService   8512 non-null   float64\n",
      " 8   FoodCourt     8510 non-null   float64\n",
      " 9   ShoppingMall  8485 non-null   float64\n",
      " 10  Spa           8510 non-null   float64\n",
      " 11  VRDeck        8505 non-null   float64\n",
      " 12  Name          8493 non-null   object \n",
      " 13  Transported   8693 non-null   bool   \n",
      "dtypes: bool(1), float64(6), object(7)\n",
      "memory usage: 891.5+ KB\n"
     ]
    }
   ],
   "source": [
    "train_df.info()"
   ]
  },
  {
   "cell_type": "code",
   "execution_count": 6,
   "id": "5684897b",
   "metadata": {
    "scrolled": false
   },
   "outputs": [
    {
     "data": {
      "text/html": [
       "<div>\n",
       "<style scoped>\n",
       "    .dataframe tbody tr th:only-of-type {\n",
       "        vertical-align: middle;\n",
       "    }\n",
       "\n",
       "    .dataframe tbody tr th {\n",
       "        vertical-align: top;\n",
       "    }\n",
       "\n",
       "    .dataframe thead th {\n",
       "        text-align: right;\n",
       "    }\n",
       "</style>\n",
       "<table border=\"1\" class=\"dataframe\">\n",
       "  <thead>\n",
       "    <tr style=\"text-align: right;\">\n",
       "      <th></th>\n",
       "      <th>Age</th>\n",
       "      <th>RoomService</th>\n",
       "      <th>FoodCourt</th>\n",
       "      <th>ShoppingMall</th>\n",
       "      <th>Spa</th>\n",
       "      <th>VRDeck</th>\n",
       "    </tr>\n",
       "  </thead>\n",
       "  <tbody>\n",
       "    <tr>\n",
       "      <th>count</th>\n",
       "      <td>8514.000000</td>\n",
       "      <td>8512.000000</td>\n",
       "      <td>8510.000000</td>\n",
       "      <td>8485.000000</td>\n",
       "      <td>8510.000000</td>\n",
       "      <td>8505.000000</td>\n",
       "    </tr>\n",
       "    <tr>\n",
       "      <th>mean</th>\n",
       "      <td>28.827930</td>\n",
       "      <td>224.687617</td>\n",
       "      <td>458.077203</td>\n",
       "      <td>173.729169</td>\n",
       "      <td>311.138778</td>\n",
       "      <td>304.854791</td>\n",
       "    </tr>\n",
       "    <tr>\n",
       "      <th>std</th>\n",
       "      <td>14.489021</td>\n",
       "      <td>666.717663</td>\n",
       "      <td>1611.489240</td>\n",
       "      <td>604.696458</td>\n",
       "      <td>1136.705535</td>\n",
       "      <td>1145.717189</td>\n",
       "    </tr>\n",
       "    <tr>\n",
       "      <th>min</th>\n",
       "      <td>0.000000</td>\n",
       "      <td>0.000000</td>\n",
       "      <td>0.000000</td>\n",
       "      <td>0.000000</td>\n",
       "      <td>0.000000</td>\n",
       "      <td>0.000000</td>\n",
       "    </tr>\n",
       "    <tr>\n",
       "      <th>25%</th>\n",
       "      <td>19.000000</td>\n",
       "      <td>0.000000</td>\n",
       "      <td>0.000000</td>\n",
       "      <td>0.000000</td>\n",
       "      <td>0.000000</td>\n",
       "      <td>0.000000</td>\n",
       "    </tr>\n",
       "    <tr>\n",
       "      <th>50%</th>\n",
       "      <td>27.000000</td>\n",
       "      <td>0.000000</td>\n",
       "      <td>0.000000</td>\n",
       "      <td>0.000000</td>\n",
       "      <td>0.000000</td>\n",
       "      <td>0.000000</td>\n",
       "    </tr>\n",
       "    <tr>\n",
       "      <th>75%</th>\n",
       "      <td>38.000000</td>\n",
       "      <td>47.000000</td>\n",
       "      <td>76.000000</td>\n",
       "      <td>27.000000</td>\n",
       "      <td>59.000000</td>\n",
       "      <td>46.000000</td>\n",
       "    </tr>\n",
       "    <tr>\n",
       "      <th>max</th>\n",
       "      <td>79.000000</td>\n",
       "      <td>14327.000000</td>\n",
       "      <td>29813.000000</td>\n",
       "      <td>23492.000000</td>\n",
       "      <td>22408.000000</td>\n",
       "      <td>24133.000000</td>\n",
       "    </tr>\n",
       "  </tbody>\n",
       "</table>\n",
       "</div>"
      ],
      "text/plain": [
       "               Age   RoomService     FoodCourt  ShoppingMall           Spa  \\\n",
       "count  8514.000000   8512.000000   8510.000000   8485.000000   8510.000000   \n",
       "mean     28.827930    224.687617    458.077203    173.729169    311.138778   \n",
       "std      14.489021    666.717663   1611.489240    604.696458   1136.705535   \n",
       "min       0.000000      0.000000      0.000000      0.000000      0.000000   \n",
       "25%      19.000000      0.000000      0.000000      0.000000      0.000000   \n",
       "50%      27.000000      0.000000      0.000000      0.000000      0.000000   \n",
       "75%      38.000000     47.000000     76.000000     27.000000     59.000000   \n",
       "max      79.000000  14327.000000  29813.000000  23492.000000  22408.000000   \n",
       "\n",
       "             VRDeck  \n",
       "count   8505.000000  \n",
       "mean     304.854791  \n",
       "std     1145.717189  \n",
       "min        0.000000  \n",
       "25%        0.000000  \n",
       "50%        0.000000  \n",
       "75%       46.000000  \n",
       "max    24133.000000  "
      ]
     },
     "execution_count": 6,
     "metadata": {},
     "output_type": "execute_result"
    }
   ],
   "source": [
    "train_df.describe()"
   ]
  },
  {
   "cell_type": "markdown",
   "id": "17aa3c3b",
   "metadata": {},
   "source": [
    "## EDA"
   ]
  },
  {
   "cell_type": "markdown",
   "id": "2f4c1173",
   "metadata": {},
   "source": [
    "WE CAN MAKE INTERESTING CONCLUSIONS ABOUT FACTORS WHICH CAN CONTRIBUTE TO A BIGGER CHANCE OF BEING TRANSPORTED SUCH AS:\n",
    "\n",
    "- BEING FROM PLANET EUROPA OR MARS\n",
    "- BEING IN CRYOSLEEP\n",
    "- TRAVELING TO TRAPPIST OR CANCRI\n",
    "- BEING OF YOUNGER AGE\n",
    "- BEING RICHER/SPENDING MORE"
   ]
  },
  {
   "cell_type": "code",
   "execution_count": 7,
   "id": "b8b26836",
   "metadata": {
    "scrolled": true
   },
   "outputs": [
    {
     "data": {
      "text/plain": [
       "<AxesSubplot:xlabel='HomePlanet', ylabel='count'>"
      ]
     },
     "execution_count": 7,
     "metadata": {},
     "output_type": "execute_result"
    },
    {
     "data": {
      "image/png": "[encoded data removed]",
      "text/plain": [
       "<Figure size 432x288 with 1 Axes>"
      ]
     },
     "metadata": {
      "needs_background": "light"
     },
     "output_type": "display_data"
    }
   ],
   "source": [
    "sns.countplot(train_df['HomePlanet'],hue=train_df['Transported'])"
   ]
  },
  {
   "cell_type": "markdown",
   "id": "45ad7fcd",
   "metadata": {},
   "source": [
    "EXPLORING THE CABIN FEATURE MORE BY SEPERATING THE DECK AND THE SIDE"
   ]
  },
  {
   "cell_type": "code",
   "execution_count": 9,
   "id": "d531b62d",
   "metadata": {
    "scrolled": true
   },
   "outputs": [
    {
     "data": {
      "text/plain": [
       "G/734/S     8\n",
       "G/109/P     7\n",
       "G/1476/S    7\n",
       "B/201/P     7\n",
       "E/13/S      7\n",
       "D/176/S     7\n",
       "B/82/S      7\n",
       "G/981/S     7\n",
       "C/137/S     7\n",
       "B/11/S      7\n",
       "G/1368/P    7\n",
       "C/21/P      7\n",
       "F/1411/P    7\n",
       "F/1194/P    7\n",
       "A/67/P      6\n",
       "G/765/S     6\n",
       "F/856/P     6\n",
       "B/19/S      6\n",
       "G/150/S     6\n",
       "C/255/S     6\n",
       "Name: Cabin, dtype: int64"
      ]
     },
     "execution_count": 9,
     "metadata": {},
     "output_type": "execute_result"
    }
   ],
   "source": [
    "train_df['Cabin'].value_counts().head(20)"
   ]
  },
  {
   "cell_type": "code",
   "execution_count": 10,
   "id": "dc595130",
   "metadata": {},
   "outputs": [],
   "source": [
    "train_df['CabinDeck'] = train_df[train_df['Cabin'].notnull()]['Cabin'].apply(lambda x:x.split('/')[0])"
   ]
  },
  {
   "cell_type": "code",
   "execution_count": 11,
   "id": "cd7895ac",
   "metadata": {},
   "outputs": [],
   "source": [
    "test_df['CabinDeck'] = test_df[test_df['Cabin'].notnull()]['Cabin'].apply(lambda x:x.split('/')[0])"
   ]
  },
  {
   "cell_type": "code",
   "execution_count": 12,
   "id": "7b83836f",
   "metadata": {},
   "outputs": [],
   "source": [
    "train_df['CabinSide'] = train_df[train_df['Cabin'].notnull()]['Cabin'].apply(lambda x:x.split('/')[2])"
   ]
  },
  {
   "cell_type": "code",
   "execution_count": 13,
   "id": "4d901465",
   "metadata": {},
   "outputs": [],
   "source": [
    "test_df['CabinSide'] = test_df[test_df['Cabin'].notnull()]['Cabin'].apply(lambda x:x.split('/')[2])"
   ]
  },
  {
   "cell_type": "code",
   "execution_count": 14,
   "id": "ee3bc3cb",
   "metadata": {
    "scrolled": true
   },
   "outputs": [
    {
     "data": {
      "text/plain": [
       "<AxesSubplot:xlabel='CabinDeck', ylabel='count'>"
      ]
     },
     "execution_count": 14,
     "metadata": {},
     "output_type": "execute_result"
    },
    {
     "data": {
      "image/png": "[encoded data removed]",
      "text/plain": [
       "<Figure size 432x288 with 1 Axes>"
      ]
     },
     "metadata": {
      "needs_background": "light"
     },
     "output_type": "display_data"
    }
   ],
   "source": [
    "sns.countplot(train_df['CabinDeck'])"
   ]
  },
  {
   "cell_type": "code",
   "execution_count": 16,
   "id": "95bee39e",
   "metadata": {
    "scrolled": false
   },
   "outputs": [
    {
     "data": {
      "text/plain": [
       "<AxesSubplot:xlabel='Destination', ylabel='count'>"
      ]
     },
     "execution_count": 16,
     "metadata": {},
     "output_type": "execute_result"
    },
    {
     "data": {
      "image/png": "[encoded data removed]",
      "text/plain": [
       "<Figure size 432x288 with 1 Axes>"
      ]
     },
     "metadata": {
      "needs_background": "light"
     },
     "output_type": "display_data"
    }
   ],
   "source": [
    "sns.countplot(train_df['Destination'])"
   ]
  },
  {
   "cell_type": "code",
   "execution_count": 18,
   "id": "51ed4e7e",
   "metadata": {
    "scrolled": true
   },
   "outputs": [
    {
     "data": {
      "text/plain": [
       "<AxesSubplot:xlabel='VIP', ylabel='count'>"
      ]
     },
     "execution_count": 18,
     "metadata": {},
     "output_type": "execute_result"
    },
    {
     "data": {
      "image/png": "[encoded data removed]",
      "text/plain": [
       "<Figure size 432x288 with 1 Axes>"
      ]
     },
     "metadata": {
      "needs_background": "light"
     },
     "output_type": "display_data"
    }
   ],
   "source": [
    "sns.countplot(train_df['VIP'])"
   ]
  },
  {
   "cell_type": "code",
   "execution_count": 19,
   "id": "24fc3260",
   "metadata": {},
   "outputs": [
    {
     "data": {
      "text/plain": [
       "<AxesSubplot:xlabel='Transported', ylabel='count'>"
      ]
     },
     "execution_count": 19,
     "metadata": {},
     "output_type": "execute_result"
    },
    {
     "data": {
      "image/png": "[encoded data removed]",
      "text/plain": [
       "<Figure size 432x288 with 1 Axes>"
      ]
     },
     "metadata": {
      "needs_background": "light"
     },
     "output_type": "display_data"
    }
   ],
   "source": [
    "sns.countplot(train_df['Transported'],hue=train_df['HomePlanet'])"
   ]
  },
  {
   "cell_type": "code",
   "execution_count": 20,
   "id": "6737ab93",
   "metadata": {
    "scrolled": true
   },
   "outputs": [
    {
     "data": {
      "text/plain": [
       "<AxesSubplot:xlabel='Transported', ylabel='count'>"
      ]
     },
     "execution_count": 20,
     "metadata": {},
     "output_type": "execute_result"
    },
    {
     "data": {
      "image/png": "[encoded data removed]",
      "text/plain": [
       "<Figure size 432x288 with 1 Axes>"
      ]
     },
     "metadata": {
      "needs_background": "light"
     },
     "output_type": "display_data"
    }
   ],
   "source": [
    "sns.countplot(train_df['Transported'])"
   ]
  },
  {
   "cell_type": "code",
   "execution_count": 21,
   "id": "9a174d3a",
   "metadata": {
    "scrolled": true
   },
   "outputs": [
    {
     "data": {
      "text/plain": [
       "<AxesSubplot:xlabel='Transported', ylabel='count'>"
      ]
     },
     "execution_count": 21,
     "metadata": {},
     "output_type": "execute_result"
    },
    {
     "data": {
      "image/png": "[encoded data removed]",
      "text/plain": [
       "<Figure size 432x288 with 1 Axes>"
      ]
     },
     "metadata": {
      "needs_background": "light"
     },
     "output_type": "display_data"
    }
   ],
   "source": [
    "sns.countplot(train_df['Transported'],hue=train_df['VIP'])"
   ]
  },
  {
   "cell_type": "code",
   "execution_count": 22,
   "id": "cebc630e",
   "metadata": {},
   "outputs": [
    {
     "data": {
      "text/plain": [
       "<AxesSubplot:xlabel='Transported', ylabel='count'>"
      ]
     },
     "execution_count": 22,
     "metadata": {},
     "output_type": "execute_result"
    },
    {
     "data": {
      "image/png": "[encoded data removed]",
      "text/plain": [
       "<Figure size 432x288 with 1 Axes>"
      ]
     },
     "metadata": {
      "needs_background": "light"
     },
     "output_type": "display_data"
    }
   ],
   "source": [
    "sns.countplot(train_df['Transported'],hue=train_df['CryoSleep'])"
   ]
  },
  {
   "cell_type": "code",
   "execution_count": 23,
   "id": "80425638",
   "metadata": {},
   "outputs": [
    {
     "data": {
      "text/plain": [
       "<AxesSubplot:xlabel='Transported', ylabel='count'>"
      ]
     },
     "execution_count": 23,
     "metadata": {},
     "output_type": "execute_result"
    },
    {
     "data": {
      "image/png": "[encoded data removed]",
      "text/plain": [
       "<Figure size 432x288 with 1 Axes>"
      ]
     },
     "metadata": {
      "needs_background": "light"
     },
     "output_type": "display_data"
    }
   ],
   "source": [
    "sns.countplot(train_df['Transported'],hue=train_df['Destination'])"
   ]
  },
  {
   "cell_type": "code",
   "execution_count": 24,
   "id": "067b74fd",
   "metadata": {
    "scrolled": true
   },
   "outputs": [
    {
     "data": {
      "image/png": "[encoded data removed]",
      "text/plain": [
       "<Figure size 432x216 with 2 Axes>"
      ]
     },
     "metadata": {
      "needs_background": "light"
     },
     "output_type": "display_data"
    }
   ],
   "source": [
    "g = sns.FacetGrid(train_df,col='Transported')\n",
    "g = g.map(plt.hist,'Age',edgecolor='black')"
   ]
  },
  {
   "cell_type": "markdown",
   "id": "785a6822",
   "metadata": {},
   "source": [
    "CHECKING FOR OUTLIERS"
   ]
  },
  {
   "cell_type": "code",
   "execution_count": 26,
   "id": "fddd7ae1",
   "metadata": {
    "scrolled": true
   },
   "outputs": [
    {
     "data": {
      "text/plain": [
       "<AxesSubplot:xlabel='RoomService'>"
      ]
     },
     "execution_count": 26,
     "metadata": {},
     "output_type": "execute_result"
    },
    {
     "data": {
      "image/png": "[encoded data removed]",
      "text/plain": [
       "<Figure size 432x288 with 1 Axes>"
      ]
     },
     "metadata": {
      "needs_background": "light"
     },
     "output_type": "display_data"
    }
   ],
   "source": [
    "sns.boxplot(train_df['RoomService'])"
   ]
  },
  {
   "cell_type": "code",
   "execution_count": 27,
   "id": "4b5a818d",
   "metadata": {},
   "outputs": [
    {
     "data": {
      "text/plain": [
       "<AxesSubplot:xlabel='FoodCourt'>"
      ]
     },
     "execution_count": 27,
     "metadata": {},
     "output_type": "execute_result"
    },
    {
     "data": {
      "image/png": "[encoded data removed]",
      "text/plain": [
       "<Figure size 432x288 with 1 Axes>"
      ]
     },
     "metadata": {
      "needs_background": "light"
     },
     "output_type": "display_data"
    }
   ],
   "source": [
    "sns.boxplot(train_df['FoodCourt'])\n"
   ]
  },
  {
   "cell_type": "code",
   "execution_count": 28,
   "id": "be515a1e",
   "metadata": {
    "scrolled": false
   },
   "outputs": [
    {
     "data": {
      "text/plain": [
       "<AxesSubplot:xlabel='ShoppingMall'>"
      ]
     },
     "execution_count": 28,
     "metadata": {},
     "output_type": "execute_result"
    },
    {
     "data": {
      "image/png": "[encoded data removed]",
      "text/plain": [
       "<Figure size 432x288 with 1 Axes>"
      ]
     },
     "metadata": {
      "needs_background": "light"
     },
     "output_type": "display_data"
    }
   ],
   "source": [
    "sns.boxplot(train_df['ShoppingMall'])\n"
   ]
  },
  {
   "cell_type": "code",
   "execution_count": 29,
   "id": "856a512a",
   "metadata": {},
   "outputs": [
    {
     "data": {
      "text/plain": [
       "<AxesSubplot:xlabel='Spa'>"
      ]
     },
     "execution_count": 29,
     "metadata": {},
     "output_type": "execute_result"
    },
    {
     "data": {
      "image/png": "[encoded data removed]",
      "text/plain": [
       "<Figure size 432x288 with 1 Axes>"
      ]
     },
     "metadata": {
      "needs_background": "light"
     },
     "output_type": "display_data"
    }
   ],
   "source": [
    "sns.boxplot(train_df['Spa'])\n"
   ]
  },
  {
   "cell_type": "code",
   "execution_count": 30,
   "id": "ebc23bc7",
   "metadata": {
    "scrolled": true
   },
   "outputs": [
    {
     "data": {
      "text/plain": [
       "<AxesSubplot:xlabel='VRDeck'>"
      ]
     },
     "execution_count": 30,
     "metadata": {},
     "output_type": "execute_result"
    },
    {
     "data": {
      "image/png": "[encoded data removed]",
      "text/plain": [
       "<Figure size 432x288 with 1 Axes>"
      ]
     },
     "metadata": {
      "needs_background": "light"
     },
     "output_type": "display_data"
    }
   ],
   "source": [
    "sns.boxplot(train_df['VRDeck'])"
   ]
  },
  {
   "cell_type": "code",
   "execution_count": 33,
   "id": "d90e1506",
   "metadata": {
    "scrolled": true
   },
   "outputs": [
    {
     "data": {
      "text/plain": [
       "<AxesSubplot:>"
      ]
     },
     "execution_count": 33,
     "metadata": {},
     "output_type": "execute_result"
    },
    {
     "data": {
      "image/png": "[encoded data removed]",
      "text/plain": [
       "<Figure size 432x288 with 2 Axes>"
      ]
     },
     "metadata": {
      "needs_background": "light"
     },
     "output_type": "display_data"
    }
   ],
   "source": [
    "sns.heatmap(train_df.corr(),cmap='coolwarm')"
   ]
  },
  {
   "cell_type": "code",
   "execution_count": 34,
   "id": "046e8f77",
   "metadata": {
    "scrolled": true
   },
   "outputs": [
    {
     "data": {
      "text/plain": [
       "<AxesSubplot:xlabel='Spa', ylabel='Age'>"
      ]
     },
     "execution_count": 34,
     "metadata": {},
     "output_type": "execute_result"
    },
    {
     "data": {
      "image/png": "[encoded data removed]",
      "text/plain": [
       "<Figure size 432x288 with 1 Axes>"
      ]
     },
     "metadata": {
      "needs_background": "light"
     },
     "output_type": "display_data"
    }
   ],
   "source": [
    "sns.scatterplot(data=train_df,x='Spa',y='Age')"
   ]
  },
  {
   "cell_type": "code",
   "execution_count": 35,
   "id": "f7456b00",
   "metadata": {},
   "outputs": [],
   "source": [
    "train_df['TotalSpending'] = train_df['RoomService']+train_df['FoodCourt']+train_df['ShoppingMall']+train_df['Spa']+train_df['VRDeck']"
   ]
  },
  {
   "cell_type": "code",
   "execution_count": 36,
   "id": "2034dd60",
   "metadata": {
    "scrolled": false
   },
   "outputs": [
    {
     "data": {
      "text/plain": [
       "<AxesSubplot:xlabel='TotalSpending', ylabel='Age'>"
      ]
     },
     "execution_count": 36,
     "metadata": {},
     "output_type": "execute_result"
    },
    {
     "data": {
      "image/png": "[encoded data removed]",
      "text/plain": [
       "<Figure size 432x288 with 1 Axes>"
      ]
     },
     "metadata": {
      "needs_background": "light"
     },
     "output_type": "display_data"
    }
   ],
   "source": [
    "sns.scatterplot(data=train_df,x='TotalSpending',y='Age')"
   ]
  },
  {
   "cell_type": "markdown",
   "id": "c73127ac",
   "metadata": {},
   "source": [
    "CHECKING TOTAL SPENDINGS BY FEATURES"
   ]
  },
  {
   "cell_type": "code",
   "execution_count": 38,
   "id": "4171d608",
   "metadata": {
    "scrolled": true
   },
   "outputs": [
    {
     "data": {
      "text/plain": [
       "<AxesSubplot:xlabel='HomePlanet', ylabel='TotalSpending'>"
      ]
     },
     "execution_count": 38,
     "metadata": {},
     "output_type": "execute_result"
    },
    {
     "data": {
      "image/png": "[encoded data removed]",
      "text/plain": [
       "<Figure size 432x288 with 1 Axes>"
      ]
     },
     "metadata": {
      "needs_background": "light"
     },
     "output_type": "display_data"
    }
   ],
   "source": [
    "spending_planet = train_df.groupby('HomePlanet').agg({'TotalSpending':'mean'}).reset_index()\n",
    "sns.barplot(spending_planet['HomePlanet'],spending_planet['TotalSpending'])"
   ]
  },
  {
   "cell_type": "code",
   "execution_count": 39,
   "id": "4b7dcfd4",
   "metadata": {
    "scrolled": true
   },
   "outputs": [
    {
     "data": {
      "text/plain": [
       "<AxesSubplot:xlabel='Destination', ylabel='TotalSpending'>"
      ]
     },
     "execution_count": 39,
     "metadata": {},
     "output_type": "execute_result"
    },
    {
     "data": {
      "image/png": "[encoded data removed]",
      "text/plain": [
       "<Figure size 432x288 with 1 Axes>"
      ]
     },
     "metadata": {
      "needs_background": "light"
     },
     "output_type": "display_data"
    }
   ],
   "source": [
    "spending_dest = train_df.groupby('Destination').agg({'TotalSpending':'mean'}).reset_index()\n",
    "sns.barplot(spending_dest['Destination'],spending_planet['TotalSpending'])"
   ]
  },
  {
   "cell_type": "code",
   "execution_count": 40,
   "id": "2fa24c0f",
   "metadata": {
    "scrolled": false
   },
   "outputs": [
    {
     "data": {
      "text/plain": [
       "<AxesSubplot:xlabel='VIP', ylabel='TotalSpending'>"
      ]
     },
     "execution_count": 40,
     "metadata": {},
     "output_type": "execute_result"
    },
    {
     "data": {
      "image/png": "[encoded data removed]",
      "text/plain": [
       "<Figure size 432x288 with 1 Axes>"
      ]
     },
     "metadata": {
      "needs_background": "light"
     },
     "output_type": "display_data"
    }
   ],
   "source": [
    "spending_vip = train_df.groupby('VIP').agg({'TotalSpending':'mean'}).reset_index()\n",
    "sns.barplot(spending_vip['VIP'],spending_planet['TotalSpending'])"
   ]
  },
  {
   "cell_type": "code",
   "execution_count": 41,
   "id": "9e630335",
   "metadata": {
    "scrolled": true
   },
   "outputs": [
    {
     "data": {
      "text/plain": [
       "<AxesSubplot:xlabel='Transported', ylabel='TotalSpending'>"
      ]
     },
     "execution_count": 41,
     "metadata": {},
     "output_type": "execute_result"
    },
    {
     "data": {
      "image/png": "[encoded data removed]",
      "text/plain": [
       "<Figure size 432x288 with 1 Axes>"
      ]
     },
     "metadata": {
      "needs_background": "light"
     },
     "output_type": "display_data"
    }
   ],
   "source": [
    "spending_trans = train_df.groupby('Transported').agg({'TotalSpending':'mean'}).reset_index()\n",
    "sns.barplot(spending_trans['Transported'],spending_planet['TotalSpending'])"
   ]
  },
  {
   "cell_type": "code",
   "execution_count": 42,
   "id": "73f9a0ff",
   "metadata": {
    "scrolled": false
   },
   "outputs": [
    {
     "data": {
      "text/plain": [
       "<AxesSubplot:xlabel='CabinDeck', ylabel='TotalSpending'>"
      ]
     },
     "execution_count": 42,
     "metadata": {},
     "output_type": "execute_result"
    },
    {
     "data": {
      "image/png": "[encoded data removed]",
      "text/plain": [
       "<Figure size 432x288 with 1 Axes>"
      ]
     },
     "metadata": {
      "needs_background": "light"
     },
     "output_type": "display_data"
    }
   ],
   "source": [
    "spending_deck = train_df.groupby('CabinDeck').agg({'TotalSpending':'mean'}).reset_index()\n",
    "sns.barplot(spending_deck['CabinDeck'],spending_deck['TotalSpending'])"
   ]
  },
  {
   "cell_type": "code",
   "execution_count": 43,
   "id": "9d83b2a0",
   "metadata": {
    "scrolled": true
   },
   "outputs": [
    {
     "data": {
      "text/plain": [
       "PassengerId       0.000000\n",
       "HomePlanet        2.312205\n",
       "CryoSleep         2.496261\n",
       "Cabin             2.289198\n",
       "Destination       2.093639\n",
       "Age               2.059128\n",
       "VIP               2.335212\n",
       "RoomService       2.082135\n",
       "FoodCourt         2.105142\n",
       "ShoppingMall      2.392730\n",
       "Spa               2.105142\n",
       "VRDeck            2.162660\n",
       "Name              2.300702\n",
       "Transported       0.000000\n",
       "CabinDeck         2.289198\n",
       "CabinSide         2.289198\n",
       "TotalSpending    10.445186\n",
       "dtype: float64"
      ]
     },
     "execution_count": 43,
     "metadata": {},
     "output_type": "execute_result"
    }
   ],
   "source": [
    "train_df.isnull().sum()/train_df.shape[0]*100"
   ]
  },
  {
   "cell_type": "code",
   "execution_count": 44,
   "id": "79c90be1",
   "metadata": {},
   "outputs": [
    {
     "data": {
      "text/plain": [
       "PassengerId        0\n",
       "HomePlanet       201\n",
       "CryoSleep        217\n",
       "Cabin            199\n",
       "Destination      182\n",
       "Age              179\n",
       "VIP              203\n",
       "RoomService      181\n",
       "FoodCourt        183\n",
       "ShoppingMall     208\n",
       "Spa              183\n",
       "VRDeck           188\n",
       "Name             200\n",
       "Transported        0\n",
       "CabinDeck        199\n",
       "CabinSide        199\n",
       "TotalSpending    908\n",
       "dtype: int64"
      ]
     },
     "execution_count": 44,
     "metadata": {},
     "output_type": "execute_result"
    }
   ],
   "source": [
    "train_df.isnull().sum()"
   ]
  },
  {
   "cell_type": "code",
   "execution_count": 45,
   "id": "12f5723f",
   "metadata": {},
   "outputs": [
    {
     "data": {
      "text/plain": [
       "<AxesSubplot:>"
      ]
     },
     "execution_count": 45,
     "metadata": {},
     "output_type": "execute_result"
    },
    {
     "data": {
      "image/png": "[encoded data removed]",
      "text/plain": [
       "<Figure size 432x288 with 2 Axes>"
      ]
     },
     "metadata": {
      "needs_background": "light"
     },
     "output_type": "display_data"
    }
   ],
   "source": [
    "sns.heatmap(train_df.isnull(),cmap='viridis',yticklabels=False)"
   ]
  },
  {
   "cell_type": "code",
   "execution_count": 46,
   "id": "d8352306",
   "metadata": {
    "scrolled": true
   },
   "outputs": [
    {
     "data": {
      "text/plain": [
       "Earth     4602\n",
       "Europa    2131\n",
       "Mars      1759\n",
       "Name: HomePlanet, dtype: int64"
      ]
     },
     "execution_count": 46,
     "metadata": {},
     "output_type": "execute_result"
    }
   ],
   "source": [
    "train_df['HomePlanet'].value_counts()"
   ]
  },
  {
   "cell_type": "markdown",
   "id": "bde3d127",
   "metadata": {},
   "source": [
    "## DATA CLEANING"
   ]
  },
  {
   "cell_type": "code",
   "execution_count": 47,
   "id": "a3517e37",
   "metadata": {},
   "outputs": [],
   "source": [
    "train_df['HomePlanet'] = train_df['HomePlanet'].fillna('Other')\n",
    "test_df['HomePlanet'] = test_df['HomePlanet'].fillna('Other')"
   ]
  },
  {
   "cell_type": "code",
   "execution_count": 48,
   "id": "d58039c9",
   "metadata": {
    "scrolled": false
   },
   "outputs": [
    {
     "data": {
      "text/plain": [
       "217"
      ]
     },
     "execution_count": 48,
     "metadata": {},
     "output_type": "execute_result"
    }
   ],
   "source": [
    "train_df['CryoSleep'].isnull().sum()"
   ]
  },
  {
   "cell_type": "code",
   "execution_count": 49,
   "id": "1b347b4d",
   "metadata": {
    "scrolled": false
   },
   "outputs": [],
   "source": [
    "train_df['CryoSleep'] = train_df['CryoSleep'].fillna(False)\n",
    "test_df['CryoSleep'] = test_df['CryoSleep'].fillna(False)"
   ]
  },
  {
   "cell_type": "code",
   "execution_count": 50,
   "id": "40e77c15",
   "metadata": {},
   "outputs": [
    {
     "data": {
      "text/plain": [
       "182"
      ]
     },
     "execution_count": 50,
     "metadata": {},
     "output_type": "execute_result"
    }
   ],
   "source": [
    "train_df['Destination'].isnull().sum()"
   ]
  },
  {
   "cell_type": "code",
   "execution_count": 51,
   "id": "6b79336d",
   "metadata": {},
   "outputs": [],
   "source": [
    "train_df['Destination'] = train_df['Destination'].fillna('TRAPPIST-1e')\n",
    "test_df['Destination'] = test_df['Destination'].fillna('TRAPPIST-1e')"
   ]
  },
  {
   "cell_type": "code",
   "execution_count": 52,
   "id": "9d591978",
   "metadata": {
    "scrolled": true
   },
   "outputs": [
    {
     "data": {
      "text/html": [
       "<div>\n",
       "<style scoped>\n",
       "    .dataframe tbody tr th:only-of-type {\n",
       "        vertical-align: middle;\n",
       "    }\n",
       "\n",
       "    .dataframe tbody tr th {\n",
       "        vertical-align: top;\n",
       "    }\n",
       "\n",
       "    .dataframe thead th {\n",
       "        text-align: right;\n",
       "    }\n",
       "</style>\n",
       "<table border=\"1\" class=\"dataframe\">\n",
       "  <thead>\n",
       "    <tr style=\"text-align: right;\">\n",
       "      <th></th>\n",
       "      <th>Age</th>\n",
       "    </tr>\n",
       "    <tr>\n",
       "      <th>HomePlanet</th>\n",
       "      <th></th>\n",
       "    </tr>\n",
       "  </thead>\n",
       "  <tbody>\n",
       "    <tr>\n",
       "      <th>Earth</th>\n",
       "      <td>26.068232</td>\n",
       "    </tr>\n",
       "    <tr>\n",
       "      <th>Europa</th>\n",
       "      <td>34.419664</td>\n",
       "    </tr>\n",
       "    <tr>\n",
       "      <th>Mars</th>\n",
       "      <td>29.297203</td>\n",
       "    </tr>\n",
       "    <tr>\n",
       "      <th>Other</th>\n",
       "      <td>28.793970</td>\n",
       "    </tr>\n",
       "  </tbody>\n",
       "</table>\n",
       "</div>"
      ],
      "text/plain": [
       "                  Age\n",
       "HomePlanet           \n",
       "Earth       26.068232\n",
       "Europa      34.419664\n",
       "Mars        29.297203\n",
       "Other       28.793970"
      ]
     },
     "execution_count": 52,
     "metadata": {},
     "output_type": "execute_result"
    }
   ],
   "source": [
    "train_df.groupby('HomePlanet').agg({'Age':'mean'})"
   ]
  },
  {
   "cell_type": "code",
   "execution_count": 53,
   "id": "93d6a368",
   "metadata": {},
   "outputs": [],
   "source": [
    "def impute_age(col):\n",
    "    #Age=col[0]\n",
    "    #Planet=col[1]\n",
    "    if pd.isnull(col[0]):\n",
    "        if col[1]=='Earth':\n",
    "            return 26.0\n",
    "        elif col[1]=='Europa':\n",
    "            return 34.0\n",
    "        elif col[1]=='Mars':\n",
    "            return 29.0\n",
    "        else:\n",
    "            return 28.0\n",
    "    else:\n",
    "        return col[0]"
   ]
  },
  {
   "cell_type": "code",
   "execution_count": 54,
   "id": "111d9fef",
   "metadata": {},
   "outputs": [],
   "source": [
    "train_df['Age'] = train_df[['Age','HomePlanet']].apply(impute_age,axis=1)"
   ]
  },
  {
   "cell_type": "code",
   "execution_count": 55,
   "id": "bbbaa869",
   "metadata": {},
   "outputs": [],
   "source": [
    "test_df['Age'] = test_df[['Age','HomePlanet']].apply(impute_age,axis=1)"
   ]
  },
  {
   "cell_type": "code",
   "execution_count": 57,
   "id": "39b55e61",
   "metadata": {
    "scrolled": true
   },
   "outputs": [],
   "source": [
    "train_df['VIP'] = train_df['VIP'].fillna(False)\n",
    "test_df['VIP'] = test_df['VIP'].fillna(False)"
   ]
  },
  {
   "cell_type": "code",
   "execution_count": 60,
   "id": "e8c1a51d",
   "metadata": {},
   "outputs": [],
   "source": [
    "# ROOM SERVICE\n",
    "\n",
    "def impute_room_service(col):\n",
    "    if pd.isnull(col[1]):\n",
    "        if col[0] == 'Earth':\n",
    "            return 150.0\n",
    "        elif col[0] == 'Europa':\n",
    "            return 160.0\n",
    "        elif col[0] == 'Mars':\n",
    "            return 550.0\n",
    "        else:\n",
    "            return 200\n",
    "    else:\n",
    "        return col[1]\n",
    "\n",
    "train_df['RoomService'] = train_df[['HomePlanet','RoomService']].apply(impute_room_service,axis=1)\n",
    "test_df['RoomService'] = test_df[['HomePlanet','RoomService']].apply(impute_room_service,axis=1)"
   ]
  },
  {
   "cell_type": "code",
   "execution_count": 61,
   "id": "22e19e18",
   "metadata": {},
   "outputs": [],
   "source": [
    "train_df.drop(train_df[train_df['RoomService']>9000].index,inplace=True)\n",
    "test_df.drop(test_df[test_df['RoomService']>9000].index,inplace=True)"
   ]
  },
  {
   "cell_type": "code",
   "execution_count": 62,
   "id": "b7b0b1f0",
   "metadata": {},
   "outputs": [],
   "source": [
    "# FOOD COURT\n",
    "\n",
    "def impute_food_court(col):\n",
    "    if pd.isnull(col[1]):\n",
    "        if col[0] == 'Earth':\n",
    "            return 150.0\n",
    "        elif col[0] == 'Europa':\n",
    "            return 1500.0\n",
    "        elif col[0] == 'Mars':\n",
    "            return 100.0\n",
    "        else:\n",
    "            return 350.0\n",
    "    else:\n",
    "        return col[1]\n",
    "    \n",
    "train_df['FoodCourt'] = train_df[['HomePlanet','FoodCourt']].apply(impute_food_court,axis=1)\n",
    "test_df['FoodCourt'] = test_df[['HomePlanet','FoodCourt']].apply(impute_food_court,axis=1)"
   ]
  },
  {
   "cell_type": "code",
   "execution_count": 63,
   "id": "725ec623",
   "metadata": {},
   "outputs": [],
   "source": [
    "train_df.drop(train_df[train_df['FoodCourt']>20000].index,inplace=True)\n",
    "test_df.drop(test_df[test_df['FoodCourt']>20000].index,inplace=True)"
   ]
  },
  {
   "cell_type": "code",
   "execution_count": 64,
   "id": "687ed2e3",
   "metadata": {},
   "outputs": [],
   "source": [
    "# SHOOPINGMALL\n",
    "\n",
    "def impute_shop(col):\n",
    "    if pd.isnull(col[1]):\n",
    "        if col[0] == 'Earth':\n",
    "            return 140.0\n",
    "        elif col[0] == 'Europa':\n",
    "            return 150.0\n",
    "        elif col[0] == 'Mars':\n",
    "            return 300.0\n",
    "        else:\n",
    "            return 150.0\n",
    "    else:\n",
    "        return col[1]\n",
    "    \n",
    "train_df['ShoppingMall'] = train_df[['HomePlanet','ShoppingMall']].apply(impute_shop,axis=1)\n",
    "test_df['ShoppingMall'] = test_df[['HomePlanet','ShoppingMall']].apply(impute_shop,axis=1)"
   ]
  },
  {
   "cell_type": "code",
   "execution_count": 65,
   "id": "eef62465",
   "metadata": {},
   "outputs": [],
   "source": [
    "train_df.drop(train_df[train_df['ShoppingMall']>10000].index,inplace=True)"
   ]
  },
  {
   "cell_type": "code",
   "execution_count": 66,
   "id": "6ef14273",
   "metadata": {},
   "outputs": [],
   "source": [
    "# SPA\n",
    "\n",
    "def impute_spa(col):\n",
    "    if pd.isnull(col[1]):\n",
    "        if col[0] == 'Earth':\n",
    "            return 150.0\n",
    "        elif col[0] == 'Europa':\n",
    "            return 800.0\n",
    "        elif col[0] == 'Mars':\n",
    "            return 150.0\n",
    "        else:\n",
    "            return 250.0\n",
    "    else:\n",
    "        return col[1]\n",
    "    \n",
    "train_df['Spa'] = train_df[['HomePlanet','Spa']].apply(impute_spa,axis=1)\n",
    "test_df['Spa'] = test_df[['HomePlanet','Spa']].apply(impute_spa,axis=1)"
   ]
  },
  {
   "cell_type": "code",
   "execution_count": 67,
   "id": "3af6714d",
   "metadata": {},
   "outputs": [],
   "source": [
    "train_df.drop(train_df[train_df['Spa']>16000].index,inplace=True)\n",
    "test_df.drop(test_df[test_df['Spa']>16000].index,inplace=True)"
   ]
  },
  {
   "cell_type": "code",
   "execution_count": 68,
   "id": "4d0675bf",
   "metadata": {},
   "outputs": [],
   "source": [
    "# VR Deck\n",
    "\n",
    "def impute_vr(col):\n",
    "    if pd.isnull(col[1]):\n",
    "        if col[0] == 'Earth':\n",
    "            return 100.0\n",
    "        elif col[0] == 'Europa':\n",
    "            return 900.0\n",
    "        elif col[0] == 'Mars':\n",
    "            return 50.0\n",
    "        else:\n",
    "            return 300.0\n",
    "    else:\n",
    "        return col[1]\n",
    "    \n",
    "train_df['VRDeck'] = train_df[['HomePlanet','VRDeck']].apply(impute_vr,axis=1)\n",
    "test_df['VRDeck'] = test_df[['HomePlanet','VRDeck']].apply(impute_vr,axis=1)"
   ]
  },
  {
   "cell_type": "code",
   "execution_count": 69,
   "id": "7741cc1b",
   "metadata": {},
   "outputs": [],
   "source": [
    "train_df.drop(train_df[train_df['VRDeck']>15000].index,inplace=True)\n",
    "train_df.drop(test_df[test_df['VRDeck']>15000].index,inplace=True)"
   ]
  },
  {
   "cell_type": "code",
   "execution_count": 70,
   "id": "21fac435",
   "metadata": {},
   "outputs": [],
   "source": [
    "# Cabin Deck\n",
    "\n",
    "train_df['CabinDeck'].fillna(method='backfill',inplace=True)\n",
    "test_df['CabinDeck'].fillna(method='backfill',inplace=True)"
   ]
  },
  {
   "cell_type": "code",
   "execution_count": 71,
   "id": "58ee5cf9",
   "metadata": {},
   "outputs": [],
   "source": [
    "# Cabin Side\n",
    "\n",
    "train_df['CabinSide'].fillna(method='backfill',inplace=True)\n",
    "test_df['CabinSide'].fillna(method='backfill',inplace=True)"
   ]
  },
  {
   "cell_type": "markdown",
   "id": "38e0a7a8",
   "metadata": {},
   "source": [
    "## FEATURE ENGINEERING"
   ]
  },
  {
   "cell_type": "code",
   "execution_count": 72,
   "id": "08038e30",
   "metadata": {},
   "outputs": [],
   "source": [
    "train_copy_df = train_df.copy()\n",
    "train_df = train_df.drop(['PassengerId','Cabin','Name','TotalSpending'],axis=1)"
   ]
  },
  {
   "cell_type": "code",
   "execution_count": 73,
   "id": "0b597527",
   "metadata": {
    "scrolled": false
   },
   "outputs": [
    {
     "data": {
      "text/html": [
       "<div>\n",
       "<style scoped>\n",
       "    .dataframe tbody tr th:only-of-type {\n",
       "        vertical-align: middle;\n",
       "    }\n",
       "\n",
       "    .dataframe tbody tr th {\n",
       "        vertical-align: top;\n",
       "    }\n",
       "\n",
       "    .dataframe thead th {\n",
       "        text-align: right;\n",
       "    }\n",
       "</style>\n",
       "<table border=\"1\" class=\"dataframe\">\n",
       "  <thead>\n",
       "    <tr style=\"text-align: right;\">\n",
       "      <th></th>\n",
       "      <th>HomePlanet</th>\n",
       "      <th>CryoSleep</th>\n",
       "      <th>Destination</th>\n",
       "      <th>Age</th>\n",
       "      <th>VIP</th>\n",
       "      <th>RoomService</th>\n",
       "      <th>FoodCourt</th>\n",
       "      <th>ShoppingMall</th>\n",
       "      <th>Spa</th>\n",
       "      <th>VRDeck</th>\n",
       "      <th>Transported</th>\n",
       "      <th>CabinDeck</th>\n",
       "      <th>CabinSide</th>\n",
       "    </tr>\n",
       "  </thead>\n",
       "  <tbody>\n",
       "    <tr>\n",
       "      <th>0</th>\n",
       "      <td>Europa</td>\n",
       "      <td>False</td>\n",
       "      <td>TRAPPIST-1e</td>\n",
       "      <td>39.0</td>\n",
       "      <td>False</td>\n",
       "      <td>0.0</td>\n",
       "      <td>0.0</td>\n",
       "      <td>0.0</td>\n",
       "      <td>0.0</td>\n",
       "      <td>0.0</td>\n",
       "      <td>False</td>\n",
       "      <td>B</td>\n",
       "      <td>P</td>\n",
       "    </tr>\n",
       "    <tr>\n",
       "      <th>1</th>\n",
       "      <td>Earth</td>\n",
       "      <td>False</td>\n",
       "      <td>TRAPPIST-1e</td>\n",
       "      <td>24.0</td>\n",
       "      <td>False</td>\n",
       "      <td>109.0</td>\n",
       "      <td>9.0</td>\n",
       "      <td>25.0</td>\n",
       "      <td>549.0</td>\n",
       "      <td>44.0</td>\n",
       "      <td>True</td>\n",
       "      <td>F</td>\n",
       "      <td>S</td>\n",
       "    </tr>\n",
       "    <tr>\n",
       "      <th>2</th>\n",
       "      <td>Europa</td>\n",
       "      <td>False</td>\n",
       "      <td>TRAPPIST-1e</td>\n",
       "      <td>58.0</td>\n",
       "      <td>True</td>\n",
       "      <td>43.0</td>\n",
       "      <td>3576.0</td>\n",
       "      <td>0.0</td>\n",
       "      <td>6715.0</td>\n",
       "      <td>49.0</td>\n",
       "      <td>False</td>\n",
       "      <td>A</td>\n",
       "      <td>S</td>\n",
       "    </tr>\n",
       "    <tr>\n",
       "      <th>3</th>\n",
       "      <td>Europa</td>\n",
       "      <td>False</td>\n",
       "      <td>TRAPPIST-1e</td>\n",
       "      <td>33.0</td>\n",
       "      <td>False</td>\n",
       "      <td>0.0</td>\n",
       "      <td>1283.0</td>\n",
       "      <td>371.0</td>\n",
       "      <td>3329.0</td>\n",
       "      <td>193.0</td>\n",
       "      <td>False</td>\n",
       "      <td>A</td>\n",
       "      <td>S</td>\n",
       "    </tr>\n",
       "    <tr>\n",
       "      <th>4</th>\n",
       "      <td>Earth</td>\n",
       "      <td>False</td>\n",
       "      <td>TRAPPIST-1e</td>\n",
       "      <td>16.0</td>\n",
       "      <td>False</td>\n",
       "      <td>303.0</td>\n",
       "      <td>70.0</td>\n",
       "      <td>151.0</td>\n",
       "      <td>565.0</td>\n",
       "      <td>2.0</td>\n",
       "      <td>True</td>\n",
       "      <td>F</td>\n",
       "      <td>S</td>\n",
       "    </tr>\n",
       "  </tbody>\n",
       "</table>\n",
       "</div>"
      ],
      "text/plain": [
       "  HomePlanet  CryoSleep  Destination   Age    VIP  RoomService  FoodCourt  \\\n",
       "0     Europa      False  TRAPPIST-1e  39.0  False          0.0        0.0   \n",
       "1      Earth      False  TRAPPIST-1e  24.0  False        109.0        9.0   \n",
       "2     Europa      False  TRAPPIST-1e  58.0   True         43.0     3576.0   \n",
       "3     Europa      False  TRAPPIST-1e  33.0  False          0.0     1283.0   \n",
       "4      Earth      False  TRAPPIST-1e  16.0  False        303.0       70.0   \n",
       "\n",
       "   ShoppingMall     Spa  VRDeck  Transported CabinDeck CabinSide  \n",
       "0           0.0     0.0     0.0        False         B         P  \n",
       "1          25.0   549.0    44.0         True         F         S  \n",
       "2           0.0  6715.0    49.0        False         A         S  \n",
       "3         371.0  3329.0   193.0        False         A         S  \n",
       "4         151.0   565.0     2.0         True         F         S  "
      ]
     },
     "execution_count": 73,
     "metadata": {},
     "output_type": "execute_result"
    }
   ],
   "source": [
    "train_df.head()"
   ]
  },
  {
   "cell_type": "code",
   "execution_count": 74,
   "id": "ccd5ead4",
   "metadata": {},
   "outputs": [],
   "source": [
    "test_df = test_df.drop(['PassengerId','Cabin','Name'],axis=1)"
   ]
  },
  {
   "cell_type": "code",
   "execution_count": 75,
   "id": "325f969b",
   "metadata": {
    "scrolled": true
   },
   "outputs": [],
   "source": [
    "planet_train = pd.get_dummies(train_df['HomePlanet'],drop_first=True)\n",
    "planet_test = pd.get_dummies(test_df['HomePlanet'],drop_first=True)\n",
    "\n",
    "destination_train = pd.get_dummies(train_df['Destination'],drop_first=True)\n",
    "destination_test = pd.get_dummies(test_df['Destination'],drop_first=True)\n",
    "\n",
    "cabin_d_train = pd.get_dummies(train_df['CabinDeck'],drop_first=True)\n",
    "cabin_d_test = pd.get_dummies(test_df['CabinDeck'],drop_first=True)\n",
    "\n",
    "cabin_s_train = pd.get_dummies(train_df['CabinSide'],drop_first=True)\n",
    "cabin_s_test = pd.get_dummies(test_df['CabinSide'],drop_first=True)"
   ]
  },
  {
   "cell_type": "code",
   "execution_count": 76,
   "id": "bc3eef3c",
   "metadata": {},
   "outputs": [],
   "source": [
    "train_df = pd.concat([train_df,planet_train,destination_train,cabin_d_train,cabin_s_train],axis=1)\n",
    "test_df = pd.concat([test_df,planet_test,destination_test,cabin_d_test,cabin_s_test],axis=1)"
   ]
  },
  {
   "cell_type": "code",
   "execution_count": 77,
   "id": "d4f8f6a1",
   "metadata": {},
   "outputs": [],
   "source": [
    "train_final = train_df.drop(['HomePlanet','Destination','CabinDeck','CabinSide'],axis=1)\n",
    "test_final = test_df.drop(['HomePlanet','Destination','CabinDeck','CabinSide'],axis=1)"
   ]
  },
  {
   "cell_type": "code",
   "execution_count": 78,
   "id": "318a7a6c",
   "metadata": {},
   "outputs": [],
   "source": [
    "# TRAIN TEST SPLIT\n",
    "\n",
    "train_final.columns\n",
    "\n",
    "X = train_final.drop('Transported',axis=1)\n",
    "y = train_final['Transported']"
   ]
  },
  {
   "cell_type": "code",
   "execution_count": 79,
   "id": "5c2b6533",
   "metadata": {},
   "outputs": [],
   "source": [
    "from sklearn.model_selection import train_test_split"
   ]
  },
  {
   "cell_type": "code",
   "execution_count": 80,
   "id": "13d6ce41",
   "metadata": {},
   "outputs": [],
   "source": [
    "X_train, X_test, y_train, y_test = train_test_split(X, y, test_size=0.2, random_state=42)"
   ]
  },
  {
   "cell_type": "markdown",
   "id": "3ebbe698",
   "metadata": {},
   "source": [
    "## MODEL BUILDING"
   ]
  },
  {
   "cell_type": "code",
   "execution_count": 82,
   "id": "5f3ac199",
   "metadata": {},
   "outputs": [],
   "source": [
    "# LOGISTIC REGRESSION\n",
    "\n",
    "from sklearn.linear_model import LogisticRegression"
   ]
  },
  {
   "cell_type": "code",
   "execution_count": 83,
   "id": "cc2df77f",
   "metadata": {},
   "outputs": [
    {
     "data": {
      "text/plain": [
       "LogisticRegression(C=0.39)"
      ]
     },
     "execution_count": 83,
     "metadata": {},
     "output_type": "execute_result"
    }
   ],
   "source": [
    "LR = LogisticRegression(C=0.39)\n",
    "LR.fit(X_train,y_train)"
   ]
  },
  {
   "cell_type": "code",
   "execution_count": 84,
   "id": "837b79a6",
   "metadata": {},
   "outputs": [],
   "source": [
    "predictions_LR = LR.predict(X_test)"
   ]
  },
  {
   "cell_type": "code",
   "execution_count": 85,
   "id": "2e3cf8a8",
   "metadata": {},
   "outputs": [],
   "source": [
    "from sklearn.metrics import classification_report, confusion_matrix,accuracy_score"
   ]
  },
  {
   "cell_type": "code",
   "execution_count": 86,
   "id": "50acd509",
   "metadata": {},
   "outputs": [
    {
     "name": "stdout",
     "output_type": "stream",
     "text": [
      "The Accuracy Score for the model is:  0.7779700115340253\n",
      "\n",
      "[[661 206]\n",
      " [179 688]]\n",
      "\n",
      "              precision    recall  f1-score   support\n",
      "\n",
      "       False       0.79      0.76      0.77       867\n",
      "        True       0.77      0.79      0.78       867\n",
      "\n",
      "    accuracy                           0.78      1734\n",
      "   macro avg       0.78      0.78      0.78      1734\n",
      "weighted avg       0.78      0.78      0.78      1734\n",
      "\n"
     ]
    }
   ],
   "source": [
    "print('The Accuracy Score for the model is: ',accuracy_score(y_test,predictions_LR))\n",
    "print('')\n",
    "print(confusion_matrix(y_test,predictions_LR))\n",
    "print('')\n",
    "print(classification_report(y_test,predictions_LR))"
   ]
  },
  {
   "cell_type": "code",
   "execution_count": 87,
   "id": "9c72c84d",
   "metadata": {},
   "outputs": [],
   "source": [
    "# USING LOG REG PIPLINE\n",
    "\n",
    "from sklearn.pipeline import Pipeline\n",
    "from sklearn.model_selection import GridSearchCV\n",
    "from sklearn.preprocessing import StandardScaler\n",
    "from sklearn import decomposition"
   ]
  },
  {
   "cell_type": "code",
   "execution_count": 88,
   "id": "97634be6",
   "metadata": {},
   "outputs": [],
   "source": [
    "#std_slc = StandardScaler()\n",
    "#pca = decomposition.PCA()\n",
    "#logistic_Reg = LogisticRegression()\n",
    "\n",
    "#pipe = Pipeline(steps=[('std_slc', std_slc),\n",
    "                       #('pca', pca),\n",
    "                       #('logistic_Reg', logistic_Reg)])\n",
    "\n",
    "#n_components = list(range(1,X.shape[1]+1,1))\n",
    "\n",
    "#C = np.logspace(-4, 4, 50)\n",
    "#penalty = ['l1', 'l2']\n",
    "    \n",
    "#parameters = dict(pca__n_components=n_components,\n",
    "                      #logistic_Reg__C=C,\n",
    "                      #logistic_Reg__penalty=penalty)"
   ]
  },
  {
   "cell_type": "code",
   "execution_count": 89,
   "id": "1e5a94cc",
   "metadata": {},
   "outputs": [],
   "source": [
    "#clf_GS = GridSearchCV(pipe, parameters)\n",
    "#clf_GS.fit(X, y)"
   ]
  },
  {
   "cell_type": "code",
   "execution_count": 90,
   "id": "c5105f10",
   "metadata": {},
   "outputs": [],
   "source": [
    "#print('Best Penalty:', clf_GS.best_estimator_.get_params()['logistic_Reg__penalty'])\n",
    "#print('Best C:', clf_GS.best_estimator_.get_params()['logistic_Reg__C'])\n",
    "#print('Best Number Of Components:', clf_GS.best_estimator_.get_params()['pca__n_components'])\n",
    "#print(); print(clf_GS.best_estimator_.get_params()['logistic_Reg'])"
   ]
  },
  {
   "cell_type": "code",
   "execution_count": 91,
   "id": "033ab5e3",
   "metadata": {},
   "outputs": [],
   "source": [
    "# RANDOM FOREST\n",
    "\n",
    "from sklearn.ensemble import RandomForestClassifier"
   ]
  },
  {
   "cell_type": "code",
   "execution_count": 92,
   "id": "2c9254e4",
   "metadata": {},
   "outputs": [],
   "source": [
    "rfc = RandomForestClassifier(n_estimators=200)\n",
    "rfc.fit(X_train,y_train)\n",
    "predictions_rfc = rfc.predict(X_test)"
   ]
  },
  {
   "cell_type": "code",
   "execution_count": 93,
   "id": "b7267acf",
   "metadata": {},
   "outputs": [
    {
     "name": "stdout",
     "output_type": "stream",
     "text": [
      "The Accuracy Score for the model is:  0.8033448673587081\n",
      "\n",
      "              precision    recall  f1-score   support\n",
      "\n",
      "       False       0.78      0.84      0.81       867\n",
      "        True       0.83      0.77      0.80       867\n",
      "\n",
      "    accuracy                           0.80      1734\n",
      "   macro avg       0.80      0.80      0.80      1734\n",
      "weighted avg       0.80      0.80      0.80      1734\n",
      "\n",
      "\n",
      "[[727 140]\n",
      " [201 666]]\n"
     ]
    }
   ],
   "source": [
    "print('The Accuracy Score for the model is: ',accuracy_score(y_test,predictions_rfc))\n",
    "print('')\n",
    "print(classification_report(y_test,predictions_rfc))\n",
    "print('')\n",
    "print(confusion_matrix(y_test,predictions_rfc))"
   ]
  },
  {
   "cell_type": "code",
   "execution_count": 94,
   "id": "38f1d9ce",
   "metadata": {},
   "outputs": [],
   "source": [
    "# SVM\n",
    "\n",
    "from sklearn.svm import SVC"
   ]
  },
  {
   "cell_type": "code",
   "execution_count": 95,
   "id": "4f621ed4",
   "metadata": {},
   "outputs": [],
   "source": [
    "model = SVC(C=1,gamma=0.0001)\n",
    "model.fit(X_train,y_train)\n",
    "predictions_svm = model.predict(X_test)"
   ]
  },
  {
   "cell_type": "code",
   "execution_count": 96,
   "id": "cf154b18",
   "metadata": {
    "scrolled": true
   },
   "outputs": [
    {
     "name": "stdout",
     "output_type": "stream",
     "text": [
      "The Accuracy Score for the model is:  0.7612456747404844\n",
      "\n",
      "              precision    recall  f1-score   support\n",
      "\n",
      "       False       0.77      0.75      0.76       867\n",
      "        True       0.76      0.77      0.76       867\n",
      "\n",
      "    accuracy                           0.76      1734\n",
      "   macro avg       0.76      0.76      0.76      1734\n",
      "weighted avg       0.76      0.76      0.76      1734\n",
      "\n",
      "\n",
      "[[652 215]\n",
      " [199 668]]\n"
     ]
    }
   ],
   "source": [
    "print('The Accuracy Score for the model is: ',accuracy_score(y_test,predictions_svm))\n",
    "print('')\n",
    "print(classification_report(y_test,predictions_svm))\n",
    "print('')\n",
    "print(confusion_matrix(y_test,predictions_svm))"
   ]
  },
  {
   "cell_type": "code",
   "execution_count": 97,
   "id": "10b1f0fe",
   "metadata": {},
   "outputs": [],
   "source": [
    "#param_grid = {'C':[0.1,1,10,100,1000],'gamma':[1,0.1,0.01,0.001,0.0001]}"
   ]
  },
  {
   "cell_type": "code",
   "execution_count": 98,
   "id": "9b1663c8",
   "metadata": {},
   "outputs": [],
   "source": [
    "#grid = GridSearchCV(SVC(),param_grid,verbose=3)"
   ]
  },
  {
   "cell_type": "code",
   "execution_count": 99,
   "id": "ac852c19",
   "metadata": {},
   "outputs": [],
   "source": [
    "#grid.fit(X_train,y_train)"
   ]
  },
  {
   "cell_type": "code",
   "execution_count": 100,
   "id": "bc93d609",
   "metadata": {},
   "outputs": [],
   "source": [
    "#grid.best_estimator_"
   ]
  },
  {
   "cell_type": "code",
   "execution_count": 101,
   "id": "d0e45d98",
   "metadata": {},
   "outputs": [],
   "source": [
    "#grid_predictions = grid.predict(X_test)"
   ]
  },
  {
   "cell_type": "code",
   "execution_count": 102,
   "id": "d9d773b9",
   "metadata": {},
   "outputs": [],
   "source": [
    "#print('The Accuracy Score for the model is: ',accuracy_score(y_test,grid_predictions))\n",
    "#print('')\n",
    "#print(classification_report(y_test,grid_predictions))\n",
    "#print('')\n",
    "#print(confusion_matrix(y_test,grid_predictions))"
   ]
  },
  {
   "cell_type": "code",
   "execution_count": 151,
   "id": "9fc2f8ee",
   "metadata": {},
   "outputs": [],
   "source": [
    "# XGB CLASSIFIER\n",
    "\n",
    "scaler = MinMaxScaler()\n",
    "X_train_xgb = scaler.fit_transform(X_train)\n",
    "X_test_xgb = scaler.transform(X_test)"
   ]
  },
  {
   "cell_type": "code",
   "execution_count": 153,
   "id": "2d4b4de0",
   "metadata": {},
   "outputs": [],
   "source": [
    "from xgboost import XGBClassifier"
   ]
  },
  {
   "cell_type": "code",
   "execution_count": 177,
   "id": "8d1abeaa",
   "metadata": {
    "scrolled": true
   },
   "outputs": [],
   "source": [
    "#params = {'max_depth':[4,6,8],\n",
    "         #'learning_rate':[0.01,0.1,0.2,0.3],\n",
    "          #'n_estimators':[50,100,200,500],}\n",
    "\n",
    "#xgb = XGBClassifier()\n",
    "\n",
    "#grid_xgb = GridSearchCV(estimator=xgb,\n",
    "                      # param_grid=params,\n",
    "                      # verbose=3)\n",
    "\n",
    "#grid_xgb.fit(X_train,y_train)"
   ]
  },
  {
   "cell_type": "code",
   "execution_count": 178,
   "id": "372af331",
   "metadata": {
    "scrolled": true
   },
   "outputs": [],
   "source": [
    "#grid_xgb.best_estimator_"
   ]
  },
  {
   "cell_type": "code",
   "execution_count": 172,
   "id": "821f9d89",
   "metadata": {},
   "outputs": [
    {
     "name": "stdout",
     "output_type": "stream",
     "text": [
      "[21:53:58] WARNING: C:/Users/Administrator/workspace/xgboost-win64_release_1.5.1/src/learner.cc:1115: Starting in XGBoost 1.3.0, the default evaluation metric used with the objective 'binary:logistic' was changed from 'error' to 'logloss'. Explicitly set eval_metric if you'd like to restore the old behavior.\n"
     ]
    }
   ],
   "source": [
    "xgb = XGBClassifier(learning_rate=0.1,\n",
    "                   n_estimators=100,\n",
    "                   max_depth=4)\n",
    "xgb.fit(X_train,y_train)\n",
    "predictions_xgb = xgb.predict(X_test)"
   ]
  },
  {
   "cell_type": "code",
   "execution_count": 173,
   "id": "844e79e9",
   "metadata": {},
   "outputs": [
    {
     "name": "stdout",
     "output_type": "stream",
     "text": [
      "The Accuracy Score for the model is:  0.803921568627451\n",
      "\n",
      "              precision    recall  f1-score   support\n",
      "\n",
      "       False       0.82      0.78      0.80       867\n",
      "        True       0.79      0.82      0.81       867\n",
      "\n",
      "    accuracy                           0.80      1734\n",
      "   macro avg       0.80      0.80      0.80      1734\n",
      "weighted avg       0.80      0.80      0.80      1734\n",
      "\n",
      "\n",
      "[[680 187]\n",
      " [153 714]]\n"
     ]
    }
   ],
   "source": [
    "print('The Accuracy Score for the model is: ',accuracy_score(y_test,predictions_xgb))\n",
    "print('')\n",
    "print(classification_report(y_test,predictions_xgb))\n",
    "print('')\n",
    "print(confusion_matrix(y_test,predictions_xgb))"
   ]
  },
  {
   "cell_type": "code",
   "execution_count": 104,
   "id": "03363988",
   "metadata": {},
   "outputs": [],
   "source": [
    "# NEURAL NETWORKS\n",
    "\n",
    "from tensorflow.keras.models import Sequential\n",
    "from tensorflow.keras.layers import Dense,Dropout\n",
    "from tensorflow.keras.callbacks import EarlyStopping\n",
    "from sklearn.preprocessing import MinMaxScaler"
   ]
  },
  {
   "cell_type": "code",
   "execution_count": 105,
   "id": "1e53730f",
   "metadata": {},
   "outputs": [],
   "source": [
    "X_nn = X.values\n",
    "y_nn = y.values"
   ]
  },
  {
   "cell_type": "code",
   "execution_count": 106,
   "id": "4e8e8e35",
   "metadata": {},
   "outputs": [],
   "source": [
    "X_train_nn, X_test_nn, y_train_nn, y_test_nn = train_test_split(X_nn, y_nn, test_size=0.2, random_state=42)"
   ]
  },
  {
   "cell_type": "code",
   "execution_count": 107,
   "id": "5e627131",
   "metadata": {},
   "outputs": [],
   "source": [
    "minmax = MinMaxScaler()\n",
    "X_train_nn = minmax.fit_transform(X_train_nn)\n",
    "X_test_nn = minmax.transform(X_test_nn)"
   ]
  },
  {
   "cell_type": "code",
   "execution_count": 143,
   "id": "ab580607",
   "metadata": {},
   "outputs": [],
   "source": [
    "model = Sequential()\n",
    "\n",
    "model.add(Dense(22,activation='relu'))\n",
    "model.add(Dropout(0.3))\n",
    "model.add(Dense(44,activation='relu'))\n",
    "model.add(Dropout(0.3))\n",
    "model.add(Dense(44,activation='relu'))\n",
    "model.add(Dropout(0.3))\n",
    "\n",
    "model.add(Dense(1,activation='sigmoid'))\n",
    "\n",
    "model.compile(loss='binary_crossentropy',optimizer='adam',metrics=['accuracy'])"
   ]
  },
  {
   "cell_type": "code",
   "execution_count": 144,
   "id": "82f0743b",
   "metadata": {},
   "outputs": [],
   "source": [
    "early_stop = EarlyStopping(monitor='accuracy',\n",
    "                          mode='max',\n",
    "                          verbose=1,\n",
    "                          patience=25)"
   ]
  },
  {
   "cell_type": "code",
   "execution_count": 145,
   "id": "f5ea338e",
   "metadata": {
    "scrolled": true
   },
   "outputs": [
    {
     "name": "stdout",
     "output_type": "stream",
     "text": [
      "Epoch 1/600\n",
      "217/217 [==============================] - 1s 3ms/step - loss: 0.6354 - accuracy: 0.6227 - val_loss: 0.5450 - val_accuracy: 0.7307\n",
      "Epoch 2/600\n",
      "217/217 [==============================] - 0s 2ms/step - loss: 0.5573 - accuracy: 0.7203 - val_loss: 0.5088 - val_accuracy: 0.7463\n",
      "Epoch 3/600\n",
      "217/217 [==============================] - 0s 2ms/step - loss: 0.5301 - accuracy: 0.7405 - val_loss: 0.4877 - val_accuracy: 0.7497\n",
      "Epoch 4/600\n",
      "217/217 [==============================] - 0s 2ms/step - loss: 0.5071 - accuracy: 0.7480 - val_loss: 0.4673 - val_accuracy: 0.7601\n",
      "Epoch 5/600\n",
      "217/217 [==============================] - 1s 2ms/step - loss: 0.4900 - accuracy: 0.7570 - val_loss: 0.4562 - val_accuracy: 0.7659\n",
      "Epoch 6/600\n",
      "217/217 [==============================] - 1s 2ms/step - loss: 0.4752 - accuracy: 0.7635 - val_loss: 0.4501 - val_accuracy: 0.7693\n",
      "Epoch 7/600\n",
      "217/217 [==============================] - 0s 2ms/step - loss: 0.4707 - accuracy: 0.7646 - val_loss: 0.4451 - val_accuracy: 0.7699\n",
      "Epoch 8/600\n",
      "217/217 [==============================] - 0s 2ms/step - loss: 0.4625 - accuracy: 0.7737 - val_loss: 0.4410 - val_accuracy: 0.7716\n",
      "Epoch 9/600\n",
      "217/217 [==============================] - 0s 2ms/step - loss: 0.4498 - accuracy: 0.7773 - val_loss: 0.4378 - val_accuracy: 0.7797\n",
      "Epoch 10/600\n",
      "217/217 [==============================] - 0s 2ms/step - loss: 0.4451 - accuracy: 0.7808 - val_loss: 0.4327 - val_accuracy: 0.7814\n",
      "Epoch 11/600\n",
      "217/217 [==============================] - 0s 2ms/step - loss: 0.4401 - accuracy: 0.7864 - val_loss: 0.4283 - val_accuracy: 0.7849\n",
      "Epoch 12/600\n",
      "217/217 [==============================] - 0s 2ms/step - loss: 0.4376 - accuracy: 0.7917 - val_loss: 0.4262 - val_accuracy: 0.7866\n",
      "Epoch 13/600\n",
      "217/217 [==============================] - 1s 3ms/step - loss: 0.4365 - accuracy: 0.7867 - val_loss: 0.4260 - val_accuracy: 0.7912\n",
      "Epoch 14/600\n",
      "217/217 [==============================] - 1s 2ms/step - loss: 0.4318 - accuracy: 0.7878 - val_loss: 0.4225 - val_accuracy: 0.7866\n",
      "Epoch 15/600\n",
      "217/217 [==============================] - 0s 2ms/step - loss: 0.4304 - accuracy: 0.7935 - val_loss: 0.4206 - val_accuracy: 0.7866\n",
      "Epoch 16/600\n",
      "217/217 [==============================] - 0s 2ms/step - loss: 0.4268 - accuracy: 0.7887 - val_loss: 0.4201 - val_accuracy: 0.7930\n",
      "Epoch 17/600\n",
      "217/217 [==============================] - 1s 3ms/step - loss: 0.4273 - accuracy: 0.7984 - val_loss: 0.4168 - val_accuracy: 0.7982\n",
      "Epoch 18/600\n",
      "217/217 [==============================] - 1s 2ms/step - loss: 0.4303 - accuracy: 0.7939 - val_loss: 0.4161 - val_accuracy: 0.7941\n",
      "Epoch 19/600\n",
      "217/217 [==============================] - 0s 2ms/step - loss: 0.4195 - accuracy: 0.7960 - val_loss: 0.4143 - val_accuracy: 0.7930\n",
      "Epoch 20/600\n",
      "217/217 [==============================] - 0s 2ms/step - loss: 0.4210 - accuracy: 0.7945 - val_loss: 0.4130 - val_accuracy: 0.7976\n",
      "Epoch 21/600\n",
      "217/217 [==============================] - 0s 2ms/step - loss: 0.4175 - accuracy: 0.7976 - val_loss: 0.4163 - val_accuracy: 0.8016\n",
      "Epoch 22/600\n",
      "217/217 [==============================] - 0s 2ms/step - loss: 0.4202 - accuracy: 0.7982 - val_loss: 0.4127 - val_accuracy: 0.7976\n",
      "Epoch 23/600\n",
      "217/217 [==============================] - 0s 2ms/step - loss: 0.4219 - accuracy: 0.7963 - val_loss: 0.4097 - val_accuracy: 0.7947\n",
      "Epoch 24/600\n",
      "217/217 [==============================] - 0s 2ms/step - loss: 0.4179 - accuracy: 0.7999 - val_loss: 0.4118 - val_accuracy: 0.7953\n",
      "Epoch 25/600\n",
      "217/217 [==============================] - 0s 2ms/step - loss: 0.4192 - accuracy: 0.7982 - val_loss: 0.4095 - val_accuracy: 0.7953\n",
      "Epoch 26/600\n",
      "217/217 [==============================] - 0s 2ms/step - loss: 0.4187 - accuracy: 0.7978 - val_loss: 0.4088 - val_accuracy: 0.8005\n",
      "Epoch 27/600\n",
      "217/217 [==============================] - 0s 2ms/step - loss: 0.4143 - accuracy: 0.8007 - val_loss: 0.4094 - val_accuracy: 0.7970\n",
      "Epoch 28/600\n",
      "217/217 [==============================] - 0s 2ms/step - loss: 0.4168 - accuracy: 0.7992 - val_loss: 0.4054 - val_accuracy: 0.8033\n",
      "Epoch 29/600\n",
      "217/217 [==============================] - 0s 2ms/step - loss: 0.4128 - accuracy: 0.8072 - val_loss: 0.4073 - val_accuracy: 0.7970\n",
      "Epoch 30/600\n",
      "217/217 [==============================] - 0s 2ms/step - loss: 0.4113 - accuracy: 0.8025 - val_loss: 0.4082 - val_accuracy: 0.7999\n",
      "Epoch 31/600\n",
      "217/217 [==============================] - 0s 2ms/step - loss: 0.4140 - accuracy: 0.8012 - val_loss: 0.4116 - val_accuracy: 0.7953\n",
      "Epoch 32/600\n",
      "217/217 [==============================] - 0s 2ms/step - loss: 0.4142 - accuracy: 0.8012 - val_loss: 0.4076 - val_accuracy: 0.8010\n",
      "Epoch 33/600\n",
      "217/217 [==============================] - 0s 2ms/step - loss: 0.4130 - accuracy: 0.8015 - val_loss: 0.4032 - val_accuracy: 0.8045\n",
      "Epoch 34/600\n",
      "217/217 [==============================] - 0s 2ms/step - loss: 0.4167 - accuracy: 0.8031 - val_loss: 0.4058 - val_accuracy: 0.8028\n",
      "Epoch 35/600\n",
      "217/217 [==============================] - 0s 2ms/step - loss: 0.4113 - accuracy: 0.8067 - val_loss: 0.4068 - val_accuracy: 0.7982\n",
      "Epoch 36/600\n",
      "217/217 [==============================] - 0s 2ms/step - loss: 0.4162 - accuracy: 0.7995 - val_loss: 0.4055 - val_accuracy: 0.8062\n",
      "Epoch 37/600\n",
      "217/217 [==============================] - 0s 2ms/step - loss: 0.4108 - accuracy: 0.8069 - val_loss: 0.4034 - val_accuracy: 0.8016\n",
      "Epoch 38/600\n",
      "217/217 [==============================] - 0s 2ms/step - loss: 0.4060 - accuracy: 0.8067 - val_loss: 0.4025 - val_accuracy: 0.8039\n",
      "Epoch 39/600\n",
      "217/217 [==============================] - 0s 2ms/step - loss: 0.4119 - accuracy: 0.8017 - val_loss: 0.4037 - val_accuracy: 0.8080\n",
      "Epoch 40/600\n",
      "217/217 [==============================] - 0s 2ms/step - loss: 0.4092 - accuracy: 0.8083 - val_loss: 0.4042 - val_accuracy: 0.8051\n",
      "Epoch 41/600\n",
      "217/217 [==============================] - 0s 2ms/step - loss: 0.4048 - accuracy: 0.8066 - val_loss: 0.4028 - val_accuracy: 0.8039\n",
      "Epoch 42/600\n",
      "217/217 [==============================] - 0s 2ms/step - loss: 0.4061 - accuracy: 0.8051 - val_loss: 0.4054 - val_accuracy: 0.8039\n",
      "Epoch 43/600\n",
      "217/217 [==============================] - 0s 2ms/step - loss: 0.4078 - accuracy: 0.8070 - val_loss: 0.4046 - val_accuracy: 0.8016\n",
      "Epoch 44/600\n",
      "217/217 [==============================] - 0s 2ms/step - loss: 0.4097 - accuracy: 0.8040 - val_loss: 0.4070 - val_accuracy: 0.8005\n",
      "Epoch 45/600\n",
      "217/217 [==============================] - 0s 2ms/step - loss: 0.4112 - accuracy: 0.8033 - val_loss: 0.4038 - val_accuracy: 0.8074\n",
      "Epoch 46/600\n",
      "217/217 [==============================] - 0s 2ms/step - loss: 0.4094 - accuracy: 0.8063 - val_loss: 0.4049 - val_accuracy: 0.8045\n",
      "Epoch 47/600\n",
      "217/217 [==============================] - 0s 2ms/step - loss: 0.4079 - accuracy: 0.8064 - val_loss: 0.4038 - val_accuracy: 0.8022\n",
      "Epoch 48/600\n",
      "217/217 [==============================] - 0s 2ms/step - loss: 0.4072 - accuracy: 0.8034 - val_loss: 0.4043 - val_accuracy: 0.8022\n",
      "Epoch 49/600\n",
      "217/217 [==============================] - 0s 2ms/step - loss: 0.4076 - accuracy: 0.8040 - val_loss: 0.4018 - val_accuracy: 0.8051\n",
      "Epoch 50/600\n",
      "217/217 [==============================] - 0s 2ms/step - loss: 0.4076 - accuracy: 0.8035 - val_loss: 0.4029 - val_accuracy: 0.8051\n",
      "Epoch 51/600\n",
      "217/217 [==============================] - 1s 2ms/step - loss: 0.4052 - accuracy: 0.8079 - val_loss: 0.4076 - val_accuracy: 0.8022\n",
      "Epoch 52/600\n",
      "217/217 [==============================] - 0s 2ms/step - loss: 0.4061 - accuracy: 0.8038 - val_loss: 0.4024 - val_accuracy: 0.8039\n",
      "Epoch 53/600\n",
      "217/217 [==============================] - 1s 3ms/step - loss: 0.4019 - accuracy: 0.8034 - val_loss: 0.4041 - val_accuracy: 0.8039\n",
      "Epoch 54/600\n",
      "217/217 [==============================] - 1s 2ms/step - loss: 0.4067 - accuracy: 0.8059 - val_loss: 0.4055 - val_accuracy: 0.8033\n",
      "Epoch 55/600\n",
      "217/217 [==============================] - 0s 2ms/step - loss: 0.4039 - accuracy: 0.8034 - val_loss: 0.4021 - val_accuracy: 0.8010\n",
      "Epoch 56/600\n",
      "217/217 [==============================] - 0s 2ms/step - loss: 0.4061 - accuracy: 0.8046 - val_loss: 0.4058 - val_accuracy: 0.8051\n",
      "Epoch 57/600\n",
      "217/217 [==============================] - 0s 2ms/step - loss: 0.4019 - accuracy: 0.8074 - val_loss: 0.4029 - val_accuracy: 0.8010\n"
     ]
    },
    {
     "name": "stdout",
     "output_type": "stream",
     "text": [
      "Epoch 58/600\n",
      "217/217 [==============================] - 0s 2ms/step - loss: 0.4036 - accuracy: 0.8060 - val_loss: 0.3999 - val_accuracy: 0.8062\n",
      "Epoch 59/600\n",
      "217/217 [==============================] - 0s 2ms/step - loss: 0.4030 - accuracy: 0.8060 - val_loss: 0.4010 - val_accuracy: 0.8062\n",
      "Epoch 60/600\n",
      "217/217 [==============================] - 0s 2ms/step - loss: 0.4063 - accuracy: 0.8069 - val_loss: 0.4046 - val_accuracy: 0.8039\n",
      "Epoch 61/600\n",
      "217/217 [==============================] - 1s 2ms/step - loss: 0.3980 - accuracy: 0.8132 - val_loss: 0.4001 - val_accuracy: 0.8028\n",
      "Epoch 62/600\n",
      "217/217 [==============================] - 0s 2ms/step - loss: 0.4011 - accuracy: 0.8090 - val_loss: 0.4034 - val_accuracy: 0.8028\n",
      "Epoch 63/600\n",
      "217/217 [==============================] - 0s 2ms/step - loss: 0.4066 - accuracy: 0.8083 - val_loss: 0.4016 - val_accuracy: 0.8010\n",
      "Epoch 64/600\n",
      "217/217 [==============================] - 0s 2ms/step - loss: 0.4037 - accuracy: 0.8059 - val_loss: 0.4072 - val_accuracy: 0.7999\n",
      "Epoch 65/600\n",
      "217/217 [==============================] - 0s 2ms/step - loss: 0.4018 - accuracy: 0.8080 - val_loss: 0.4031 - val_accuracy: 0.8033\n",
      "Epoch 66/600\n",
      "217/217 [==============================] - 0s 2ms/step - loss: 0.4035 - accuracy: 0.8070 - val_loss: 0.4029 - val_accuracy: 0.8039\n",
      "Epoch 67/600\n",
      "217/217 [==============================] - 0s 2ms/step - loss: 0.4034 - accuracy: 0.8056 - val_loss: 0.4041 - val_accuracy: 0.8028\n",
      "Epoch 68/600\n",
      "217/217 [==============================] - 0s 2ms/step - loss: 0.3990 - accuracy: 0.8100 - val_loss: 0.4022 - val_accuracy: 0.8039\n",
      "Epoch 69/600\n",
      "217/217 [==============================] - 0s 2ms/step - loss: 0.4011 - accuracy: 0.8085 - val_loss: 0.4035 - val_accuracy: 0.8039\n",
      "Epoch 70/600\n",
      "217/217 [==============================] - 0s 2ms/step - loss: 0.4047 - accuracy: 0.8096 - val_loss: 0.4032 - val_accuracy: 0.8033\n",
      "Epoch 71/600\n",
      "217/217 [==============================] - 0s 2ms/step - loss: 0.4011 - accuracy: 0.8064 - val_loss: 0.4044 - val_accuracy: 0.8039\n",
      "Epoch 72/600\n",
      "217/217 [==============================] - 0s 2ms/step - loss: 0.3995 - accuracy: 0.8100 - val_loss: 0.4031 - val_accuracy: 0.8045\n",
      "Epoch 73/600\n",
      "217/217 [==============================] - 0s 2ms/step - loss: 0.4015 - accuracy: 0.8087 - val_loss: 0.4022 - val_accuracy: 0.8085\n",
      "Epoch 74/600\n",
      "217/217 [==============================] - 0s 2ms/step - loss: 0.4004 - accuracy: 0.8083 - val_loss: 0.4030 - val_accuracy: 0.8016\n",
      "Epoch 75/600\n",
      "217/217 [==============================] - 0s 2ms/step - loss: 0.4013 - accuracy: 0.8105 - val_loss: 0.4059 - val_accuracy: 0.8016\n",
      "Epoch 76/600\n",
      "217/217 [==============================] - 0s 2ms/step - loss: 0.4012 - accuracy: 0.8085 - val_loss: 0.4050 - val_accuracy: 0.8005\n",
      "Epoch 77/600\n",
      "217/217 [==============================] - 0s 2ms/step - loss: 0.4021 - accuracy: 0.8076 - val_loss: 0.4049 - val_accuracy: 0.8005\n",
      "Epoch 78/600\n",
      "217/217 [==============================] - 0s 2ms/step - loss: 0.4003 - accuracy: 0.8060 - val_loss: 0.4055 - val_accuracy: 0.8016\n",
      "Epoch 79/600\n",
      "217/217 [==============================] - 0s 2ms/step - loss: 0.4012 - accuracy: 0.8053 - val_loss: 0.4028 - val_accuracy: 0.7993\n",
      "Epoch 80/600\n",
      "217/217 [==============================] - 0s 2ms/step - loss: 0.4006 - accuracy: 0.8092 - val_loss: 0.4029 - val_accuracy: 0.8045\n",
      "Epoch 81/600\n",
      "217/217 [==============================] - 0s 2ms/step - loss: 0.3989 - accuracy: 0.8113 - val_loss: 0.4029 - val_accuracy: 0.8010\n",
      "Epoch 82/600\n",
      "217/217 [==============================] - 0s 2ms/step - loss: 0.3988 - accuracy: 0.8086 - val_loss: 0.4018 - val_accuracy: 0.8033\n",
      "Epoch 83/600\n",
      "217/217 [==============================] - 0s 2ms/step - loss: 0.3981 - accuracy: 0.8092 - val_loss: 0.4015 - val_accuracy: 0.8022\n",
      "Epoch 84/600\n",
      "217/217 [==============================] - 0s 2ms/step - loss: 0.4020 - accuracy: 0.8056 - val_loss: 0.4050 - val_accuracy: 0.8057\n",
      "Epoch 85/600\n",
      "217/217 [==============================] - 0s 2ms/step - loss: 0.3960 - accuracy: 0.8115 - val_loss: 0.4041 - val_accuracy: 0.8039\n",
      "Epoch 86/600\n",
      "217/217 [==============================] - 0s 2ms/step - loss: 0.4017 - accuracy: 0.8054 - val_loss: 0.4036 - val_accuracy: 0.8016\n",
      "Epoch 86: early stopping\n"
     ]
    },
    {
     "data": {
      "text/plain": [
       "<keras.callbacks.History at 0x17b424e6d90>"
      ]
     },
     "execution_count": 145,
     "metadata": {},
     "output_type": "execute_result"
    }
   ],
   "source": [
    "model.fit(x=X_train_nn,y=y_train_nn,epochs=600,validation_data=(X_test_nn,y_test_nn),callbacks=[early_stop])"
   ]
  },
  {
   "cell_type": "code",
   "execution_count": 146,
   "id": "ef033df3",
   "metadata": {},
   "outputs": [],
   "source": [
    "model_loss = pd.DataFrame(model.history.history)"
   ]
  },
  {
   "cell_type": "code",
   "execution_count": 147,
   "id": "b2cc9bfd",
   "metadata": {},
   "outputs": [
    {
     "data": {
      "text/plain": [
       "<AxesSubplot:>"
      ]
     },
     "execution_count": 147,
     "metadata": {},
     "output_type": "execute_result"
    },
    {
     "data": {
      "image/png": "[encoded data removed]",
      "text/plain": [
       "<Figure size 432x288 with 1 Axes>"
      ]
     },
     "metadata": {
      "needs_background": "light"
     },
     "output_type": "display_data"
    }
   ],
   "source": [
    "model_loss.plot()"
   ]
  },
  {
   "cell_type": "code",
   "execution_count": 148,
   "id": "3152edba",
   "metadata": {},
   "outputs": [],
   "source": [
    "pred_nn = (model.predict(X_test_nn)>0.5).astype('int32')"
   ]
  },
  {
   "cell_type": "code",
   "execution_count": 149,
   "id": "52adefe1",
   "metadata": {
    "scrolled": true
   },
   "outputs": [
    {
     "name": "stdout",
     "output_type": "stream",
     "text": [
      "The Accuracy Score for the model is:  0.8016147635524798\n",
      "\n",
      "              precision    recall  f1-score   support\n",
      "\n",
      "       False       0.80      0.80      0.80       867\n",
      "        True       0.80      0.80      0.80       867\n",
      "\n",
      "    accuracy                           0.80      1734\n",
      "   macro avg       0.80      0.80      0.80      1734\n",
      "weighted avg       0.80      0.80      0.80      1734\n",
      "\n",
      "\n",
      "[[693 174]\n",
      " [170 697]]\n"
     ]
    }
   ],
   "source": [
    "print('The Accuracy Score for the model is: ',accuracy_score(y_test_nn,pred_nn))\n",
    "print('')\n",
    "print(classification_report(y_test_nn,pred_nn))\n",
    "print('')\n",
    "print(confusion_matrix(y_test_nn,pred_nn))"
   ]
  },
  {
   "cell_type": "markdown",
   "id": "b11999d4",
   "metadata": {},
   "source": [
    "### OVERALL WE CAN CONCLUDE THAT THE BEST MODELS WERE XGB CLASSIFIER, RANDOM FOREST CLASSIFIER AND NEURAL NETWORK CLASSIFIER WHICH ALL OF THEM ROUGHLY ACHIEVED AROUND 80% ACCURACY."
   ]
  },
  {
   "cell_type": "code",
   "execution_count": null,
   "id": "6834dde6",
   "metadata": {},
   "outputs": [],
   "source": []
  }
 ],
 "metadata": {
  "kernelspec": {
   "display_name": "Python 3",
   "language": "python",
   "name": "python3"
  },
  "language_info": {
   "codemirror_mode": {
    "name": "ipython",
    "version": 3
   },
   "file_extension": ".py",
   "mimetype": "text/x-python",
   "name": "python",
   "nbconvert_exporter": "python",
   "pygments_lexer": "ipython3",
   "version": "3.8.8"
  }
 },
 "nbformat": 4,
 "nbformat_minor": 5
}
