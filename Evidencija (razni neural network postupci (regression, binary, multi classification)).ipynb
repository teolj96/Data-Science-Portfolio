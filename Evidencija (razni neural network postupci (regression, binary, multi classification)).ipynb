{
 "cells": [
  {
   "cell_type": "code",
   "execution_count": 1,
   "id": "7f2711a2",
   "metadata": {},
   "outputs": [],
   "source": [
    "import numpy as np\n",
    "import pandas as pd\n",
    "import warnings\n",
    "warnings.filterwarnings('ignore')"
   ]
  },
  {
   "cell_type": "code",
   "execution_count": 2,
   "id": "69bbe371",
   "metadata": {},
   "outputs": [],
   "source": [
    "df = pd.read_excel(r'C:/Users/croatia/Desktop/OI_Evidencija_03022022.xlsx')"
   ]
  },
  {
   "cell_type": "code",
   "execution_count": 3,
   "id": "3c0f8576",
   "metadata": {},
   "outputs": [],
   "source": [
    "df = df.drop(['Unnamed: 1','Unnamed: 3','Unnamed: 5','Ukupno','Prosjek','Ukupno kolokviji','Bonus predavanja','Broj položenih kvizova',\n",
    "        'Bodovi s kvizova','Infomacijska sigurnost','potpis','Upis ocjene'],axis=1)"
   ]
  },
  {
   "cell_type": "code",
   "execution_count": 4,
   "id": "bd37a4eb",
   "metadata": {},
   "outputs": [
    {
     "data": {
      "text/html": [
       "<div>\n",
       "<style scoped>\n",
       "    .dataframe tbody tr th:only-of-type {\n",
       "        vertical-align: middle;\n",
       "    }\n",
       "\n",
       "    .dataframe tbody tr th {\n",
       "        vertical-align: top;\n",
       "    }\n",
       "\n",
       "    .dataframe thead th {\n",
       "        text-align: right;\n",
       "    }\n",
       "</style>\n",
       "<table border=\"1\" class=\"dataframe\">\n",
       "  <thead>\n",
       "    <tr style=\"text-align: right;\">\n",
       "      <th></th>\n",
       "      <th>Word</th>\n",
       "      <th>Power Point</th>\n",
       "      <th>Excel</th>\n",
       "      <th>Bonus</th>\n",
       "      <th>Test iz teorije 1</th>\n",
       "      <th>Test iz teorije 2</th>\n",
       "      <th>Bonus teorija</th>\n",
       "      <th>Bonus kviz</th>\n",
       "      <th>Ukupno.1</th>\n",
       "    </tr>\n",
       "  </thead>\n",
       "  <tbody>\n",
       "    <tr>\n",
       "      <th>0</th>\n",
       "      <td>15</td>\n",
       "      <td>5</td>\n",
       "      <td>17.0</td>\n",
       "      <td>5.0</td>\n",
       "      <td>12</td>\n",
       "      <td>16.0</td>\n",
       "      <td>5.0</td>\n",
       "      <td>4.0</td>\n",
       "      <td>93.0</td>\n",
       "    </tr>\n",
       "    <tr>\n",
       "      <th>1</th>\n",
       "      <td>15</td>\n",
       "      <td>4</td>\n",
       "      <td>20.0</td>\n",
       "      <td>5.0</td>\n",
       "      <td>9</td>\n",
       "      <td>16.0</td>\n",
       "      <td>5.0</td>\n",
       "      <td>2.0</td>\n",
       "      <td>90.5</td>\n",
       "    </tr>\n",
       "    <tr>\n",
       "      <th>2</th>\n",
       "      <td>10</td>\n",
       "      <td>5</td>\n",
       "      <td>18.0</td>\n",
       "      <td>5.0</td>\n",
       "      <td>10</td>\n",
       "      <td>17.0</td>\n",
       "      <td>5.0</td>\n",
       "      <td>4.0</td>\n",
       "      <td>89.5</td>\n",
       "    </tr>\n",
       "    <tr>\n",
       "      <th>3</th>\n",
       "      <td>15</td>\n",
       "      <td>5</td>\n",
       "      <td>17.0</td>\n",
       "      <td>5.0</td>\n",
       "      <td>10</td>\n",
       "      <td>12.0</td>\n",
       "      <td>5.0</td>\n",
       "      <td>4.0</td>\n",
       "      <td>86.0</td>\n",
       "    </tr>\n",
       "    <tr>\n",
       "      <th>4</th>\n",
       "      <td>15</td>\n",
       "      <td>4</td>\n",
       "      <td>20.0</td>\n",
       "      <td>5.0</td>\n",
       "      <td>9</td>\n",
       "      <td>10.0</td>\n",
       "      <td>5.0</td>\n",
       "      <td>5.0</td>\n",
       "      <td>84.5</td>\n",
       "    </tr>\n",
       "  </tbody>\n",
       "</table>\n",
       "</div>"
      ],
      "text/plain": [
       "  Word Power Point  Excel  Bonus Test iz teorije 1  Test iz teorije 2  \\\n",
       "0   15           5   17.0    5.0                12               16.0   \n",
       "1   15           4   20.0    5.0                 9               16.0   \n",
       "2   10           5   18.0    5.0                10               17.0   \n",
       "3   15           5   17.0    5.0                10               12.0   \n",
       "4   15           4   20.0    5.0                 9               10.0   \n",
       "\n",
       "   Bonus teorija  Bonus kviz  Ukupno.1  \n",
       "0            5.0         4.0      93.0  \n",
       "1            5.0         2.0      90.5  \n",
       "2            5.0         4.0      89.5  \n",
       "3            5.0         4.0      86.0  \n",
       "4            5.0         5.0      84.5  "
      ]
     },
     "execution_count": 4,
     "metadata": {},
     "output_type": "execute_result"
    }
   ],
   "source": [
    "df.head()"
   ]
  },
  {
   "cell_type": "code",
   "execution_count": 5,
   "id": "9825e2fe",
   "metadata": {},
   "outputs": [],
   "source": [
    "def prolazak(bodovi):\n",
    "    prolaz = []\n",
    "    for i in bodovi:\n",
    "        if i >= 60:\n",
    "            prolaz.append(1)\n",
    "        else:\n",
    "            prolaz.append(0)\n",
    "    return prolaz"
   ]
  },
  {
   "cell_type": "code",
   "execution_count": 6,
   "id": "169b1ae7",
   "metadata": {},
   "outputs": [],
   "source": [
    "df['Prolazak'] = prolazak(df['Ukupno.1'])"
   ]
  },
  {
   "cell_type": "code",
   "execution_count": 7,
   "id": "27db1fd9",
   "metadata": {},
   "outputs": [],
   "source": [
    "def ocijena(bodovi):\n",
    "    ocijena = []\n",
    "    for i in bodovi:\n",
    "        if ((i >= 60) & (i <70)):\n",
    "            ocijena.append(2)\n",
    "        elif ((i >= 70) & (i <80)):\n",
    "            ocijena.append(3)\n",
    "        elif ((i >= 80) & (i <90)):\n",
    "            ocijena.append(4)\n",
    "        elif i >= 90:\n",
    "              ocijena.append(5)\n",
    "        else:\n",
    "              ocijena.append(1)\n",
    "    return ocijena"
   ]
  },
  {
   "cell_type": "code",
   "execution_count": 8,
   "id": "53622a46",
   "metadata": {},
   "outputs": [],
   "source": [
    "df['Ocijena'] = ocijena(df['Ukupno.1'])"
   ]
  },
  {
   "cell_type": "code",
   "execution_count": 9,
   "id": "6be2d818",
   "metadata": {},
   "outputs": [
    {
     "name": "stdout",
     "output_type": "stream",
     "text": [
      "<class 'pandas.core.frame.DataFrame'>\n",
      "RangeIndex: 224 entries, 0 to 223\n",
      "Data columns (total 11 columns):\n",
      " #   Column             Non-Null Count  Dtype  \n",
      "---  ------             --------------  -----  \n",
      " 0   Word               200 non-null    object \n",
      " 1   Power Point        200 non-null    object \n",
      " 2   Excel              111 non-null    float64\n",
      " 3   Bonus              215 non-null    float64\n",
      " 4   Test iz teorije 1  215 non-null    object \n",
      " 5   Test iz teorije 2  113 non-null    float64\n",
      " 6   Bonus teorija      138 non-null    float64\n",
      " 7   Bonus kviz         102 non-null    float64\n",
      " 8   Ukupno.1           215 non-null    float64\n",
      " 9   Prolazak           224 non-null    int64  \n",
      " 10  Ocijena            224 non-null    int64  \n",
      "dtypes: float64(6), int64(2), object(3)\n",
      "memory usage: 19.4+ KB\n"
     ]
    }
   ],
   "source": [
    "df.info()"
   ]
  },
  {
   "cell_type": "code",
   "execution_count": 10,
   "id": "955fd6f6",
   "metadata": {},
   "outputs": [
    {
     "data": {
      "text/plain": [
       "      70\n",
       "15    42\n",
       "14    23\n",
       "13    20\n",
       "10    11\n",
       "0      9\n",
       "11     8\n",
       "12     5\n",
       "8      4\n",
       "9      3\n",
       "4      2\n",
       "6      2\n",
       "3      1\n",
       "Name: Word, dtype: int64"
      ]
     },
     "execution_count": 10,
     "metadata": {},
     "output_type": "execute_result"
    }
   ],
   "source": [
    "df.Word.value_counts()"
   ]
  },
  {
   "cell_type": "code",
   "execution_count": 11,
   "id": "60341e5a",
   "metadata": {},
   "outputs": [],
   "source": [
    "df.Word = df.Word.replace(' ',0)"
   ]
  },
  {
   "cell_type": "code",
   "execution_count": 12,
   "id": "f91afe62",
   "metadata": {},
   "outputs": [],
   "source": [
    "df.Word = df.Word.fillna(0)"
   ]
  },
  {
   "cell_type": "code",
   "execution_count": 13,
   "id": "ff1a1b3a",
   "metadata": {},
   "outputs": [],
   "source": [
    "df['Power Point'] = df['Power Point'].replace(' ',0)\n",
    "df['Power Point'] = df['Power Point'].fillna(0)"
   ]
  },
  {
   "cell_type": "code",
   "execution_count": 14,
   "id": "f9a516a7",
   "metadata": {},
   "outputs": [],
   "source": [
    "df['Excel'] = df['Excel'].replace(' ',0)\n",
    "df['Excel'] = df['Excel'].fillna(0)"
   ]
  },
  {
   "cell_type": "code",
   "execution_count": 15,
   "id": "2ba077aa",
   "metadata": {},
   "outputs": [],
   "source": [
    "for i in df.columns:\n",
    "    df[i].replace(' ',0,inplace=True)\n",
    "    df[i].fillna(0,inplace=True)"
   ]
  },
  {
   "cell_type": "code",
   "execution_count": 16,
   "id": "0ebdd89f",
   "metadata": {},
   "outputs": [
    {
     "data": {
      "text/html": [
       "<div>\n",
       "<style scoped>\n",
       "    .dataframe tbody tr th:only-of-type {\n",
       "        vertical-align: middle;\n",
       "    }\n",
       "\n",
       "    .dataframe tbody tr th {\n",
       "        vertical-align: top;\n",
       "    }\n",
       "\n",
       "    .dataframe thead th {\n",
       "        text-align: right;\n",
       "    }\n",
       "</style>\n",
       "<table border=\"1\" class=\"dataframe\">\n",
       "  <thead>\n",
       "    <tr style=\"text-align: right;\">\n",
       "      <th></th>\n",
       "      <th>Word</th>\n",
       "      <th>Power Point</th>\n",
       "      <th>Excel</th>\n",
       "      <th>Bonus</th>\n",
       "      <th>Test iz teorije 1</th>\n",
       "      <th>Test iz teorije 2</th>\n",
       "      <th>Bonus teorija</th>\n",
       "      <th>Bonus kviz</th>\n",
       "      <th>Ukupno.1</th>\n",
       "      <th>Prolazak</th>\n",
       "      <th>Ocijena</th>\n",
       "    </tr>\n",
       "  </thead>\n",
       "  <tbody>\n",
       "    <tr>\n",
       "      <th>0</th>\n",
       "      <td>15.0</td>\n",
       "      <td>5.0</td>\n",
       "      <td>17.0</td>\n",
       "      <td>5.0</td>\n",
       "      <td>12.0</td>\n",
       "      <td>16.0</td>\n",
       "      <td>5.0</td>\n",
       "      <td>4.0</td>\n",
       "      <td>93.0</td>\n",
       "      <td>1</td>\n",
       "      <td>5</td>\n",
       "    </tr>\n",
       "    <tr>\n",
       "      <th>1</th>\n",
       "      <td>15.0</td>\n",
       "      <td>4.0</td>\n",
       "      <td>20.0</td>\n",
       "      <td>5.0</td>\n",
       "      <td>9.0</td>\n",
       "      <td>16.0</td>\n",
       "      <td>5.0</td>\n",
       "      <td>2.0</td>\n",
       "      <td>90.5</td>\n",
       "      <td>1</td>\n",
       "      <td>5</td>\n",
       "    </tr>\n",
       "    <tr>\n",
       "      <th>2</th>\n",
       "      <td>10.0</td>\n",
       "      <td>5.0</td>\n",
       "      <td>18.0</td>\n",
       "      <td>5.0</td>\n",
       "      <td>10.0</td>\n",
       "      <td>17.0</td>\n",
       "      <td>5.0</td>\n",
       "      <td>4.0</td>\n",
       "      <td>89.5</td>\n",
       "      <td>1</td>\n",
       "      <td>4</td>\n",
       "    </tr>\n",
       "    <tr>\n",
       "      <th>3</th>\n",
       "      <td>15.0</td>\n",
       "      <td>5.0</td>\n",
       "      <td>17.0</td>\n",
       "      <td>5.0</td>\n",
       "      <td>10.0</td>\n",
       "      <td>12.0</td>\n",
       "      <td>5.0</td>\n",
       "      <td>4.0</td>\n",
       "      <td>86.0</td>\n",
       "      <td>1</td>\n",
       "      <td>4</td>\n",
       "    </tr>\n",
       "    <tr>\n",
       "      <th>4</th>\n",
       "      <td>15.0</td>\n",
       "      <td>4.0</td>\n",
       "      <td>20.0</td>\n",
       "      <td>5.0</td>\n",
       "      <td>9.0</td>\n",
       "      <td>10.0</td>\n",
       "      <td>5.0</td>\n",
       "      <td>5.0</td>\n",
       "      <td>84.5</td>\n",
       "      <td>1</td>\n",
       "      <td>4</td>\n",
       "    </tr>\n",
       "    <tr>\n",
       "      <th>...</th>\n",
       "      <td>...</td>\n",
       "      <td>...</td>\n",
       "      <td>...</td>\n",
       "      <td>...</td>\n",
       "      <td>...</td>\n",
       "      <td>...</td>\n",
       "      <td>...</td>\n",
       "      <td>...</td>\n",
       "      <td>...</td>\n",
       "      <td>...</td>\n",
       "      <td>...</td>\n",
       "    </tr>\n",
       "    <tr>\n",
       "      <th>219</th>\n",
       "      <td>0.0</td>\n",
       "      <td>0.0</td>\n",
       "      <td>0.0</td>\n",
       "      <td>0.0</td>\n",
       "      <td>0.0</td>\n",
       "      <td>0.0</td>\n",
       "      <td>0.0</td>\n",
       "      <td>0.0</td>\n",
       "      <td>0.0</td>\n",
       "      <td>0</td>\n",
       "      <td>1</td>\n",
       "    </tr>\n",
       "    <tr>\n",
       "      <th>220</th>\n",
       "      <td>0.0</td>\n",
       "      <td>0.0</td>\n",
       "      <td>0.0</td>\n",
       "      <td>0.0</td>\n",
       "      <td>0.0</td>\n",
       "      <td>0.0</td>\n",
       "      <td>0.0</td>\n",
       "      <td>0.0</td>\n",
       "      <td>0.0</td>\n",
       "      <td>0</td>\n",
       "      <td>1</td>\n",
       "    </tr>\n",
       "    <tr>\n",
       "      <th>221</th>\n",
       "      <td>0.0</td>\n",
       "      <td>0.0</td>\n",
       "      <td>0.0</td>\n",
       "      <td>0.0</td>\n",
       "      <td>0.0</td>\n",
       "      <td>0.0</td>\n",
       "      <td>0.0</td>\n",
       "      <td>0.0</td>\n",
       "      <td>0.0</td>\n",
       "      <td>0</td>\n",
       "      <td>1</td>\n",
       "    </tr>\n",
       "    <tr>\n",
       "      <th>222</th>\n",
       "      <td>0.0</td>\n",
       "      <td>0.0</td>\n",
       "      <td>0.0</td>\n",
       "      <td>0.0</td>\n",
       "      <td>0.0</td>\n",
       "      <td>0.0</td>\n",
       "      <td>0.0</td>\n",
       "      <td>0.0</td>\n",
       "      <td>0.0</td>\n",
       "      <td>0</td>\n",
       "      <td>1</td>\n",
       "    </tr>\n",
       "    <tr>\n",
       "      <th>223</th>\n",
       "      <td>0.0</td>\n",
       "      <td>0.0</td>\n",
       "      <td>0.0</td>\n",
       "      <td>0.0</td>\n",
       "      <td>0.0</td>\n",
       "      <td>0.0</td>\n",
       "      <td>0.0</td>\n",
       "      <td>0.0</td>\n",
       "      <td>0.0</td>\n",
       "      <td>0</td>\n",
       "      <td>1</td>\n",
       "    </tr>\n",
       "  </tbody>\n",
       "</table>\n",
       "<p>224 rows × 11 columns</p>\n",
       "</div>"
      ],
      "text/plain": [
       "     Word  Power Point  Excel  Bonus  Test iz teorije 1  Test iz teorije 2  \\\n",
       "0    15.0          5.0   17.0    5.0               12.0               16.0   \n",
       "1    15.0          4.0   20.0    5.0                9.0               16.0   \n",
       "2    10.0          5.0   18.0    5.0               10.0               17.0   \n",
       "3    15.0          5.0   17.0    5.0               10.0               12.0   \n",
       "4    15.0          4.0   20.0    5.0                9.0               10.0   \n",
       "..    ...          ...    ...    ...                ...                ...   \n",
       "219   0.0          0.0    0.0    0.0                0.0                0.0   \n",
       "220   0.0          0.0    0.0    0.0                0.0                0.0   \n",
       "221   0.0          0.0    0.0    0.0                0.0                0.0   \n",
       "222   0.0          0.0    0.0    0.0                0.0                0.0   \n",
       "223   0.0          0.0    0.0    0.0                0.0                0.0   \n",
       "\n",
       "     Bonus teorija  Bonus kviz  Ukupno.1  Prolazak  Ocijena  \n",
       "0              5.0         4.0      93.0         1        5  \n",
       "1              5.0         2.0      90.5         1        5  \n",
       "2              5.0         4.0      89.5         1        4  \n",
       "3              5.0         4.0      86.0         1        4  \n",
       "4              5.0         5.0      84.5         1        4  \n",
       "..             ...         ...       ...       ...      ...  \n",
       "219            0.0         0.0       0.0         0        1  \n",
       "220            0.0         0.0       0.0         0        1  \n",
       "221            0.0         0.0       0.0         0        1  \n",
       "222            0.0         0.0       0.0         0        1  \n",
       "223            0.0         0.0       0.0         0        1  \n",
       "\n",
       "[224 rows x 11 columns]"
      ]
     },
     "execution_count": 16,
     "metadata": {},
     "output_type": "execute_result"
    }
   ],
   "source": [
    "df"
   ]
  },
  {
   "cell_type": "code",
   "execution_count": 17,
   "id": "92c9f45c",
   "metadata": {},
   "outputs": [],
   "source": [
    "import matplotlib.pyplot as plt\n",
    "import seaborn as sns"
   ]
  },
  {
   "cell_type": "code",
   "execution_count": 18,
   "id": "eec6b373",
   "metadata": {},
   "outputs": [
    {
     "data": {
      "text/plain": [
       "<AxesSubplot:>"
      ]
     },
     "execution_count": 18,
     "metadata": {},
     "output_type": "execute_result"
    },
    {
     "data": {
      "image/png": "[encoded data removed]",
      "text/plain": [
       "<Figure size 432x288 with 2 Axes>"
      ]
     },
     "metadata": {
      "needs_background": "light"
     },
     "output_type": "display_data"
    }
   ],
   "source": [
    "sns.heatmap(df.corr())"
   ]
  },
  {
   "cell_type": "code",
   "execution_count": 19,
   "id": "952c8a3b",
   "metadata": {},
   "outputs": [],
   "source": [
    "#TRI KLASIFIKACIJE, JEDNA REGRESIJA, JEDNA BINARNA KLASIFIKACIJA, DRUGA MULTI CLASS KLASIFIKACIJA"
   ]
  },
  {
   "cell_type": "code",
   "execution_count": 20,
   "id": "19f345d8",
   "metadata": {
    "scrolled": false
   },
   "outputs": [
    {
     "data": {
      "text/plain": [
       "<AxesSubplot:xlabel='Ocijena', ylabel='count'>"
      ]
     },
     "execution_count": 20,
     "metadata": {},
     "output_type": "execute_result"
    },
    {
     "data": {
      "image/png": "[encoded data removed]",
      "text/plain": [
       "<Figure size 432x288 with 1 Axes>"
      ]
     },
     "metadata": {
      "needs_background": "light"
     },
     "output_type": "display_data"
    }
   ],
   "source": [
    "sns.countplot(df.Ocijena)"
   ]
  },
  {
   "cell_type": "code",
   "execution_count": 21,
   "id": "5f12136d",
   "metadata": {},
   "outputs": [
    {
     "data": {
      "text/html": [
       "<div>\n",
       "<style scoped>\n",
       "    .dataframe tbody tr th:only-of-type {\n",
       "        vertical-align: middle;\n",
       "    }\n",
       "\n",
       "    .dataframe tbody tr th {\n",
       "        vertical-align: top;\n",
       "    }\n",
       "\n",
       "    .dataframe thead th {\n",
       "        text-align: right;\n",
       "    }\n",
       "</style>\n",
       "<table border=\"1\" class=\"dataframe\">\n",
       "  <thead>\n",
       "    <tr style=\"text-align: right;\">\n",
       "      <th></th>\n",
       "      <th>Word</th>\n",
       "      <th>Power Point</th>\n",
       "      <th>Excel</th>\n",
       "      <th>Bonus</th>\n",
       "      <th>Test iz teorije 1</th>\n",
       "      <th>Test iz teorije 2</th>\n",
       "      <th>Bonus teorija</th>\n",
       "      <th>Bonus kviz</th>\n",
       "      <th>Ukupno.1</th>\n",
       "      <th>Prolazak</th>\n",
       "      <th>Ocijena</th>\n",
       "    </tr>\n",
       "  </thead>\n",
       "  <tbody>\n",
       "    <tr>\n",
       "      <th>0</th>\n",
       "      <td>15.0</td>\n",
       "      <td>5.0</td>\n",
       "      <td>17.0</td>\n",
       "      <td>5.0</td>\n",
       "      <td>12.0</td>\n",
       "      <td>16.0</td>\n",
       "      <td>5.0</td>\n",
       "      <td>4.0</td>\n",
       "      <td>93.0</td>\n",
       "      <td>1</td>\n",
       "      <td>5</td>\n",
       "    </tr>\n",
       "    <tr>\n",
       "      <th>1</th>\n",
       "      <td>15.0</td>\n",
       "      <td>4.0</td>\n",
       "      <td>20.0</td>\n",
       "      <td>5.0</td>\n",
       "      <td>9.0</td>\n",
       "      <td>16.0</td>\n",
       "      <td>5.0</td>\n",
       "      <td>2.0</td>\n",
       "      <td>90.5</td>\n",
       "      <td>1</td>\n",
       "      <td>5</td>\n",
       "    </tr>\n",
       "  </tbody>\n",
       "</table>\n",
       "</div>"
      ],
      "text/plain": [
       "   Word  Power Point  Excel  Bonus  Test iz teorije 1  Test iz teorije 2  \\\n",
       "0  15.0          5.0   17.0    5.0               12.0               16.0   \n",
       "1  15.0          4.0   20.0    5.0                9.0               16.0   \n",
       "\n",
       "   Bonus teorija  Bonus kviz  Ukupno.1  Prolazak  Ocijena  \n",
       "0            5.0         4.0      93.0         1        5  \n",
       "1            5.0         2.0      90.5         1        5  "
      ]
     },
     "execution_count": 21,
     "metadata": {},
     "output_type": "execute_result"
    }
   ],
   "source": [
    "df.head(2)"
   ]
  },
  {
   "cell_type": "code",
   "execution_count": 22,
   "id": "bfb5e306",
   "metadata": {},
   "outputs": [],
   "source": [
    "df = df.iloc[:-50]"
   ]
  },
  {
   "cell_type": "code",
   "execution_count": 23,
   "id": "889256f6",
   "metadata": {},
   "outputs": [],
   "source": [
    "#REGRESIJA\n",
    "\n",
    "X = df.drop(['Ukupno.1','Prolazak','Ocijena','Test iz teorije 1','Test iz teorije 2'],axis=1).values\n",
    "y = df['Ukupno.1'].values"
   ]
  },
  {
   "cell_type": "code",
   "execution_count": 24,
   "id": "a3260fef",
   "metadata": {},
   "outputs": [],
   "source": [
    "from sklearn.model_selection import train_test_split"
   ]
  },
  {
   "cell_type": "code",
   "execution_count": 25,
   "id": "cba77c32",
   "metadata": {},
   "outputs": [],
   "source": [
    "X_train, X_test, y_train, y_test = train_test_split(X, y, test_size=0.20, random_state=42)"
   ]
  },
  {
   "cell_type": "code",
   "execution_count": 26,
   "id": "8043b40a",
   "metadata": {},
   "outputs": [],
   "source": [
    "from sklearn.preprocessing import MinMaxScaler"
   ]
  },
  {
   "cell_type": "code",
   "execution_count": 27,
   "id": "2b74e2ce",
   "metadata": {},
   "outputs": [],
   "source": [
    "scaler = MinMaxScaler()"
   ]
  },
  {
   "cell_type": "code",
   "execution_count": 28,
   "id": "fe2e5605",
   "metadata": {},
   "outputs": [],
   "source": [
    "X_train = scaler.fit_transform(X_train)\n",
    "X_test = scaler.transform(X_test)"
   ]
  },
  {
   "cell_type": "code",
   "execution_count": 29,
   "id": "251518a8",
   "metadata": {},
   "outputs": [
    {
     "data": {
      "text/plain": [
       "(139, 6)"
      ]
     },
     "execution_count": 29,
     "metadata": {},
     "output_type": "execute_result"
    }
   ],
   "source": [
    "X_train.shape"
   ]
  },
  {
   "cell_type": "code",
   "execution_count": 30,
   "id": "cd63f064",
   "metadata": {},
   "outputs": [],
   "source": [
    "from tensorflow.keras.models import Sequential\n",
    "from tensorflow.keras.layers import Dense"
   ]
  },
  {
   "cell_type": "code",
   "execution_count": 31,
   "id": "80ba4fd8",
   "metadata": {},
   "outputs": [],
   "source": [
    "# STVARANJE REGRESIJSKOG MODELA"
   ]
  },
  {
   "cell_type": "code",
   "execution_count": 32,
   "id": "6f373df6",
   "metadata": {},
   "outputs": [],
   "source": [
    "model = Sequential()\n",
    "\n",
    "model.add(Dense(6,activation='relu'))\n",
    "model.add(Dense(30,activation='relu'))\n",
    "model.add(Dense(30,activation='relu'))\n",
    "\n",
    "model.add(Dense(1))\n",
    "\n",
    "model.compile(optimizer='adam',loss='mae')"
   ]
  },
  {
   "cell_type": "code",
   "execution_count": 33,
   "id": "e87dcfbf",
   "metadata": {
    "scrolled": true
   },
   "outputs": [
    {
     "name": "stdout",
     "output_type": "stream",
     "text": [
      "Epoch 1/200\n",
      "5/5 [==============================] - 1s 48ms/step - loss: 42.3256 - val_loss: 45.1938\n",
      "Epoch 2/200\n",
      "5/5 [==============================] - 0s 10ms/step - loss: 42.2539 - val_loss: 45.1176\n",
      "Epoch 3/200\n",
      "5/5 [==============================] - 0s 10ms/step - loss: 42.1813 - val_loss: 45.0344\n",
      "Epoch 4/200\n",
      "5/5 [==============================] - 0s 9ms/step - loss: 42.1070 - val_loss: 44.9440\n",
      "Epoch 5/200\n",
      "5/5 [==============================] - 0s 9ms/step - loss: 42.0182 - val_loss: 44.8450\n",
      "Epoch 6/200\n",
      "5/5 [==============================] - 0s 9ms/step - loss: 41.9281 - val_loss: 44.7318\n",
      "Epoch 7/200\n",
      "5/5 [==============================] - 0s 10ms/step - loss: 41.8257 - val_loss: 44.6069\n",
      "Epoch 8/200\n",
      "5/5 [==============================] - 0s 9ms/step - loss: 41.7104 - val_loss: 44.4671\n",
      "Epoch 9/200\n",
      "5/5 [==============================] - 0s 11ms/step - loss: 41.5775 - val_loss: 44.3068\n",
      "Epoch 10/200\n",
      "5/5 [==============================] - 0s 10ms/step - loss: 41.4218 - val_loss: 44.1206\n",
      "Epoch 11/200\n",
      "5/5 [==============================] - 0s 9ms/step - loss: 41.2435 - val_loss: 43.8998\n",
      "Epoch 12/200\n",
      "5/5 [==============================] - 0s 9ms/step - loss: 41.0293 - val_loss: 43.6356\n",
      "Epoch 13/200\n",
      "5/5 [==============================] - 0s 9ms/step - loss: 40.7764 - val_loss: 43.3148\n",
      "Epoch 14/200\n",
      "5/5 [==============================] - 0s 9ms/step - loss: 40.4696 - val_loss: 42.9266\n",
      "Epoch 15/200\n",
      "5/5 [==============================] - 0s 8ms/step - loss: 40.1212 - val_loss: 42.4743\n",
      "Epoch 16/200\n",
      "5/5 [==============================] - 0s 9ms/step - loss: 39.6779 - val_loss: 41.9459\n",
      "Epoch 17/200\n",
      "5/5 [==============================] - 0s 9ms/step - loss: 39.1792 - val_loss: 41.3091\n",
      "Epoch 18/200\n",
      "5/5 [==============================] - 0s 8ms/step - loss: 38.5773 - val_loss: 40.5602\n",
      "Epoch 19/200\n",
      "5/5 [==============================] - 0s 8ms/step - loss: 37.9216 - val_loss: 39.7264\n",
      "Epoch 20/200\n",
      "5/5 [==============================] - 0s 9ms/step - loss: 37.1116 - val_loss: 38.7913\n",
      "Epoch 21/200\n",
      "5/5 [==============================] - 0s 8ms/step - loss: 36.2009 - val_loss: 37.7209\n",
      "Epoch 22/200\n",
      "5/5 [==============================] - 0s 9ms/step - loss: 35.0756 - val_loss: 36.5135\n",
      "Epoch 23/200\n",
      "5/5 [==============================] - 0s 8ms/step - loss: 33.8553 - val_loss: 35.1004\n",
      "Epoch 24/200\n",
      "5/5 [==============================] - 0s 9ms/step - loss: 32.4110 - val_loss: 33.4606\n",
      "Epoch 25/200\n",
      "5/5 [==============================] - 0s 9ms/step - loss: 30.6511 - val_loss: 31.5669\n",
      "Epoch 26/200\n",
      "5/5 [==============================] - 0s 9ms/step - loss: 28.8158 - val_loss: 29.3483\n",
      "Epoch 27/200\n",
      "5/5 [==============================] - 0s 10ms/step - loss: 26.4909 - val_loss: 26.8487\n",
      "Epoch 28/200\n",
      "5/5 [==============================] - 0s 9ms/step - loss: 23.8776 - val_loss: 23.9787\n",
      "Epoch 29/200\n",
      "5/5 [==============================] - 0s 8ms/step - loss: 20.9603 - val_loss: 20.6618\n",
      "Epoch 30/200\n",
      "5/5 [==============================] - 0s 9ms/step - loss: 17.5290 - val_loss: 16.9076\n",
      "Epoch 31/200\n",
      "5/5 [==============================] - 0s 9ms/step - loss: 13.7950 - val_loss: 12.7198\n",
      "Epoch 32/200\n",
      "5/5 [==============================] - 0s 9ms/step - loss: 10.6237 - val_loss: 9.9682\n",
      "Epoch 33/200\n",
      "5/5 [==============================] - 0s 9ms/step - loss: 9.1337 - val_loss: 10.1168\n",
      "Epoch 34/200\n",
      "5/5 [==============================] - 0s 9ms/step - loss: 9.3470 - val_loss: 10.0758\n",
      "Epoch 35/200\n",
      "5/5 [==============================] - 0s 8ms/step - loss: 9.0892 - val_loss: 9.7457\n",
      "Epoch 36/200\n",
      "5/5 [==============================] - 0s 9ms/step - loss: 8.6920 - val_loss: 9.5645\n",
      "Epoch 37/200\n",
      "5/5 [==============================] - 0s 9ms/step - loss: 8.6447 - val_loss: 9.4949\n",
      "Epoch 38/200\n",
      "5/5 [==============================] - 0s 9ms/step - loss: 8.5458 - val_loss: 9.3702\n",
      "Epoch 39/200\n",
      "5/5 [==============================] - 0s 8ms/step - loss: 8.4201 - val_loss: 9.2783\n",
      "Epoch 40/200\n",
      "5/5 [==============================] - 0s 9ms/step - loss: 8.2841 - val_loss: 9.1791\n",
      "Epoch 41/200\n",
      "5/5 [==============================] - 0s 9ms/step - loss: 8.1738 - val_loss: 9.0566\n",
      "Epoch 42/200\n",
      "5/5 [==============================] - 0s 9ms/step - loss: 8.0674 - val_loss: 8.9350\n",
      "Epoch 43/200\n",
      "5/5 [==============================] - 0s 8ms/step - loss: 7.9323 - val_loss: 8.8171\n",
      "Epoch 44/200\n",
      "5/5 [==============================] - 0s 9ms/step - loss: 7.8172 - val_loss: 8.6934\n",
      "Epoch 45/200\n",
      "5/5 [==============================] - 0s 9ms/step - loss: 7.6889 - val_loss: 8.5622\n",
      "Epoch 46/200\n",
      "5/5 [==============================] - 0s 9ms/step - loss: 7.5489 - val_loss: 8.4302\n",
      "Epoch 47/200\n",
      "5/5 [==============================] - 0s 8ms/step - loss: 7.4326 - val_loss: 8.2915\n",
      "Epoch 48/200\n",
      "5/5 [==============================] - 0s 9ms/step - loss: 7.2922 - val_loss: 8.1391\n",
      "Epoch 49/200\n",
      "5/5 [==============================] - 0s 8ms/step - loss: 7.1385 - val_loss: 7.9953\n",
      "Epoch 50/200\n",
      "5/5 [==============================] - 0s 9ms/step - loss: 7.0216 - val_loss: 7.8529\n",
      "Epoch 51/200\n",
      "5/5 [==============================] - 0s 9ms/step - loss: 6.8912 - val_loss: 7.7100\n",
      "Epoch 52/200\n",
      "5/5 [==============================] - 0s 9ms/step - loss: 6.7622 - val_loss: 7.5671\n",
      "Epoch 53/200\n",
      "5/5 [==============================] - 0s 9ms/step - loss: 6.6297 - val_loss: 7.4237\n",
      "Epoch 54/200\n",
      "5/5 [==============================] - 0s 9ms/step - loss: 6.5105 - val_loss: 7.2793\n",
      "Epoch 55/200\n",
      "5/5 [==============================] - 0s 9ms/step - loss: 6.3962 - val_loss: 7.1268\n",
      "Epoch 56/200\n",
      "5/5 [==============================] - 0s 9ms/step - loss: 6.2517 - val_loss: 6.9789\n",
      "Epoch 57/200\n",
      "5/5 [==============================] - 0s 10ms/step - loss: 6.1349 - val_loss: 6.8322\n",
      "Epoch 58/200\n",
      "5/5 [==============================] - 0s 9ms/step - loss: 6.0129 - val_loss: 6.6839\n",
      "Epoch 59/200\n",
      "5/5 [==============================] - 0s 9ms/step - loss: 5.8958 - val_loss: 6.5303\n",
      "Epoch 60/200\n",
      "5/5 [==============================] - 0s 9ms/step - loss: 5.7759 - val_loss: 6.3856\n",
      "Epoch 61/200\n",
      "5/5 [==============================] - 0s 8ms/step - loss: 5.6123 - val_loss: 6.2284\n",
      "Epoch 62/200\n",
      "5/5 [==============================] - 0s 9ms/step - loss: 5.5104 - val_loss: 6.0614\n",
      "Epoch 63/200\n",
      "5/5 [==============================] - 0s 9ms/step - loss: 5.3601 - val_loss: 5.9189\n",
      "Epoch 64/200\n",
      "5/5 [==============================] - 0s 9ms/step - loss: 5.2408 - val_loss: 5.7623\n",
      "Epoch 65/200\n",
      "5/5 [==============================] - 0s 9ms/step - loss: 5.0976 - val_loss: 5.5814\n",
      "Epoch 66/200\n",
      "5/5 [==============================] - 0s 9ms/step - loss: 4.9705 - val_loss: 5.4236\n",
      "Epoch 67/200\n",
      "5/5 [==============================] - 0s 8ms/step - loss: 4.8321 - val_loss: 5.3226\n",
      "Epoch 68/200\n",
      "5/5 [==============================] - 0s 8ms/step - loss: 4.7311 - val_loss: 5.2225\n",
      "Epoch 69/200\n",
      "5/5 [==============================] - 0s 9ms/step - loss: 4.6470 - val_loss: 5.1115\n",
      "Epoch 70/200\n",
      "5/5 [==============================] - 0s 9ms/step - loss: 4.5157 - val_loss: 5.0261\n",
      "Epoch 71/200\n",
      "5/5 [==============================] - 0s 8ms/step - loss: 4.5091 - val_loss: 5.0021\n",
      "Epoch 72/200\n",
      "5/5 [==============================] - 0s 9ms/step - loss: 4.4347 - val_loss: 4.9139\n",
      "Epoch 73/200\n",
      "5/5 [==============================] - 0s 8ms/step - loss: 4.3997 - val_loss: 4.8648\n",
      "Epoch 74/200\n",
      "5/5 [==============================] - 0s 8ms/step - loss: 4.3547 - val_loss: 4.8070\n",
      "Epoch 75/200\n",
      "5/5 [==============================] - 0s 9ms/step - loss: 4.3297 - val_loss: 4.7753\n",
      "Epoch 76/200\n",
      "5/5 [==============================] - 0s 9ms/step - loss: 4.3031 - val_loss: 4.7234\n",
      "Epoch 77/200\n",
      "5/5 [==============================] - 0s 9ms/step - loss: 4.2706 - val_loss: 4.6927\n",
      "Epoch 78/200\n",
      "5/5 [==============================] - 0s 10ms/step - loss: 4.2673 - val_loss: 4.6544\n",
      "Epoch 79/200\n",
      "5/5 [==============================] - 0s 9ms/step - loss: 4.2340 - val_loss: 4.6272\n",
      "Epoch 80/200\n",
      "5/5 [==============================] - 0s 9ms/step - loss: 4.2155 - val_loss: 4.5945\n",
      "Epoch 81/200\n",
      "5/5 [==============================] - 0s 9ms/step - loss: 4.1852 - val_loss: 4.5721\n",
      "Epoch 82/200\n",
      "5/5 [==============================] - 0s 9ms/step - loss: 4.1911 - val_loss: 4.5358\n",
      "Epoch 83/200\n",
      "5/5 [==============================] - 0s 8ms/step - loss: 4.1711 - val_loss: 4.5107\n"
     ]
    },
    {
     "name": "stdout",
     "output_type": "stream",
     "text": [
      "Epoch 84/200\n",
      "5/5 [==============================] - 0s 8ms/step - loss: 4.1461 - val_loss: 4.4878\n",
      "Epoch 85/200\n",
      "5/5 [==============================] - 0s 8ms/step - loss: 4.1734 - val_loss: 4.4929\n",
      "Epoch 86/200\n",
      "5/5 [==============================] - 0s 9ms/step - loss: 4.1797 - val_loss: 4.4455\n",
      "Epoch 87/200\n",
      "5/5 [==============================] - 0s 9ms/step - loss: 4.1362 - val_loss: 4.4097\n",
      "Epoch 88/200\n",
      "5/5 [==============================] - 0s 8ms/step - loss: 4.0928 - val_loss: 4.3858\n",
      "Epoch 89/200\n",
      "5/5 [==============================] - 0s 9ms/step - loss: 4.0966 - val_loss: 4.3559\n",
      "Epoch 90/200\n",
      "5/5 [==============================] - 0s 9ms/step - loss: 4.1351 - val_loss: 4.3330\n",
      "Epoch 91/200\n",
      "5/5 [==============================] - 0s 9ms/step - loss: 4.1620 - val_loss: 4.3253\n",
      "Epoch 92/200\n",
      "5/5 [==============================] - 0s 8ms/step - loss: 4.0784 - val_loss: 4.3105\n",
      "Epoch 93/200\n",
      "5/5 [==============================] - 0s 9ms/step - loss: 4.0556 - val_loss: 4.2883\n",
      "Epoch 94/200\n",
      "5/5 [==============================] - 0s 9ms/step - loss: 4.0668 - val_loss: 4.2556\n",
      "Epoch 95/200\n",
      "5/5 [==============================] - 0s 9ms/step - loss: 4.0174 - val_loss: 4.2378\n",
      "Epoch 96/200\n",
      "5/5 [==============================] - 0s 9ms/step - loss: 4.0324 - val_loss: 4.2062\n",
      "Epoch 97/200\n",
      "5/5 [==============================] - 0s 9ms/step - loss: 3.9994 - val_loss: 4.1837\n",
      "Epoch 98/200\n",
      "5/5 [==============================] - 0s 9ms/step - loss: 3.9918 - val_loss: 4.1668\n",
      "Epoch 99/200\n",
      "5/5 [==============================] - 0s 9ms/step - loss: 3.9999 - val_loss: 4.1533\n",
      "Epoch 100/200\n",
      "5/5 [==============================] - 0s 9ms/step - loss: 4.0159 - val_loss: 4.1583\n",
      "Epoch 101/200\n",
      "5/5 [==============================] - 0s 9ms/step - loss: 3.9936 - val_loss: 4.1338\n",
      "Epoch 102/200\n",
      "5/5 [==============================] - 0s 10ms/step - loss: 3.9646 - val_loss: 4.1309\n",
      "Epoch 103/200\n",
      "5/5 [==============================] - 0s 9ms/step - loss: 3.9827 - val_loss: 4.1062\n",
      "Epoch 104/200\n",
      "5/5 [==============================] - 0s 9ms/step - loss: 3.9489 - val_loss: 4.0971\n",
      "Epoch 105/200\n",
      "5/5 [==============================] - 0s 9ms/step - loss: 3.9448 - val_loss: 4.0768\n",
      "Epoch 106/200\n",
      "5/5 [==============================] - 0s 9ms/step - loss: 3.9379 - val_loss: 4.0641\n",
      "Epoch 107/200\n",
      "5/5 [==============================] - 0s 9ms/step - loss: 3.9236 - val_loss: 4.0439\n",
      "Epoch 108/200\n",
      "5/5 [==============================] - 0s 9ms/step - loss: 3.9259 - val_loss: 4.0272\n",
      "Epoch 109/200\n",
      "5/5 [==============================] - 0s 9ms/step - loss: 3.9311 - val_loss: 4.0145\n",
      "Epoch 110/200\n",
      "5/5 [==============================] - 0s 10ms/step - loss: 3.9065 - val_loss: 3.9994\n",
      "Epoch 111/200\n",
      "5/5 [==============================] - 0s 10ms/step - loss: 3.8967 - val_loss: 3.9872\n",
      "Epoch 112/200\n",
      "5/5 [==============================] - 0s 8ms/step - loss: 3.9100 - val_loss: 3.9791\n",
      "Epoch 113/200\n",
      "5/5 [==============================] - 0s 9ms/step - loss: 3.8883 - val_loss: 3.9566\n",
      "Epoch 114/200\n",
      "5/5 [==============================] - 0s 8ms/step - loss: 3.9238 - val_loss: 3.9825\n",
      "Epoch 115/200\n",
      "5/5 [==============================] - 0s 9ms/step - loss: 3.9200 - val_loss: 3.9604\n",
      "Epoch 116/200\n",
      "5/5 [==============================] - 0s 9ms/step - loss: 3.9195 - val_loss: 3.9182\n",
      "Epoch 117/200\n",
      "5/5 [==============================] - 0s 9ms/step - loss: 3.8706 - val_loss: 3.9322\n",
      "Epoch 118/200\n",
      "5/5 [==============================] - 0s 9ms/step - loss: 3.8614 - val_loss: 3.8982\n",
      "Epoch 119/200\n",
      "5/5 [==============================] - 0s 9ms/step - loss: 3.8547 - val_loss: 3.8841\n",
      "Epoch 120/200\n",
      "5/5 [==============================] - 0s 8ms/step - loss: 3.8579 - val_loss: 3.8783\n",
      "Epoch 121/200\n",
      "5/5 [==============================] - 0s 13ms/step - loss: 3.8833 - val_loss: 3.8683\n",
      "Epoch 122/200\n",
      "5/5 [==============================] - 0s 9ms/step - loss: 3.8467 - val_loss: 3.8635\n",
      "Epoch 123/200\n",
      "5/5 [==============================] - 0s 8ms/step - loss: 3.8348 - val_loss: 3.8535\n",
      "Epoch 124/200\n",
      "5/5 [==============================] - 0s 8ms/step - loss: 3.8424 - val_loss: 3.8393\n",
      "Epoch 125/200\n",
      "5/5 [==============================] - 0s 8ms/step - loss: 3.8275 - val_loss: 3.8527\n",
      "Epoch 126/200\n",
      "5/5 [==============================] - 0s 9ms/step - loss: 3.8249 - val_loss: 3.8325\n",
      "Epoch 127/200\n",
      "5/5 [==============================] - 0s 10ms/step - loss: 3.8254 - val_loss: 3.8239\n",
      "Epoch 128/200\n",
      "5/5 [==============================] - 0s 9ms/step - loss: 3.8126 - val_loss: 3.8085\n",
      "Epoch 129/200\n",
      "5/5 [==============================] - 0s 8ms/step - loss: 3.8210 - val_loss: 3.7975\n",
      "Epoch 130/200\n",
      "5/5 [==============================] - 0s 8ms/step - loss: 3.8126 - val_loss: 3.7868\n",
      "Epoch 131/200\n",
      "5/5 [==============================] - 0s 9ms/step - loss: 3.8204 - val_loss: 3.7857\n",
      "Epoch 132/200\n",
      "5/5 [==============================] - 0s 8ms/step - loss: 3.7851 - val_loss: 3.7718\n",
      "Epoch 133/200\n",
      "5/5 [==============================] - 0s 9ms/step - loss: 3.7904 - val_loss: 3.7835\n",
      "Epoch 134/200\n",
      "5/5 [==============================] - 0s 9ms/step - loss: 3.8738 - val_loss: 3.8186\n",
      "Epoch 135/200\n",
      "5/5 [==============================] - 0s 9ms/step - loss: 3.8576 - val_loss: 3.8497\n",
      "Epoch 136/200\n",
      "5/5 [==============================] - 0s 9ms/step - loss: 3.8271 - val_loss: 3.7895\n",
      "Epoch 137/200\n",
      "5/5 [==============================] - 0s 9ms/step - loss: 3.8049 - val_loss: 3.7862\n",
      "Epoch 138/200\n",
      "5/5 [==============================] - 0s 9ms/step - loss: 3.8035 - val_loss: 3.7604\n",
      "Epoch 139/200\n",
      "5/5 [==============================] - 0s 8ms/step - loss: 3.7821 - val_loss: 3.7533\n",
      "Epoch 140/200\n",
      "5/5 [==============================] - 0s 9ms/step - loss: 3.7839 - val_loss: 3.7365\n",
      "Epoch 141/200\n",
      "5/5 [==============================] - 0s 9ms/step - loss: 3.7775 - val_loss: 3.7267\n",
      "Epoch 142/200\n",
      "5/5 [==============================] - 0s 9ms/step - loss: 3.7760 - val_loss: 3.7288\n",
      "Epoch 143/200\n",
      "5/5 [==============================] - 0s 9ms/step - loss: 3.7652 - val_loss: 3.7143\n",
      "Epoch 144/200\n",
      "5/5 [==============================] - 0s 8ms/step - loss: 3.7584 - val_loss: 3.7175\n",
      "Epoch 145/200\n",
      "5/5 [==============================] - 0s 8ms/step - loss: 3.7620 - val_loss: 3.7168\n",
      "Epoch 146/200\n",
      "5/5 [==============================] - 0s 9ms/step - loss: 3.7539 - val_loss: 3.7016\n",
      "Epoch 147/200\n",
      "5/5 [==============================] - 0s 9ms/step - loss: 3.7560 - val_loss: 3.6987\n",
      "Epoch 148/200\n",
      "5/5 [==============================] - 0s 9ms/step - loss: 3.7539 - val_loss: 3.6972\n",
      "Epoch 149/200\n",
      "5/5 [==============================] - 0s 9ms/step - loss: 3.7533 - val_loss: 3.6867\n",
      "Epoch 150/200\n",
      "5/5 [==============================] - 0s 9ms/step - loss: 3.7643 - val_loss: 3.6834\n",
      "Epoch 151/200\n",
      "5/5 [==============================] - 0s 9ms/step - loss: 3.7559 - val_loss: 3.6747\n",
      "Epoch 152/200\n",
      "5/5 [==============================] - 0s 9ms/step - loss: 3.7486 - val_loss: 3.7261\n",
      "Epoch 153/200\n",
      "5/5 [==============================] - 0s 8ms/step - loss: 3.7606 - val_loss: 3.6655\n",
      "Epoch 154/200\n",
      "5/5 [==============================] - 0s 8ms/step - loss: 3.7463 - val_loss: 3.6707\n",
      "Epoch 155/200\n",
      "5/5 [==============================] - 0s 8ms/step - loss: 3.7512 - val_loss: 3.6613\n",
      "Epoch 156/200\n",
      "5/5 [==============================] - 0s 8ms/step - loss: 3.7370 - val_loss: 3.6759\n",
      "Epoch 157/200\n",
      "5/5 [==============================] - 0s 8ms/step - loss: 3.7360 - val_loss: 3.6543\n",
      "Epoch 158/200\n",
      "5/5 [==============================] - 0s 9ms/step - loss: 3.7347 - val_loss: 3.6394\n",
      "Epoch 159/200\n",
      "5/5 [==============================] - 0s 9ms/step - loss: 3.7341 - val_loss: 3.6351\n",
      "Epoch 160/200\n",
      "5/5 [==============================] - 0s 9ms/step - loss: 3.7249 - val_loss: 3.6423\n",
      "Epoch 161/200\n",
      "5/5 [==============================] - 0s 9ms/step - loss: 3.7247 - val_loss: 3.6320\n",
      "Epoch 162/200\n",
      "5/5 [==============================] - 0s 8ms/step - loss: 3.7443 - val_loss: 3.6315\n",
      "Epoch 163/200\n",
      "5/5 [==============================] - 0s 9ms/step - loss: 3.7243 - val_loss: 3.6608\n",
      "Epoch 164/200\n",
      "5/5 [==============================] - 0s 9ms/step - loss: 3.7355 - val_loss: 3.6098\n",
      "Epoch 165/200\n",
      "5/5 [==============================] - 0s 8ms/step - loss: 3.7291 - val_loss: 3.6106\n",
      "Epoch 166/200\n",
      "5/5 [==============================] - 0s 9ms/step - loss: 3.8359 - val_loss: 3.7158\n"
     ]
    },
    {
     "name": "stdout",
     "output_type": "stream",
     "text": [
      "Epoch 167/200\n",
      "5/5 [==============================] - 0s 9ms/step - loss: 3.7348 - val_loss: 3.5996\n",
      "Epoch 168/200\n",
      "5/5 [==============================] - 0s 8ms/step - loss: 3.7107 - val_loss: 3.5956\n",
      "Epoch 169/200\n",
      "5/5 [==============================] - 0s 8ms/step - loss: 3.7226 - val_loss: 3.6024\n",
      "Epoch 170/200\n",
      "5/5 [==============================] - 0s 8ms/step - loss: 3.7206 - val_loss: 3.6038\n",
      "Epoch 171/200\n",
      "5/5 [==============================] - 0s 9ms/step - loss: 3.7148 - val_loss: 3.5936\n",
      "Epoch 172/200\n",
      "5/5 [==============================] - 0s 8ms/step - loss: 3.7026 - val_loss: 3.5803\n",
      "Epoch 173/200\n",
      "5/5 [==============================] - 0s 9ms/step - loss: 3.7146 - val_loss: 3.5764\n",
      "Epoch 174/200\n",
      "5/5 [==============================] - 0s 9ms/step - loss: 3.7322 - val_loss: 3.6094\n",
      "Epoch 175/200\n",
      "5/5 [==============================] - 0s 9ms/step - loss: 3.7150 - val_loss: 3.6093\n",
      "Epoch 176/200\n",
      "5/5 [==============================] - 0s 10ms/step - loss: 3.7222 - val_loss: 3.6138\n",
      "Epoch 177/200\n",
      "5/5 [==============================] - 0s 8ms/step - loss: 3.7050 - val_loss: 3.5870\n",
      "Epoch 178/200\n",
      "5/5 [==============================] - 0s 9ms/step - loss: 3.6948 - val_loss: 3.5781\n",
      "Epoch 179/200\n",
      "5/5 [==============================] - 0s 9ms/step - loss: 3.6884 - val_loss: 3.5896\n",
      "Epoch 180/200\n",
      "5/5 [==============================] - 0s 8ms/step - loss: 3.7278 - val_loss: 3.6065\n",
      "Epoch 181/200\n",
      "5/5 [==============================] - 0s 8ms/step - loss: 3.7317 - val_loss: 3.5738\n",
      "Epoch 182/200\n",
      "5/5 [==============================] - 0s 9ms/step - loss: 3.7082 - val_loss: 3.5933\n",
      "Epoch 183/200\n",
      "5/5 [==============================] - 0s 9ms/step - loss: 3.7150 - val_loss: 3.5823\n",
      "Epoch 184/200\n",
      "5/5 [==============================] - 0s 9ms/step - loss: 3.6887 - val_loss: 3.5857\n",
      "Epoch 185/200\n",
      "5/5 [==============================] - 0s 9ms/step - loss: 3.6995 - val_loss: 3.5788\n",
      "Epoch 186/200\n",
      "5/5 [==============================] - 0s 9ms/step - loss: 3.6833 - val_loss: 3.5581\n",
      "Epoch 187/200\n",
      "5/5 [==============================] - 0s 8ms/step - loss: 3.6950 - val_loss: 3.5556\n",
      "Epoch 188/200\n",
      "5/5 [==============================] - 0s 8ms/step - loss: 3.7083 - val_loss: 3.5669\n",
      "Epoch 189/200\n",
      "5/5 [==============================] - 0s 8ms/step - loss: 3.7048 - val_loss: 3.5638\n",
      "Epoch 190/200\n",
      "5/5 [==============================] - 0s 8ms/step - loss: 3.7103 - val_loss: 3.5946\n",
      "Epoch 191/200\n",
      "5/5 [==============================] - 0s 9ms/step - loss: 3.7614 - val_loss: 3.6262\n",
      "Epoch 192/200\n",
      "5/5 [==============================] - 0s 9ms/step - loss: 3.6871 - val_loss: 3.5634\n",
      "Epoch 193/200\n",
      "5/5 [==============================] - 0s 9ms/step - loss: 3.7193 - val_loss: 3.5625\n",
      "Epoch 194/200\n",
      "5/5 [==============================] - 0s 9ms/step - loss: 3.7009 - val_loss: 3.5849\n",
      "Epoch 195/200\n",
      "5/5 [==============================] - 0s 9ms/step - loss: 3.6927 - val_loss: 3.5380\n",
      "Epoch 196/200\n",
      "5/5 [==============================] - 0s 9ms/step - loss: 3.6889 - val_loss: 3.5503\n",
      "Epoch 197/200\n",
      "5/5 [==============================] - 0s 8ms/step - loss: 3.6978 - val_loss: 3.5527\n",
      "Epoch 198/200\n",
      "5/5 [==============================] - 0s 9ms/step - loss: 3.6787 - val_loss: 3.5318\n",
      "Epoch 199/200\n",
      "5/5 [==============================] - 0s 9ms/step - loss: 3.6768 - val_loss: 3.5383\n",
      "Epoch 200/200\n",
      "5/5 [==============================] - 0s 9ms/step - loss: 3.6895 - val_loss: 3.5264\n"
     ]
    },
    {
     "data": {
      "text/plain": [
       "<keras.callbacks.History at 0x1bae0529ac0>"
      ]
     },
     "execution_count": 33,
     "metadata": {},
     "output_type": "execute_result"
    }
   ],
   "source": [
    "model.fit(x=X_train,y=y_train,epochs = 200,validation_data=(X_test,y_test))"
   ]
  },
  {
   "cell_type": "code",
   "execution_count": 34,
   "id": "59540258",
   "metadata": {},
   "outputs": [],
   "source": [
    "losses = pd.DataFrame(model.history.history)"
   ]
  },
  {
   "cell_type": "code",
   "execution_count": 35,
   "id": "ef906139",
   "metadata": {},
   "outputs": [
    {
     "data": {
      "text/plain": [
       "<AxesSubplot:>"
      ]
     },
     "execution_count": 35,
     "metadata": {},
     "output_type": "execute_result"
    },
    {
     "data": {
      "image/png": "[encoded data removed]",
      "text/plain": [
       "<Figure size 432x288 with 1 Axes>"
      ]
     },
     "metadata": {
      "needs_background": "light"
     },
     "output_type": "display_data"
    }
   ],
   "source": [
    "losses.plot()"
   ]
  },
  {
   "cell_type": "code",
   "execution_count": 36,
   "id": "37aab74c",
   "metadata": {},
   "outputs": [],
   "source": [
    "from sklearn.metrics import mean_squared_error, mean_absolute_error,explained_variance_score"
   ]
  },
  {
   "cell_type": "code",
   "execution_count": 37,
   "id": "61320a08",
   "metadata": {},
   "outputs": [],
   "source": [
    "predictions = model.predict(X_test)"
   ]
  },
  {
   "cell_type": "code",
   "execution_count": 38,
   "id": "0d90ae61",
   "metadata": {},
   "outputs": [],
   "source": [
    "# MODEL RADI POPRILICNO DOBRO, SA PROSJECNOM GRESKOM OD 3,5"
   ]
  },
  {
   "cell_type": "code",
   "execution_count": 39,
   "id": "4bd5cea0",
   "metadata": {
    "scrolled": true
   },
   "outputs": [
    {
     "name": "stdout",
     "output_type": "stream",
     "text": [
      "3.5264157427208764\n"
     ]
    }
   ],
   "source": [
    "print(mean_absolute_error(y_test,predictions))"
   ]
  },
  {
   "cell_type": "code",
   "execution_count": 40,
   "id": "2942f238",
   "metadata": {},
   "outputs": [
    {
     "data": {
      "text/plain": [
       "count    174.000000\n",
       "mean      42.931034\n",
       "std       30.370370\n",
       "min        0.000000\n",
       "25%        3.000000\n",
       "50%       53.250000\n",
       "75%       67.375000\n",
       "max       93.000000\n",
       "Name: Ukupno.1, dtype: float64"
      ]
     },
     "execution_count": 40,
     "metadata": {},
     "output_type": "execute_result"
    }
   ],
   "source": [
    "df['Ukupno.1'].describe()"
   ]
  },
  {
   "cell_type": "code",
   "execution_count": 42,
   "id": "868df79e",
   "metadata": {},
   "outputs": [
    {
     "name": "stdout",
     "output_type": "stream",
     "text": [
      "0.966792979649029\n"
     ]
    }
   ],
   "source": [
    "print(explained_variance_score(y_test,predictions))"
   ]
  },
  {
   "cell_type": "code",
   "execution_count": 43,
   "id": "696f2ce0",
   "metadata": {},
   "outputs": [
    {
     "data": {
      "text/plain": [
       "[<matplotlib.lines.Line2D at 0x1bae19edc10>]"
      ]
     },
     "execution_count": 43,
     "metadata": {},
     "output_type": "execute_result"
    },
    {
     "data": {
      "image/png": "[encoded data removed]",
      "text/plain": [
       "<Figure size 432x288 with 1 Axes>"
      ]
     },
     "metadata": {
      "needs_background": "light"
     },
     "output_type": "display_data"
    }
   ],
   "source": [
    "plt.scatter(y_test,predictions,edgecolor='black')\n",
    "plt.plot(y_test,y_test,'r')"
   ]
  },
  {
   "cell_type": "code",
   "execution_count": 44,
   "id": "560549dc",
   "metadata": {
    "scrolled": true
   },
   "outputs": [
    {
     "data": {
      "text/html": [
       "<div>\n",
       "<style scoped>\n",
       "    .dataframe tbody tr th:only-of-type {\n",
       "        vertical-align: middle;\n",
       "    }\n",
       "\n",
       "    .dataframe tbody tr th {\n",
       "        vertical-align: top;\n",
       "    }\n",
       "\n",
       "    .dataframe thead th {\n",
       "        text-align: right;\n",
       "    }\n",
       "</style>\n",
       "<table border=\"1\" class=\"dataframe\">\n",
       "  <thead>\n",
       "    <tr style=\"text-align: right;\">\n",
       "      <th></th>\n",
       "      <th>Word</th>\n",
       "      <th>Power Point</th>\n",
       "      <th>Excel</th>\n",
       "      <th>Bonus</th>\n",
       "      <th>Test iz teorije 1</th>\n",
       "      <th>Test iz teorije 2</th>\n",
       "      <th>Bonus teorija</th>\n",
       "      <th>Bonus kviz</th>\n",
       "      <th>Ukupno.1</th>\n",
       "      <th>Prolazak</th>\n",
       "      <th>Ocijena</th>\n",
       "    </tr>\n",
       "  </thead>\n",
       "  <tbody>\n",
       "    <tr>\n",
       "      <th>0</th>\n",
       "      <td>15.0</td>\n",
       "      <td>5.0</td>\n",
       "      <td>17.0</td>\n",
       "      <td>5.0</td>\n",
       "      <td>12.0</td>\n",
       "      <td>16.0</td>\n",
       "      <td>5.0</td>\n",
       "      <td>4.0</td>\n",
       "      <td>93.0</td>\n",
       "      <td>1</td>\n",
       "      <td>5</td>\n",
       "    </tr>\n",
       "  </tbody>\n",
       "</table>\n",
       "</div>"
      ],
      "text/plain": [
       "   Word  Power Point  Excel  Bonus  Test iz teorije 1  Test iz teorije 2  \\\n",
       "0  15.0          5.0   17.0    5.0               12.0               16.0   \n",
       "\n",
       "   Bonus teorija  Bonus kviz  Ukupno.1  Prolazak  Ocijena  \n",
       "0            5.0         4.0      93.0         1        5  "
      ]
     },
     "execution_count": 44,
     "metadata": {},
     "output_type": "execute_result"
    }
   ],
   "source": [
    "df.head(1)"
   ]
  },
  {
   "cell_type": "code",
   "execution_count": 45,
   "id": "7682d839",
   "metadata": {},
   "outputs": [],
   "source": [
    "# TESTIRAM MODEL NA NEKOLIKO OSOBA IZ SETA PODATAKA"
   ]
  },
  {
   "cell_type": "code",
   "execution_count": 46,
   "id": "e632335a",
   "metadata": {},
   "outputs": [],
   "source": [
    "osoba_1 = df.drop(['Ukupno.1','Prolazak','Ocijena','Test iz teorije 1','Test iz teorije 2'],axis=1).iloc[8]"
   ]
  },
  {
   "cell_type": "code",
   "execution_count": 47,
   "id": "e55decc4",
   "metadata": {},
   "outputs": [],
   "source": [
    "osoba_1 = scaler.transform(osoba_1.values.reshape(1,-1))"
   ]
  },
  {
   "cell_type": "code",
   "execution_count": 48,
   "id": "5195d033",
   "metadata": {},
   "outputs": [
    {
     "data": {
      "text/plain": [
       "array([[73.49161]], dtype=float32)"
      ]
     },
     "execution_count": 48,
     "metadata": {},
     "output_type": "execute_result"
    }
   ],
   "source": [
    "model.predict(osoba_1)"
   ]
  },
  {
   "cell_type": "code",
   "execution_count": 49,
   "id": "bfc1798f",
   "metadata": {
    "scrolled": false
   },
   "outputs": [
    {
     "data": {
      "text/plain": [
       "Word                 14.0\n",
       "Power Point           5.0\n",
       "Excel                13.0\n",
       "Bonus                 5.0\n",
       "Test iz teorije 1     9.0\n",
       "Test iz teorije 2    15.0\n",
       "Bonus teorija         5.0\n",
       "Bonus kviz            1.0\n",
       "Ukupno.1             81.0\n",
       "Prolazak              1.0\n",
       "Ocijena               4.0\n",
       "Name: 8, dtype: float64"
      ]
     },
     "execution_count": 49,
     "metadata": {},
     "output_type": "execute_result"
    }
   ],
   "source": [
    "df.iloc[8]"
   ]
  },
  {
   "cell_type": "code",
   "execution_count": 50,
   "id": "2dfe7e6a",
   "metadata": {},
   "outputs": [],
   "source": [
    "# ZA OSOBU 1 SMO PREDVIDILI DA CE IMATI 73 BODA, DOK U STVARNOSTI IMA 81 BOD, SA SREDNJOM APSOLUTNOM POGRESKOM OD 3,5"
   ]
  },
  {
   "cell_type": "code",
   "execution_count": 51,
   "id": "df6c23dc",
   "metadata": {},
   "outputs": [],
   "source": [
    "osoba_2 = np.array([10,5,9,0,5,2])"
   ]
  },
  {
   "cell_type": "code",
   "execution_count": 52,
   "id": "4c31a3e3",
   "metadata": {},
   "outputs": [],
   "source": [
    "osoba_2 = scaler.transform(osoba_2.reshape(1,-1))"
   ]
  },
  {
   "cell_type": "code",
   "execution_count": 53,
   "id": "7dc08f2b",
   "metadata": {
    "scrolled": true
   },
   "outputs": [
    {
     "data": {
      "text/plain": [
       "array([[61.41707]], dtype=float32)"
      ]
     },
     "execution_count": 53,
     "metadata": {},
     "output_type": "execute_result"
    }
   ],
   "source": [
    "model.predict(osoba_2)"
   ]
  },
  {
   "cell_type": "code",
   "execution_count": 54,
   "id": "7f79ea49",
   "metadata": {},
   "outputs": [],
   "source": [
    "osoba_3 = df.drop(['Ukupno.1','Prolazak','Ocijena','Test iz teorije 1','Test iz teorije 2'],axis=1).iloc[20]"
   ]
  },
  {
   "cell_type": "code",
   "execution_count": 55,
   "id": "18caf5b8",
   "metadata": {
    "scrolled": false
   },
   "outputs": [
    {
     "data": {
      "text/plain": [
       "Word                 14.0\n",
       "Power Point           5.0\n",
       "Excel                20.0\n",
       "Bonus                 5.0\n",
       "Test iz teorije 1    11.0\n",
       "Test iz teorije 2     7.0\n",
       "Bonus teorija         0.0\n",
       "Bonus kviz            5.0\n",
       "Ukupno.1             78.0\n",
       "Prolazak              1.0\n",
       "Ocijena               3.0\n",
       "Name: 20, dtype: float64"
      ]
     },
     "execution_count": 55,
     "metadata": {},
     "output_type": "execute_result"
    }
   ],
   "source": [
    "df.iloc[20]"
   ]
  },
  {
   "cell_type": "code",
   "execution_count": null,
   "id": "15258445",
   "metadata": {},
   "outputs": [],
   "source": [
    "# TRECA OSOBA JE PROSLA MNOGO BOLJE. PREDVIDILI SMO 73 U USPOREDBI SA STVARNIH 78"
   ]
  },
  {
   "cell_type": "code",
   "execution_count": 56,
   "id": "49a122eb",
   "metadata": {
    "scrolled": true
   },
   "outputs": [],
   "source": [
    "osoba_3 = scaler.transform(osoba_3.values.reshape(1,-1))"
   ]
  },
  {
   "cell_type": "code",
   "execution_count": 57,
   "id": "b1c04bf0",
   "metadata": {
    "scrolled": true
   },
   "outputs": [
    {
     "data": {
      "text/plain": [
       "array([[73.83807]], dtype=float32)"
      ]
     },
     "execution_count": 57,
     "metadata": {},
     "output_type": "execute_result"
    }
   ],
   "source": [
    "model.predict(osoba_3)"
   ]
  },
  {
   "cell_type": "code",
   "execution_count": 58,
   "id": "cb4fe148",
   "metadata": {},
   "outputs": [],
   "source": [
    "# MULTI CLASS CLASSIFICATION"
   ]
  },
  {
   "cell_type": "code",
   "execution_count": 59,
   "id": "7e87c523",
   "metadata": {
    "scrolled": true
   },
   "outputs": [
    {
     "data": {
      "text/html": [
       "<div>\n",
       "<style scoped>\n",
       "    .dataframe tbody tr th:only-of-type {\n",
       "        vertical-align: middle;\n",
       "    }\n",
       "\n",
       "    .dataframe tbody tr th {\n",
       "        vertical-align: top;\n",
       "    }\n",
       "\n",
       "    .dataframe thead th {\n",
       "        text-align: right;\n",
       "    }\n",
       "</style>\n",
       "<table border=\"1\" class=\"dataframe\">\n",
       "  <thead>\n",
       "    <tr style=\"text-align: right;\">\n",
       "      <th></th>\n",
       "      <th>Word</th>\n",
       "      <th>Power Point</th>\n",
       "      <th>Excel</th>\n",
       "      <th>Bonus</th>\n",
       "      <th>Test iz teorije 1</th>\n",
       "      <th>Test iz teorije 2</th>\n",
       "      <th>Bonus teorija</th>\n",
       "      <th>Bonus kviz</th>\n",
       "      <th>Ukupno.1</th>\n",
       "      <th>Prolazak</th>\n",
       "      <th>Ocijena</th>\n",
       "    </tr>\n",
       "  </thead>\n",
       "  <tbody>\n",
       "    <tr>\n",
       "      <th>0</th>\n",
       "      <td>15.0</td>\n",
       "      <td>5.0</td>\n",
       "      <td>17.0</td>\n",
       "      <td>5.0</td>\n",
       "      <td>12.0</td>\n",
       "      <td>16.0</td>\n",
       "      <td>5.0</td>\n",
       "      <td>4.0</td>\n",
       "      <td>93.0</td>\n",
       "      <td>1</td>\n",
       "      <td>5</td>\n",
       "    </tr>\n",
       "    <tr>\n",
       "      <th>1</th>\n",
       "      <td>15.0</td>\n",
       "      <td>4.0</td>\n",
       "      <td>20.0</td>\n",
       "      <td>5.0</td>\n",
       "      <td>9.0</td>\n",
       "      <td>16.0</td>\n",
       "      <td>5.0</td>\n",
       "      <td>2.0</td>\n",
       "      <td>90.5</td>\n",
       "      <td>1</td>\n",
       "      <td>5</td>\n",
       "    </tr>\n",
       "    <tr>\n",
       "      <th>2</th>\n",
       "      <td>10.0</td>\n",
       "      <td>5.0</td>\n",
       "      <td>18.0</td>\n",
       "      <td>5.0</td>\n",
       "      <td>10.0</td>\n",
       "      <td>17.0</td>\n",
       "      <td>5.0</td>\n",
       "      <td>4.0</td>\n",
       "      <td>89.5</td>\n",
       "      <td>1</td>\n",
       "      <td>4</td>\n",
       "    </tr>\n",
       "    <tr>\n",
       "      <th>3</th>\n",
       "      <td>15.0</td>\n",
       "      <td>5.0</td>\n",
       "      <td>17.0</td>\n",
       "      <td>5.0</td>\n",
       "      <td>10.0</td>\n",
       "      <td>12.0</td>\n",
       "      <td>5.0</td>\n",
       "      <td>4.0</td>\n",
       "      <td>86.0</td>\n",
       "      <td>1</td>\n",
       "      <td>4</td>\n",
       "    </tr>\n",
       "    <tr>\n",
       "      <th>4</th>\n",
       "      <td>15.0</td>\n",
       "      <td>4.0</td>\n",
       "      <td>20.0</td>\n",
       "      <td>5.0</td>\n",
       "      <td>9.0</td>\n",
       "      <td>10.0</td>\n",
       "      <td>5.0</td>\n",
       "      <td>5.0</td>\n",
       "      <td>84.5</td>\n",
       "      <td>1</td>\n",
       "      <td>4</td>\n",
       "    </tr>\n",
       "  </tbody>\n",
       "</table>\n",
       "</div>"
      ],
      "text/plain": [
       "   Word  Power Point  Excel  Bonus  Test iz teorije 1  Test iz teorije 2  \\\n",
       "0  15.0          5.0   17.0    5.0               12.0               16.0   \n",
       "1  15.0          4.0   20.0    5.0                9.0               16.0   \n",
       "2  10.0          5.0   18.0    5.0               10.0               17.0   \n",
       "3  15.0          5.0   17.0    5.0               10.0               12.0   \n",
       "4  15.0          4.0   20.0    5.0                9.0               10.0   \n",
       "\n",
       "   Bonus teorija  Bonus kviz  Ukupno.1  Prolazak  Ocijena  \n",
       "0            5.0         4.0      93.0         1        5  \n",
       "1            5.0         2.0      90.5         1        5  \n",
       "2            5.0         4.0      89.5         1        4  \n",
       "3            5.0         4.0      86.0         1        4  \n",
       "4            5.0         5.0      84.5         1        4  "
      ]
     },
     "execution_count": 59,
     "metadata": {},
     "output_type": "execute_result"
    }
   ],
   "source": [
    "df.head()"
   ]
  },
  {
   "cell_type": "code",
   "execution_count": 60,
   "id": "5df97e94",
   "metadata": {},
   "outputs": [],
   "source": [
    "X = df.drop(['Ukupno.1','Prolazak','Ocijena','Test iz teorije 1','Test iz teorije 2'],axis=1).values\n",
    "y = df['Ocijena'].values"
   ]
  },
  {
   "cell_type": "code",
   "execution_count": 61,
   "id": "76449107",
   "metadata": {},
   "outputs": [],
   "source": [
    "X_train, X_test, y_train, y_test = train_test_split(X, y, test_size=0.20, random_state=43)"
   ]
  },
  {
   "cell_type": "code",
   "execution_count": 62,
   "id": "a99753f0",
   "metadata": {},
   "outputs": [],
   "source": [
    "X_train = scaler.fit_transform(X_train)\n",
    "X_test = scaler.transform(X_test)"
   ]
  },
  {
   "cell_type": "code",
   "execution_count": 63,
   "id": "533be05c",
   "metadata": {},
   "outputs": [],
   "source": [
    "from tensorflow.keras.layers import Dropout"
   ]
  },
  {
   "cell_type": "code",
   "execution_count": 64,
   "id": "09ab513a",
   "metadata": {},
   "outputs": [],
   "source": [
    "model = Sequential()\n",
    "\n",
    "model.add(Dense(6,activation='relu'))\n",
    "model.add(Dense(12,activation='relu'))\n",
    "model.add(Dropout(0.5))\n",
    "\n",
    "#model.add(Dense(30,activation='relu'))\n",
    "#model.add(Dropout(0.5))\n",
    "\n",
    "model.add(Dense(6,activation='softmax'))\n",
    "\n",
    "model.compile(loss='sparse_categorical_crossentropy',optimizer='adam')"
   ]
  },
  {
   "cell_type": "code",
   "execution_count": 65,
   "id": "67938df9",
   "metadata": {},
   "outputs": [],
   "source": [
    "from tensorflow.keras.callbacks import EarlyStopping"
   ]
  },
  {
   "cell_type": "code",
   "execution_count": 66,
   "id": "a2a56cdf",
   "metadata": {},
   "outputs": [],
   "source": [
    "early_stop = EarlyStopping(monitor='val_loss',\n",
    "                          mode='min',\n",
    "                          verbose=1,\n",
    "                          patience=10)"
   ]
  },
  {
   "cell_type": "code",
   "execution_count": 67,
   "id": "91b663f8",
   "metadata": {},
   "outputs": [
    {
     "name": "stdout",
     "output_type": "stream",
     "text": [
      "Epoch 1/500\n",
      "5/5 [==============================] - 1s 36ms/step - loss: 1.7844 - val_loss: 1.7940\n",
      "Epoch 2/500\n",
      "5/5 [==============================] - 0s 9ms/step - loss: 1.7895 - val_loss: 1.7851\n",
      "Epoch 3/500\n",
      "5/5 [==============================] - 0s 9ms/step - loss: 1.7630 - val_loss: 1.7758\n",
      "Epoch 4/500\n",
      "5/5 [==============================] - 0s 9ms/step - loss: 1.7609 - val_loss: 1.7666\n",
      "Epoch 5/500\n",
      "5/5 [==============================] - 0s 8ms/step - loss: 1.7575 - val_loss: 1.7564\n",
      "Epoch 6/500\n",
      "5/5 [==============================] - 0s 9ms/step - loss: 1.7421 - val_loss: 1.7459\n",
      "Epoch 7/500\n",
      "5/5 [==============================] - 0s 9ms/step - loss: 1.7283 - val_loss: 1.7342\n",
      "Epoch 8/500\n",
      "5/5 [==============================] - 0s 9ms/step - loss: 1.7104 - val_loss: 1.7218\n",
      "Epoch 9/500\n",
      "5/5 [==============================] - 0s 8ms/step - loss: 1.7013 - val_loss: 1.7089\n",
      "Epoch 10/500\n",
      "5/5 [==============================] - 0s 10ms/step - loss: 1.6721 - val_loss: 1.6947\n",
      "Epoch 11/500\n",
      "5/5 [==============================] - 0s 9ms/step - loss: 1.6517 - val_loss: 1.6797\n",
      "Epoch 12/500\n",
      "5/5 [==============================] - 0s 9ms/step - loss: 1.6585 - val_loss: 1.6645\n",
      "Epoch 13/500\n",
      "5/5 [==============================] - 0s 8ms/step - loss: 1.6417 - val_loss: 1.6505\n",
      "Epoch 14/500\n",
      "5/5 [==============================] - 0s 10ms/step - loss: 1.6264 - val_loss: 1.6364\n",
      "Epoch 15/500\n",
      "5/5 [==============================] - 0s 9ms/step - loss: 1.5983 - val_loss: 1.6223\n",
      "Epoch 16/500\n",
      "5/5 [==============================] - 0s 9ms/step - loss: 1.5830 - val_loss: 1.6076\n",
      "Epoch 17/500\n",
      "5/5 [==============================] - 0s 9ms/step - loss: 1.5665 - val_loss: 1.5936\n",
      "Epoch 18/500\n",
      "5/5 [==============================] - 0s 10ms/step - loss: 1.5453 - val_loss: 1.5787\n",
      "Epoch 19/500\n",
      "5/5 [==============================] - 0s 8ms/step - loss: 1.5276 - val_loss: 1.5637\n",
      "Epoch 20/500\n",
      "5/5 [==============================] - 0s 9ms/step - loss: 1.5366 - val_loss: 1.5486\n",
      "Epoch 21/500\n",
      "5/5 [==============================] - 0s 9ms/step - loss: 1.4911 - val_loss: 1.5330\n",
      "Epoch 22/500\n",
      "5/5 [==============================] - 0s 9ms/step - loss: 1.4823 - val_loss: 1.5170\n",
      "Epoch 23/500\n",
      "5/5 [==============================] - 0s 9ms/step - loss: 1.4588 - val_loss: 1.5015\n",
      "Epoch 24/500\n",
      "5/5 [==============================] - 0s 9ms/step - loss: 1.4163 - val_loss: 1.4864\n",
      "Epoch 25/500\n",
      "5/5 [==============================] - 0s 11ms/step - loss: 1.4609 - val_loss: 1.4723\n",
      "Epoch 26/500\n",
      "5/5 [==============================] - 0s 10ms/step - loss: 1.4482 - val_loss: 1.4588\n",
      "Epoch 27/500\n",
      "5/5 [==============================] - 0s 10ms/step - loss: 1.4142 - val_loss: 1.4458\n",
      "Epoch 28/500\n",
      "5/5 [==============================] - 0s 10ms/step - loss: 1.3949 - val_loss: 1.4328\n",
      "Epoch 29/500\n",
      "5/5 [==============================] - 0s 9ms/step - loss: 1.3621 - val_loss: 1.4206\n",
      "Epoch 30/500\n",
      "5/5 [==============================] - 0s 8ms/step - loss: 1.3337 - val_loss: 1.4081\n",
      "Epoch 31/500\n",
      "5/5 [==============================] - 0s 9ms/step - loss: 1.3364 - val_loss: 1.3957\n",
      "Epoch 32/500\n",
      "5/5 [==============================] - 0s 8ms/step - loss: 1.3386 - val_loss: 1.3844\n",
      "Epoch 33/500\n",
      "5/5 [==============================] - 0s 9ms/step - loss: 1.3546 - val_loss: 1.3735\n",
      "Epoch 34/500\n",
      "5/5 [==============================] - 0s 9ms/step - loss: 1.2911 - val_loss: 1.3634\n",
      "Epoch 35/500\n",
      "5/5 [==============================] - 0s 9ms/step - loss: 1.2870 - val_loss: 1.3533\n",
      "Epoch 36/500\n",
      "5/5 [==============================] - 0s 9ms/step - loss: 1.2622 - val_loss: 1.3436\n",
      "Epoch 37/500\n",
      "5/5 [==============================] - 0s 9ms/step - loss: 1.2285 - val_loss: 1.3339\n",
      "Epoch 38/500\n",
      "5/5 [==============================] - 0s 9ms/step - loss: 1.2782 - val_loss: 1.3246\n",
      "Epoch 39/500\n",
      "5/5 [==============================] - 0s 9ms/step - loss: 1.2517 - val_loss: 1.3154\n",
      "Epoch 40/500\n",
      "5/5 [==============================] - 0s 9ms/step - loss: 1.2181 - val_loss: 1.3065\n",
      "Epoch 41/500\n",
      "5/5 [==============================] - 0s 8ms/step - loss: 1.2599 - val_loss: 1.2980\n",
      "Epoch 42/500\n",
      "5/5 [==============================] - 0s 8ms/step - loss: 1.2097 - val_loss: 1.2893\n",
      "Epoch 43/500\n",
      "5/5 [==============================] - 0s 9ms/step - loss: 1.1916 - val_loss: 1.2810\n",
      "Epoch 44/500\n",
      "5/5 [==============================] - 0s 9ms/step - loss: 1.1700 - val_loss: 1.2728\n",
      "Epoch 45/500\n",
      "5/5 [==============================] - 0s 9ms/step - loss: 1.1796 - val_loss: 1.2649\n",
      "Epoch 46/500\n",
      "5/5 [==============================] - 0s 9ms/step - loss: 1.1720 - val_loss: 1.2571\n",
      "Epoch 47/500\n",
      "5/5 [==============================] - 0s 9ms/step - loss: 1.1538 - val_loss: 1.2497\n",
      "Epoch 48/500\n",
      "5/5 [==============================] - 0s 9ms/step - loss: 1.1183 - val_loss: 1.2423\n",
      "Epoch 49/500\n",
      "5/5 [==============================] - 0s 10ms/step - loss: 1.1215 - val_loss: 1.2347\n",
      "Epoch 50/500\n",
      "5/5 [==============================] - 0s 9ms/step - loss: 1.1140 - val_loss: 1.2270\n",
      "Epoch 51/500\n",
      "5/5 [==============================] - 0s 9ms/step - loss: 1.0990 - val_loss: 1.2193\n",
      "Epoch 52/500\n",
      "5/5 [==============================] - 0s 9ms/step - loss: 1.1478 - val_loss: 1.2113\n",
      "Epoch 53/500\n",
      "5/5 [==============================] - 0s 9ms/step - loss: 1.1130 - val_loss: 1.2035\n",
      "Epoch 54/500\n",
      "5/5 [==============================] - 0s 8ms/step - loss: 1.0783 - val_loss: 1.1961\n",
      "Epoch 55/500\n",
      "5/5 [==============================] - 0s 8ms/step - loss: 1.0699 - val_loss: 1.1886\n",
      "Epoch 56/500\n",
      "5/5 [==============================] - 0s 9ms/step - loss: 1.0635 - val_loss: 1.1811\n",
      "Epoch 57/500\n",
      "5/5 [==============================] - 0s 9ms/step - loss: 1.1081 - val_loss: 1.1738\n",
      "Epoch 58/500\n",
      "5/5 [==============================] - 0s 8ms/step - loss: 1.0591 - val_loss: 1.1668\n",
      "Epoch 59/500\n",
      "5/5 [==============================] - 0s 8ms/step - loss: 1.0466 - val_loss: 1.1600\n",
      "Epoch 60/500\n",
      "5/5 [==============================] - 0s 8ms/step - loss: 1.0137 - val_loss: 1.1532\n",
      "Epoch 61/500\n",
      "5/5 [==============================] - 0s 8ms/step - loss: 1.0172 - val_loss: 1.1462\n",
      "Epoch 62/500\n",
      "5/5 [==============================] - 0s 9ms/step - loss: 1.0277 - val_loss: 1.1391\n",
      "Epoch 63/500\n",
      "5/5 [==============================] - 0s 9ms/step - loss: 1.0420 - val_loss: 1.1324\n",
      "Epoch 64/500\n",
      "5/5 [==============================] - 0s 9ms/step - loss: 1.0088 - val_loss: 1.1260\n",
      "Epoch 65/500\n",
      "5/5 [==============================] - 0s 8ms/step - loss: 0.9637 - val_loss: 1.1200\n",
      "Epoch 66/500\n",
      "5/5 [==============================] - 0s 9ms/step - loss: 0.9283 - val_loss: 1.1135\n",
      "Epoch 67/500\n",
      "5/5 [==============================] - 0s 8ms/step - loss: 0.9889 - val_loss: 1.1066\n",
      "Epoch 68/500\n",
      "5/5 [==============================] - 0s 9ms/step - loss: 0.9680 - val_loss: 1.1000\n",
      "Epoch 69/500\n",
      "5/5 [==============================] - 0s 9ms/step - loss: 0.9926 - val_loss: 1.0938\n",
      "Epoch 70/500\n",
      "5/5 [==============================] - 0s 8ms/step - loss: 0.9912 - val_loss: 1.0878\n",
      "Epoch 71/500\n",
      "5/5 [==============================] - 0s 9ms/step - loss: 0.9708 - val_loss: 1.0821\n",
      "Epoch 72/500\n",
      "5/5 [==============================] - 0s 9ms/step - loss: 0.9625 - val_loss: 1.0764\n",
      "Epoch 73/500\n",
      "5/5 [==============================] - 0s 9ms/step - loss: 0.9368 - val_loss: 1.0705\n",
      "Epoch 74/500\n",
      "5/5 [==============================] - 0s 9ms/step - loss: 0.9201 - val_loss: 1.0647\n",
      "Epoch 75/500\n",
      "5/5 [==============================] - 0s 9ms/step - loss: 0.9016 - val_loss: 1.0584\n",
      "Epoch 76/500\n",
      "5/5 [==============================] - 0s 9ms/step - loss: 0.9514 - val_loss: 1.0524\n",
      "Epoch 77/500\n",
      "5/5 [==============================] - 0s 9ms/step - loss: 0.9520 - val_loss: 1.0470\n",
      "Epoch 78/500\n",
      "5/5 [==============================] - 0s 9ms/step - loss: 0.8682 - val_loss: 1.0415\n",
      "Epoch 79/500\n",
      "5/5 [==============================] - 0s 8ms/step - loss: 0.8967 - val_loss: 1.0358\n",
      "Epoch 80/500\n",
      "5/5 [==============================] - 0s 9ms/step - loss: 0.8964 - val_loss: 1.0304\n",
      "Epoch 81/500\n",
      "5/5 [==============================] - 0s 8ms/step - loss: 0.8369 - val_loss: 1.0249\n",
      "Epoch 82/500\n",
      "5/5 [==============================] - 0s 9ms/step - loss: 0.9105 - val_loss: 1.0195\n",
      "Epoch 83/500\n",
      "5/5 [==============================] - 0s 8ms/step - loss: 0.8480 - val_loss: 1.0146\n",
      "Epoch 84/500\n"
     ]
    },
    {
     "name": "stdout",
     "output_type": "stream",
     "text": [
      "5/5 [==============================] - 0s 8ms/step - loss: 0.8546 - val_loss: 1.0097\n",
      "Epoch 85/500\n",
      "5/5 [==============================] - 0s 8ms/step - loss: 0.8726 - val_loss: 1.0062\n",
      "Epoch 86/500\n",
      "5/5 [==============================] - 0s 8ms/step - loss: 0.9153 - val_loss: 1.0032\n",
      "Epoch 87/500\n",
      "5/5 [==============================] - 0s 8ms/step - loss: 0.9064 - val_loss: 0.9999\n",
      "Epoch 88/500\n",
      "5/5 [==============================] - 0s 9ms/step - loss: 0.7822 - val_loss: 0.9967\n",
      "Epoch 89/500\n",
      "5/5 [==============================] - 0s 9ms/step - loss: 0.8103 - val_loss: 0.9933\n",
      "Epoch 90/500\n",
      "5/5 [==============================] - 0s 8ms/step - loss: 0.8120 - val_loss: 0.9904\n",
      "Epoch 91/500\n",
      "5/5 [==============================] - 0s 8ms/step - loss: 0.8156 - val_loss: 0.9875\n",
      "Epoch 92/500\n",
      "5/5 [==============================] - 0s 9ms/step - loss: 0.8261 - val_loss: 0.9850\n",
      "Epoch 93/500\n",
      "5/5 [==============================] - 0s 9ms/step - loss: 0.8542 - val_loss: 0.9828\n",
      "Epoch 94/500\n",
      "5/5 [==============================] - 0s 8ms/step - loss: 0.8263 - val_loss: 0.9804\n",
      "Epoch 95/500\n",
      "5/5 [==============================] - 0s 9ms/step - loss: 0.7722 - val_loss: 0.9776\n",
      "Epoch 96/500\n",
      "5/5 [==============================] - 0s 9ms/step - loss: 0.8261 - val_loss: 0.9749\n",
      "Epoch 97/500\n",
      "5/5 [==============================] - 0s 9ms/step - loss: 0.7795 - val_loss: 0.9718\n",
      "Epoch 98/500\n",
      "5/5 [==============================] - 0s 8ms/step - loss: 0.8415 - val_loss: 0.9691\n",
      "Epoch 99/500\n",
      "5/5 [==============================] - 0s 9ms/step - loss: 0.8375 - val_loss: 0.9669\n",
      "Epoch 100/500\n",
      "5/5 [==============================] - 0s 8ms/step - loss: 0.7546 - val_loss: 0.9655\n",
      "Epoch 101/500\n",
      "5/5 [==============================] - 0s 9ms/step - loss: 0.7551 - val_loss: 0.9637\n",
      "Epoch 102/500\n",
      "5/5 [==============================] - 0s 8ms/step - loss: 0.7735 - val_loss: 0.9620\n",
      "Epoch 103/500\n",
      "5/5 [==============================] - 0s 8ms/step - loss: 0.7928 - val_loss: 0.9601\n",
      "Epoch 104/500\n",
      "5/5 [==============================] - 0s 9ms/step - loss: 0.7499 - val_loss: 0.9591\n",
      "Epoch 105/500\n",
      "5/5 [==============================] - 0s 9ms/step - loss: 0.7835 - val_loss: 0.9581\n",
      "Epoch 106/500\n",
      "5/5 [==============================] - 0s 8ms/step - loss: 0.8052 - val_loss: 0.9562\n",
      "Epoch 107/500\n",
      "5/5 [==============================] - 0s 9ms/step - loss: 0.8046 - val_loss: 0.9537\n",
      "Epoch 108/500\n",
      "5/5 [==============================] - 0s 9ms/step - loss: 0.7586 - val_loss: 0.9517\n",
      "Epoch 109/500\n",
      "5/5 [==============================] - 0s 8ms/step - loss: 0.7278 - val_loss: 0.9504\n",
      "Epoch 110/500\n",
      "5/5 [==============================] - 0s 9ms/step - loss: 0.7667 - val_loss: 0.9485\n",
      "Epoch 111/500\n",
      "5/5 [==============================] - 0s 9ms/step - loss: 0.8206 - val_loss: 0.9463\n",
      "Epoch 112/500\n",
      "5/5 [==============================] - 0s 8ms/step - loss: 0.7516 - val_loss: 0.9439\n",
      "Epoch 113/500\n",
      "5/5 [==============================] - 0s 8ms/step - loss: 0.7880 - val_loss: 0.9417\n",
      "Epoch 114/500\n",
      "5/5 [==============================] - 0s 9ms/step - loss: 0.7359 - val_loss: 0.9396\n",
      "Epoch 115/500\n",
      "5/5 [==============================] - 0s 8ms/step - loss: 0.7730 - val_loss: 0.9374\n",
      "Epoch 116/500\n",
      "5/5 [==============================] - 0s 8ms/step - loss: 0.7345 - val_loss: 0.9357\n",
      "Epoch 117/500\n",
      "5/5 [==============================] - 0s 9ms/step - loss: 0.7681 - val_loss: 0.9340\n",
      "Epoch 118/500\n",
      "5/5 [==============================] - 0s 8ms/step - loss: 0.7860 - val_loss: 0.9327\n",
      "Epoch 119/500\n",
      "5/5 [==============================] - 0s 8ms/step - loss: 0.7213 - val_loss: 0.9310\n",
      "Epoch 120/500\n",
      "5/5 [==============================] - 0s 9ms/step - loss: 0.7204 - val_loss: 0.9293\n",
      "Epoch 121/500\n",
      "5/5 [==============================] - 0s 8ms/step - loss: 0.7327 - val_loss: 0.9278\n",
      "Epoch 122/500\n",
      "5/5 [==============================] - 0s 9ms/step - loss: 0.6836 - val_loss: 0.9262\n",
      "Epoch 123/500\n",
      "5/5 [==============================] - 0s 9ms/step - loss: 0.7215 - val_loss: 0.9243\n",
      "Epoch 124/500\n",
      "5/5 [==============================] - 0s 9ms/step - loss: 0.7180 - val_loss: 0.9238\n",
      "Epoch 125/500\n",
      "5/5 [==============================] - 0s 8ms/step - loss: 0.7079 - val_loss: 0.9230\n",
      "Epoch 126/500\n",
      "5/5 [==============================] - 0s 9ms/step - loss: 0.7332 - val_loss: 0.9225\n",
      "Epoch 127/500\n",
      "5/5 [==============================] - 0s 9ms/step - loss: 0.6809 - val_loss: 0.9214\n",
      "Epoch 128/500\n",
      "5/5 [==============================] - 0s 9ms/step - loss: 0.7382 - val_loss: 0.9202\n",
      "Epoch 129/500\n",
      "5/5 [==============================] - 0s 8ms/step - loss: 0.6987 - val_loss: 0.9193\n",
      "Epoch 130/500\n",
      "5/5 [==============================] - 0s 9ms/step - loss: 0.7461 - val_loss: 0.9186\n",
      "Epoch 131/500\n",
      "5/5 [==============================] - 0s 8ms/step - loss: 0.7321 - val_loss: 0.9179\n",
      "Epoch 132/500\n",
      "5/5 [==============================] - 0s 9ms/step - loss: 0.7454 - val_loss: 0.9171\n",
      "Epoch 133/500\n",
      "5/5 [==============================] - 0s 9ms/step - loss: 0.7181 - val_loss: 0.9166\n",
      "Epoch 134/500\n",
      "5/5 [==============================] - 0s 9ms/step - loss: 0.7508 - val_loss: 0.9155\n",
      "Epoch 135/500\n",
      "5/5 [==============================] - 0s 8ms/step - loss: 0.7083 - val_loss: 0.9149\n",
      "Epoch 136/500\n",
      "5/5 [==============================] - 0s 9ms/step - loss: 0.6763 - val_loss: 0.9144\n",
      "Epoch 137/500\n",
      "5/5 [==============================] - 0s 9ms/step - loss: 0.7309 - val_loss: 0.9144\n",
      "Epoch 138/500\n",
      "5/5 [==============================] - 0s 8ms/step - loss: 0.7320 - val_loss: 0.9151\n",
      "Epoch 139/500\n",
      "5/5 [==============================] - 0s 8ms/step - loss: 0.7137 - val_loss: 0.9151\n",
      "Epoch 140/500\n",
      "5/5 [==============================] - 0s 9ms/step - loss: 0.6962 - val_loss: 0.9155\n",
      "Epoch 141/500\n",
      "5/5 [==============================] - 0s 8ms/step - loss: 0.7272 - val_loss: 0.9159\n",
      "Epoch 142/500\n",
      "5/5 [==============================] - 0s 13ms/step - loss: 0.7123 - val_loss: 0.9151\n",
      "Epoch 143/500\n",
      "5/5 [==============================] - 0s 8ms/step - loss: 0.7146 - val_loss: 0.9139\n",
      "Epoch 144/500\n",
      "5/5 [==============================] - 0s 9ms/step - loss: 0.7051 - val_loss: 0.9130\n",
      "Epoch 145/500\n",
      "5/5 [==============================] - 0s 9ms/step - loss: 0.7227 - val_loss: 0.9114\n",
      "Epoch 146/500\n",
      "5/5 [==============================] - 0s 8ms/step - loss: 0.6563 - val_loss: 0.9101\n",
      "Epoch 147/500\n",
      "5/5 [==============================] - 0s 9ms/step - loss: 0.6979 - val_loss: 0.9093\n",
      "Epoch 148/500\n",
      "5/5 [==============================] - 0s 8ms/step - loss: 0.6797 - val_loss: 0.9080\n",
      "Epoch 149/500\n",
      "5/5 [==============================] - 0s 8ms/step - loss: 0.6630 - val_loss: 0.9072\n",
      "Epoch 150/500\n",
      "5/5 [==============================] - 0s 8ms/step - loss: 0.6899 - val_loss: 0.9062\n",
      "Epoch 151/500\n",
      "5/5 [==============================] - 0s 8ms/step - loss: 0.6798 - val_loss: 0.9052\n",
      "Epoch 152/500\n",
      "5/5 [==============================] - 0s 8ms/step - loss: 0.6733 - val_loss: 0.9048\n",
      "Epoch 153/500\n",
      "5/5 [==============================] - 0s 9ms/step - loss: 0.6415 - val_loss: 0.9036\n",
      "Epoch 154/500\n",
      "5/5 [==============================] - 0s 8ms/step - loss: 0.6831 - val_loss: 0.9029\n",
      "Epoch 155/500\n",
      "5/5 [==============================] - 0s 10ms/step - loss: 0.6976 - val_loss: 0.9024\n",
      "Epoch 156/500\n",
      "5/5 [==============================] - 0s 9ms/step - loss: 0.6929 - val_loss: 0.9018\n",
      "Epoch 157/500\n",
      "5/5 [==============================] - 0s 9ms/step - loss: 0.6402 - val_loss: 0.9016\n",
      "Epoch 158/500\n",
      "5/5 [==============================] - 0s 9ms/step - loss: 0.6673 - val_loss: 0.9018\n",
      "Epoch 159/500\n",
      "5/5 [==============================] - 0s 9ms/step - loss: 0.7202 - val_loss: 0.9017\n",
      "Epoch 160/500\n",
      "5/5 [==============================] - 0s 8ms/step - loss: 0.6845 - val_loss: 0.9021\n",
      "Epoch 161/500\n",
      "5/5 [==============================] - 0s 9ms/step - loss: 0.6782 - val_loss: 0.9004\n",
      "Epoch 162/500\n",
      "5/5 [==============================] - 0s 9ms/step - loss: 0.6998 - val_loss: 0.8990\n",
      "Epoch 163/500\n",
      "5/5 [==============================] - 0s 8ms/step - loss: 0.6756 - val_loss: 0.8989\n",
      "Epoch 164/500\n",
      "5/5 [==============================] - 0s 8ms/step - loss: 0.6885 - val_loss: 0.8985\n",
      "Epoch 165/500\n",
      "5/5 [==============================] - 0s 8ms/step - loss: 0.6750 - val_loss: 0.8979\n",
      "Epoch 166/500\n",
      "5/5 [==============================] - 0s 9ms/step - loss: 0.7031 - val_loss: 0.8977\n",
      "Epoch 167/500\n"
     ]
    },
    {
     "name": "stdout",
     "output_type": "stream",
     "text": [
      "5/5 [==============================] - 0s 8ms/step - loss: 0.6311 - val_loss: 0.8969\n",
      "Epoch 168/500\n",
      "5/5 [==============================] - 0s 8ms/step - loss: 0.7143 - val_loss: 0.8957\n",
      "Epoch 169/500\n",
      "5/5 [==============================] - 0s 8ms/step - loss: 0.7174 - val_loss: 0.8950\n",
      "Epoch 170/500\n",
      "5/5 [==============================] - 0s 9ms/step - loss: 0.6732 - val_loss: 0.8948\n",
      "Epoch 171/500\n",
      "5/5 [==============================] - 0s 9ms/step - loss: 0.6503 - val_loss: 0.8947\n",
      "Epoch 172/500\n",
      "5/5 [==============================] - 0s 9ms/step - loss: 0.6129 - val_loss: 0.8956\n",
      "Epoch 173/500\n",
      "5/5 [==============================] - 0s 8ms/step - loss: 0.6504 - val_loss: 0.8966\n",
      "Epoch 174/500\n",
      "5/5 [==============================] - 0s 9ms/step - loss: 0.6932 - val_loss: 0.8961\n",
      "Epoch 175/500\n",
      "5/5 [==============================] - 0s 8ms/step - loss: 0.6488 - val_loss: 0.8950\n",
      "Epoch 176/500\n",
      "5/5 [==============================] - 0s 8ms/step - loss: 0.6735 - val_loss: 0.8941\n",
      "Epoch 177/500\n",
      "5/5 [==============================] - 0s 9ms/step - loss: 0.6944 - val_loss: 0.8945\n",
      "Epoch 178/500\n",
      "5/5 [==============================] - 0s 8ms/step - loss: 0.6503 - val_loss: 0.8933\n",
      "Epoch 179/500\n",
      "5/5 [==============================] - 0s 8ms/step - loss: 0.6316 - val_loss: 0.8924\n",
      "Epoch 180/500\n",
      "5/5 [==============================] - 0s 8ms/step - loss: 0.6607 - val_loss: 0.8919\n",
      "Epoch 181/500\n",
      "5/5 [==============================] - 0s 9ms/step - loss: 0.6534 - val_loss: 0.8929\n",
      "Epoch 182/500\n",
      "5/5 [==============================] - 0s 8ms/step - loss: 0.7204 - val_loss: 0.8936\n",
      "Epoch 183/500\n",
      "5/5 [==============================] - 0s 8ms/step - loss: 0.6388 - val_loss: 0.8941\n",
      "Epoch 184/500\n",
      "5/5 [==============================] - 0s 9ms/step - loss: 0.6508 - val_loss: 0.8949\n",
      "Epoch 185/500\n",
      "5/5 [==============================] - 0s 9ms/step - loss: 0.6115 - val_loss: 0.8955\n",
      "Epoch 186/500\n",
      "5/5 [==============================] - 0s 8ms/step - loss: 0.6660 - val_loss: 0.8957\n",
      "Epoch 187/500\n",
      "5/5 [==============================] - 0s 8ms/step - loss: 0.6415 - val_loss: 0.8963\n",
      "Epoch 188/500\n",
      "5/5 [==============================] - 0s 9ms/step - loss: 0.6338 - val_loss: 0.8971\n",
      "Epoch 189/500\n",
      "5/5 [==============================] - 0s 8ms/step - loss: 0.5940 - val_loss: 0.8978\n",
      "Epoch 190/500\n",
      "5/5 [==============================] - 0s 9ms/step - loss: 0.6341 - val_loss: 0.8977\n",
      "Epoch 190: early stopping\n"
     ]
    },
    {
     "data": {
      "text/plain": [
       "<keras.callbacks.History at 0x1bae074f9d0>"
      ]
     },
     "execution_count": 67,
     "metadata": {},
     "output_type": "execute_result"
    }
   ],
   "source": [
    "model.fit(x=X_train,y=y_train,epochs=500,\n",
    "          validation_data=(X_test,y_test),\n",
    "         callbacks=[early_stop])"
   ]
  },
  {
   "cell_type": "code",
   "execution_count": 68,
   "id": "255d0ac7",
   "metadata": {},
   "outputs": [],
   "source": [
    "model_loss = pd.DataFrame(model.history.history)"
   ]
  },
  {
   "cell_type": "code",
   "execution_count": 69,
   "id": "b0cea510",
   "metadata": {},
   "outputs": [
    {
     "data": {
      "text/plain": [
       "<AxesSubplot:>"
      ]
     },
     "execution_count": 69,
     "metadata": {},
     "output_type": "execute_result"
    },
    {
     "data": {
      "image/png": "[encoded data removed]",
      "text/plain": [
       "<Figure size 432x288 with 1 Axes>"
      ]
     },
     "metadata": {
      "needs_background": "light"
     },
     "output_type": "display_data"
    }
   ],
   "source": [
    "model_loss.plot()"
   ]
  },
  {
   "cell_type": "code",
   "execution_count": 70,
   "id": "a9aca86b",
   "metadata": {},
   "outputs": [],
   "source": [
    "from sklearn.metrics import classification_report,confusion_matrix"
   ]
  },
  {
   "cell_type": "code",
   "execution_count": 71,
   "id": "543c4cd3",
   "metadata": {},
   "outputs": [],
   "source": [
    "pred = model.predict(X_test)\n",
    "classes = np.argmax(pred,axis=1)"
   ]
  },
  {
   "cell_type": "code",
   "execution_count": 72,
   "id": "b7ca9fe0",
   "metadata": {},
   "outputs": [
    {
     "name": "stdout",
     "output_type": "stream",
     "text": [
      "              precision    recall  f1-score   support\n",
      "\n",
      "           1       0.79      1.00      0.88        19\n",
      "           2       1.00      0.29      0.44         7\n",
      "           3       0.22      0.67      0.33         3\n",
      "           4       0.00      0.00      0.00         4\n",
      "           5       0.00      0.00      0.00         2\n",
      "\n",
      "    accuracy                           0.66        35\n",
      "   macro avg       0.40      0.39      0.33        35\n",
      "weighted avg       0.65      0.66      0.60        35\n",
      "\n"
     ]
    }
   ],
   "source": [
    "print(classification_report(y_test,classes))"
   ]
  },
  {
   "cell_type": "code",
   "execution_count": 73,
   "id": "de5577cd",
   "metadata": {
    "scrolled": true
   },
   "outputs": [
    {
     "name": "stdout",
     "output_type": "stream",
     "text": [
      "[[19  0  0  0  0]\n",
      " [ 4  2  1  0  0]\n",
      " [ 1  0  2  0  0]\n",
      " [ 0  0  4  0  0]\n",
      " [ 0  0  2  0  0]]\n"
     ]
    }
   ],
   "source": [
    "print(confusion_matrix(y_test,classes))"
   ]
  },
  {
   "cell_type": "code",
   "execution_count": null,
   "id": "55cdbff8",
   "metadata": {},
   "outputs": [],
   "source": [
    "# MULTI CLASS KLASIFIKACIJA JE PROSLA MNOGO LOSIJE"
   ]
  },
  {
   "cell_type": "code",
   "execution_count": 74,
   "id": "f89f5a4c",
   "metadata": {},
   "outputs": [],
   "source": [
    "# POKUSAJ BALANSIRANJA PODATAKA OCIJENE"
   ]
  },
  {
   "cell_type": "code",
   "execution_count": 75,
   "id": "fb11fd21",
   "metadata": {},
   "outputs": [],
   "source": [
    "from imblearn import under_sampling, over_sampling\n",
    "from imblearn.over_sampling import SMOTE"
   ]
  },
  {
   "cell_type": "code",
   "execution_count": 76,
   "id": "349fe944",
   "metadata": {},
   "outputs": [],
   "source": [
    "oversample = SMOTE()"
   ]
  },
  {
   "cell_type": "code",
   "execution_count": 77,
   "id": "a82ef73c",
   "metadata": {
    "scrolled": true
   },
   "outputs": [
    {
     "ename": "ValueError",
     "evalue": "Expected n_neighbors <= n_samples,  but n_samples = 2, n_neighbors = 6",
     "output_type": "error",
     "traceback": [
      "\u001b[1;31m---------------------------------------------------------------------------\u001b[0m",
      "\u001b[1;31mValueError\u001b[0m                                Traceback (most recent call last)",
      "\u001b[1;32m<ipython-input-77-f94dd45ee88d>\u001b[0m in \u001b[0;36m<module>\u001b[1;34m\u001b[0m\n\u001b[1;32m----> 1\u001b[1;33m \u001b[0mX_smote\u001b[0m\u001b[1;33m,\u001b[0m\u001b[0my_smote\u001b[0m \u001b[1;33m=\u001b[0m \u001b[0moversample\u001b[0m\u001b[1;33m.\u001b[0m\u001b[0mfit_resample\u001b[0m\u001b[1;33m(\u001b[0m\u001b[0mX\u001b[0m\u001b[1;33m,\u001b[0m\u001b[0my\u001b[0m\u001b[1;33m)\u001b[0m\u001b[1;33m\u001b[0m\u001b[1;33m\u001b[0m\u001b[0m\n\u001b[0m",
      "\u001b[1;32m~\\AppData\\Local\\anaconda3\\lib\\site-packages\\imblearn\\base.py\u001b[0m in \u001b[0;36mfit_resample\u001b[1;34m(self, X, y)\u001b[0m\n\u001b[0;32m     81\u001b[0m         )\n\u001b[0;32m     82\u001b[0m \u001b[1;33m\u001b[0m\u001b[0m\n\u001b[1;32m---> 83\u001b[1;33m         \u001b[0moutput\u001b[0m \u001b[1;33m=\u001b[0m \u001b[0mself\u001b[0m\u001b[1;33m.\u001b[0m\u001b[0m_fit_resample\u001b[0m\u001b[1;33m(\u001b[0m\u001b[0mX\u001b[0m\u001b[1;33m,\u001b[0m \u001b[0my\u001b[0m\u001b[1;33m)\u001b[0m\u001b[1;33m\u001b[0m\u001b[1;33m\u001b[0m\u001b[0m\n\u001b[0m\u001b[0;32m     84\u001b[0m \u001b[1;33m\u001b[0m\u001b[0m\n\u001b[0;32m     85\u001b[0m         y_ = (\n",
      "\u001b[1;32m~\\AppData\\Local\\anaconda3\\lib\\site-packages\\imblearn\\over_sampling\\_smote\\base.py\u001b[0m in \u001b[0;36m_fit_resample\u001b[1;34m(self, X, y)\u001b[0m\n\u001b[0;32m    322\u001b[0m \u001b[1;33m\u001b[0m\u001b[0m\n\u001b[0;32m    323\u001b[0m             \u001b[0mself\u001b[0m\u001b[1;33m.\u001b[0m\u001b[0mnn_k_\u001b[0m\u001b[1;33m.\u001b[0m\u001b[0mfit\u001b[0m\u001b[1;33m(\u001b[0m\u001b[0mX_class\u001b[0m\u001b[1;33m)\u001b[0m\u001b[1;33m\u001b[0m\u001b[1;33m\u001b[0m\u001b[0m\n\u001b[1;32m--> 324\u001b[1;33m             \u001b[0mnns\u001b[0m \u001b[1;33m=\u001b[0m \u001b[0mself\u001b[0m\u001b[1;33m.\u001b[0m\u001b[0mnn_k_\u001b[0m\u001b[1;33m.\u001b[0m\u001b[0mkneighbors\u001b[0m\u001b[1;33m(\u001b[0m\u001b[0mX_class\u001b[0m\u001b[1;33m,\u001b[0m \u001b[0mreturn_distance\u001b[0m\u001b[1;33m=\u001b[0m\u001b[1;32mFalse\u001b[0m\u001b[1;33m)\u001b[0m\u001b[1;33m[\u001b[0m\u001b[1;33m:\u001b[0m\u001b[1;33m,\u001b[0m \u001b[1;36m1\u001b[0m\u001b[1;33m:\u001b[0m\u001b[1;33m]\u001b[0m\u001b[1;33m\u001b[0m\u001b[1;33m\u001b[0m\u001b[0m\n\u001b[0m\u001b[0;32m    325\u001b[0m             X_new, y_new = self._make_samples(\n\u001b[0;32m    326\u001b[0m                 \u001b[0mX_class\u001b[0m\u001b[1;33m,\u001b[0m \u001b[0my\u001b[0m\u001b[1;33m.\u001b[0m\u001b[0mdtype\u001b[0m\u001b[1;33m,\u001b[0m \u001b[0mclass_sample\u001b[0m\u001b[1;33m,\u001b[0m \u001b[0mX_class\u001b[0m\u001b[1;33m,\u001b[0m \u001b[0mnns\u001b[0m\u001b[1;33m,\u001b[0m \u001b[0mn_samples\u001b[0m\u001b[1;33m,\u001b[0m \u001b[1;36m1.0\u001b[0m\u001b[1;33m\u001b[0m\u001b[1;33m\u001b[0m\u001b[0m\n",
      "\u001b[1;32m~\\AppData\\Local\\anaconda3\\lib\\site-packages\\sklearn\\neighbors\\_base.py\u001b[0m in \u001b[0;36mkneighbors\u001b[1;34m(self, X, n_neighbors, return_distance)\u001b[0m\n\u001b[0;32m    725\u001b[0m         \u001b[0mn_samples_fit\u001b[0m \u001b[1;33m=\u001b[0m \u001b[0mself\u001b[0m\u001b[1;33m.\u001b[0m\u001b[0mn_samples_fit_\u001b[0m\u001b[1;33m\u001b[0m\u001b[1;33m\u001b[0m\u001b[0m\n\u001b[0;32m    726\u001b[0m         \u001b[1;32mif\u001b[0m \u001b[0mn_neighbors\u001b[0m \u001b[1;33m>\u001b[0m \u001b[0mn_samples_fit\u001b[0m\u001b[1;33m:\u001b[0m\u001b[1;33m\u001b[0m\u001b[1;33m\u001b[0m\u001b[0m\n\u001b[1;32m--> 727\u001b[1;33m             raise ValueError(\n\u001b[0m\u001b[0;32m    728\u001b[0m                 \u001b[1;34m\"Expected n_neighbors <= n_samples, \"\u001b[0m\u001b[1;33m\u001b[0m\u001b[1;33m\u001b[0m\u001b[0m\n\u001b[0;32m    729\u001b[0m                 \u001b[1;34m\" but n_samples = %d, n_neighbors = %d\"\u001b[0m \u001b[1;33m%\u001b[0m \u001b[1;33m(\u001b[0m\u001b[0mn_samples_fit\u001b[0m\u001b[1;33m,\u001b[0m \u001b[0mn_neighbors\u001b[0m\u001b[1;33m)\u001b[0m\u001b[1;33m\u001b[0m\u001b[1;33m\u001b[0m\u001b[0m\n",
      "\u001b[1;31mValueError\u001b[0m: Expected n_neighbors <= n_samples,  but n_samples = 2, n_neighbors = 6"
     ]
    }
   ],
   "source": [
    "X_smote,y_smote = oversample.fit_resample(X,y)"
   ]
  },
  {
   "cell_type": "code",
   "execution_count": 78,
   "id": "baa70100",
   "metadata": {},
   "outputs": [
    {
     "data": {
      "text/plain": [
       "1    103\n",
       "2     33\n",
       "3     25\n",
       "4     11\n",
       "5      2\n",
       "Name: Ocijena, dtype: int64"
      ]
     },
     "execution_count": 78,
     "metadata": {},
     "output_type": "execute_result"
    }
   ],
   "source": [
    "df.Ocijena.value_counts()"
   ]
  },
  {
   "cell_type": "code",
   "execution_count": 79,
   "id": "49efbea0",
   "metadata": {},
   "outputs": [],
   "source": [
    "#NIJE MOGUCE IZBALANSIRATI JER IMAMO MALO VRIJEDNOSTI ZA OCIJENU 5"
   ]
  },
  {
   "cell_type": "code",
   "execution_count": 80,
   "id": "498fbcca",
   "metadata": {},
   "outputs": [],
   "source": [
    "# BINARY CLASSIFICATION\n",
    "\n",
    "X = df.drop(['Ukupno.1','Prolazak','Ocijena','Test iz teorije 1','Test iz teorije 2'],axis=1).values\n",
    "y = df['Prolazak'].values"
   ]
  },
  {
   "cell_type": "code",
   "execution_count": 81,
   "id": "adc0ab85",
   "metadata": {},
   "outputs": [],
   "source": [
    "X_train, X_test, y_train, y_test = train_test_split(X, y, test_size=0.20, random_state=44)"
   ]
  },
  {
   "cell_type": "code",
   "execution_count": 82,
   "id": "9fb7b776",
   "metadata": {},
   "outputs": [],
   "source": [
    "X_train = scaler.fit_transform(X_train)\n",
    "X_test = scaler.transform(X_test)"
   ]
  },
  {
   "cell_type": "code",
   "execution_count": 83,
   "id": "fd74d010",
   "metadata": {},
   "outputs": [],
   "source": [
    "model = Sequential()\n",
    "\n",
    "model.add(Dense(6,activation='relu'))\n",
    "model.add(Dense(30,activation='relu'))\n",
    "model.add(Dropout(0.3))\n",
    "model.add(Dense(30,activation='relu'))\n",
    "model.add(Dropout(0.3))\n",
    "\n",
    "#BINARY CLASSIFICATION\n",
    "#binary class triba bit sigmoid za aktivaciju, viditi teoriju za ovo\n",
    "model.add(Dense(1,activation='sigmoid'))\n",
    "\n",
    "model.compile(loss='binary_crossentropy',optimizer='adam')"
   ]
  },
  {
   "cell_type": "code",
   "execution_count": 84,
   "id": "7af77dca",
   "metadata": {},
   "outputs": [],
   "source": [
    "early_stop = EarlyStopping(monitor='val_loss',\n",
    "                          mode='min',\n",
    "                          verbose=1,\n",
    "                          patience=25)"
   ]
  },
  {
   "cell_type": "code",
   "execution_count": 85,
   "id": "84db43f9",
   "metadata": {},
   "outputs": [
    {
     "name": "stdout",
     "output_type": "stream",
     "text": [
      "Epoch 1/600\n",
      "5/5 [==============================] - 1s 53ms/step - loss: 0.7235 - val_loss: 0.7103\n",
      "Epoch 2/600\n",
      "5/5 [==============================] - 0s 9ms/step - loss: 0.7114 - val_loss: 0.7043\n",
      "Epoch 3/600\n",
      "5/5 [==============================] - 0s 10ms/step - loss: 0.7059 - val_loss: 0.6983\n",
      "Epoch 4/600\n",
      "5/5 [==============================] - 0s 11ms/step - loss: 0.6946 - val_loss: 0.6929\n",
      "Epoch 5/600\n",
      "5/5 [==============================] - 0s 9ms/step - loss: 0.6970 - val_loss: 0.6875\n",
      "Epoch 6/600\n",
      "5/5 [==============================] - 0s 11ms/step - loss: 0.6886 - val_loss: 0.6818\n",
      "Epoch 7/600\n",
      "5/5 [==============================] - 0s 10ms/step - loss: 0.6812 - val_loss: 0.6758\n",
      "Epoch 8/600\n",
      "5/5 [==============================] - 0s 10ms/step - loss: 0.6766 - val_loss: 0.6695\n",
      "Epoch 9/600\n",
      "5/5 [==============================] - 0s 10ms/step - loss: 0.6679 - val_loss: 0.6625\n",
      "Epoch 10/600\n",
      "5/5 [==============================] - 0s 10ms/step - loss: 0.6618 - val_loss: 0.6548\n",
      "Epoch 11/600\n",
      "5/5 [==============================] - 0s 9ms/step - loss: 0.6552 - val_loss: 0.6468\n",
      "Epoch 12/600\n",
      "5/5 [==============================] - 0s 9ms/step - loss: 0.6452 - val_loss: 0.6386\n",
      "Epoch 13/600\n",
      "5/5 [==============================] - 0s 9ms/step - loss: 0.6315 - val_loss: 0.6302\n",
      "Epoch 14/600\n",
      "5/5 [==============================] - 0s 9ms/step - loss: 0.6264 - val_loss: 0.6209\n",
      "Epoch 15/600\n",
      "5/5 [==============================] - 0s 10ms/step - loss: 0.6252 - val_loss: 0.6105\n",
      "Epoch 16/600\n",
      "5/5 [==============================] - 0s 11ms/step - loss: 0.6110 - val_loss: 0.5988\n",
      "Epoch 17/600\n",
      "5/5 [==============================] - 0s 10ms/step - loss: 0.6059 - val_loss: 0.5859\n",
      "Epoch 18/600\n",
      "5/5 [==============================] - 0s 10ms/step - loss: 0.5847 - val_loss: 0.5727\n",
      "Epoch 19/600\n",
      "5/5 [==============================] - 0s 9ms/step - loss: 0.5935 - val_loss: 0.5596\n",
      "Epoch 20/600\n",
      "5/5 [==============================] - 0s 10ms/step - loss: 0.5654 - val_loss: 0.5457\n",
      "Epoch 21/600\n",
      "5/5 [==============================] - 0s 12ms/step - loss: 0.5395 - val_loss: 0.5318\n",
      "Epoch 22/600\n",
      "5/5 [==============================] - 0s 12ms/step - loss: 0.5396 - val_loss: 0.5192\n",
      "Epoch 23/600\n",
      "5/5 [==============================] - 0s 9ms/step - loss: 0.5267 - val_loss: 0.5058\n",
      "Epoch 24/600\n",
      "5/5 [==============================] - 0s 9ms/step - loss: 0.5126 - val_loss: 0.4921\n",
      "Epoch 25/600\n",
      "5/5 [==============================] - 0s 10ms/step - loss: 0.4883 - val_loss: 0.4777\n",
      "Epoch 26/600\n",
      "5/5 [==============================] - 0s 11ms/step - loss: 0.4975 - val_loss: 0.4644\n",
      "Epoch 27/600\n",
      "5/5 [==============================] - 0s 10ms/step - loss: 0.4740 - val_loss: 0.4519\n",
      "Epoch 28/600\n",
      "5/5 [==============================] - 0s 10ms/step - loss: 0.4375 - val_loss: 0.4396\n",
      "Epoch 29/600\n",
      "5/5 [==============================] - 0s 10ms/step - loss: 0.4436 - val_loss: 0.4273\n",
      "Epoch 30/600\n",
      "5/5 [==============================] - 0s 10ms/step - loss: 0.4206 - val_loss: 0.4157\n",
      "Epoch 31/600\n",
      "5/5 [==============================] - 0s 10ms/step - loss: 0.4372 - val_loss: 0.4057\n",
      "Epoch 32/600\n",
      "5/5 [==============================] - 0s 9ms/step - loss: 0.4101 - val_loss: 0.3967\n",
      "Epoch 33/600\n",
      "5/5 [==============================] - 0s 10ms/step - loss: 0.4025 - val_loss: 0.3887\n",
      "Epoch 34/600\n",
      "5/5 [==============================] - 0s 9ms/step - loss: 0.4021 - val_loss: 0.3806\n",
      "Epoch 35/600\n",
      "5/5 [==============================] - 0s 9ms/step - loss: 0.3851 - val_loss: 0.3738\n",
      "Epoch 36/600\n",
      "5/5 [==============================] - 0s 9ms/step - loss: 0.3804 - val_loss: 0.3666\n",
      "Epoch 37/600\n",
      "5/5 [==============================] - 0s 9ms/step - loss: 0.3790 - val_loss: 0.3595\n",
      "Epoch 38/600\n",
      "5/5 [==============================] - 0s 10ms/step - loss: 0.3758 - val_loss: 0.3541\n",
      "Epoch 39/600\n",
      "5/5 [==============================] - 0s 9ms/step - loss: 0.3628 - val_loss: 0.3468\n",
      "Epoch 40/600\n",
      "5/5 [==============================] - 0s 9ms/step - loss: 0.3494 - val_loss: 0.3376\n",
      "Epoch 41/600\n",
      "5/5 [==============================] - 0s 11ms/step - loss: 0.3464 - val_loss: 0.3313\n",
      "Epoch 42/600\n",
      "5/5 [==============================] - 0s 11ms/step - loss: 0.3418 - val_loss: 0.3302\n",
      "Epoch 43/600\n",
      "5/5 [==============================] - 0s 10ms/step - loss: 0.3252 - val_loss: 0.3332\n",
      "Epoch 44/600\n",
      "5/5 [==============================] - 0s 10ms/step - loss: 0.2917 - val_loss: 0.3342\n",
      "Epoch 45/600\n",
      "5/5 [==============================] - 0s 9ms/step - loss: 0.3316 - val_loss: 0.3355\n",
      "Epoch 46/600\n",
      "5/5 [==============================] - 0s 10ms/step - loss: 0.3554 - val_loss: 0.3347\n",
      "Epoch 47/600\n",
      "5/5 [==============================] - 0s 9ms/step - loss: 0.3179 - val_loss: 0.3370\n",
      "Epoch 48/600\n",
      "5/5 [==============================] - 0s 11ms/step - loss: 0.3479 - val_loss: 0.3332\n",
      "Epoch 49/600\n",
      "5/5 [==============================] - 0s 10ms/step - loss: 0.3327 - val_loss: 0.3251\n",
      "Epoch 50/600\n",
      "5/5 [==============================] - 0s 9ms/step - loss: 0.3170 - val_loss: 0.3165\n",
      "Epoch 51/600\n",
      "5/5 [==============================] - 0s 10ms/step - loss: 0.3254 - val_loss: 0.3142\n",
      "Epoch 52/600\n",
      "5/5 [==============================] - 0s 9ms/step - loss: 0.3193 - val_loss: 0.3126\n",
      "Epoch 53/600\n",
      "5/5 [==============================] - 0s 11ms/step - loss: 0.3085 - val_loss: 0.3087\n",
      "Epoch 54/600\n",
      "5/5 [==============================] - 0s 10ms/step - loss: 0.3114 - val_loss: 0.2994\n",
      "Epoch 55/600\n",
      "5/5 [==============================] - 0s 8ms/step - loss: 0.3278 - val_loss: 0.2964\n",
      "Epoch 56/600\n",
      "5/5 [==============================] - 0s 10ms/step - loss: 0.3540 - val_loss: 0.2977\n",
      "Epoch 57/600\n",
      "5/5 [==============================] - 0s 9ms/step - loss: 0.2995 - val_loss: 0.3053\n",
      "Epoch 58/600\n",
      "5/5 [==============================] - 0s 9ms/step - loss: 0.3289 - val_loss: 0.3079\n",
      "Epoch 59/600\n",
      "5/5 [==============================] - 0s 9ms/step - loss: 0.3214 - val_loss: 0.3117\n",
      "Epoch 60/600\n",
      "5/5 [==============================] - 0s 9ms/step - loss: 0.2992 - val_loss: 0.3146\n",
      "Epoch 61/600\n",
      "5/5 [==============================] - 0s 9ms/step - loss: 0.3296 - val_loss: 0.3118\n",
      "Epoch 62/600\n",
      "5/5 [==============================] - 0s 9ms/step - loss: 0.3154 - val_loss: 0.3090\n",
      "Epoch 63/600\n",
      "5/5 [==============================] - 0s 9ms/step - loss: 0.2933 - val_loss: 0.2994\n",
      "Epoch 64/600\n",
      "5/5 [==============================] - 0s 11ms/step - loss: 0.3263 - val_loss: 0.2931\n",
      "Epoch 65/600\n",
      "5/5 [==============================] - 0s 10ms/step - loss: 0.3243 - val_loss: 0.2906\n",
      "Epoch 66/600\n",
      "5/5 [==============================] - 0s 9ms/step - loss: 0.2928 - val_loss: 0.2893\n",
      "Epoch 67/600\n",
      "5/5 [==============================] - 0s 9ms/step - loss: 0.3275 - val_loss: 0.2897\n",
      "Epoch 68/600\n",
      "5/5 [==============================] - 0s 9ms/step - loss: 0.3112 - val_loss: 0.2928\n",
      "Epoch 69/600\n",
      "5/5 [==============================] - 0s 9ms/step - loss: 0.2842 - val_loss: 0.2973\n",
      "Epoch 70/600\n",
      "5/5 [==============================] - 0s 9ms/step - loss: 0.3102 - val_loss: 0.2972\n",
      "Epoch 71/600\n",
      "5/5 [==============================] - 0s 9ms/step - loss: 0.3130 - val_loss: 0.2951\n",
      "Epoch 72/600\n",
      "5/5 [==============================] - 0s 8ms/step - loss: 0.3006 - val_loss: 0.2930\n",
      "Epoch 73/600\n",
      "5/5 [==============================] - 0s 9ms/step - loss: 0.2842 - val_loss: 0.2870\n",
      "Epoch 74/600\n",
      "5/5 [==============================] - 0s 9ms/step - loss: 0.3025 - val_loss: 0.2837\n",
      "Epoch 75/600\n",
      "5/5 [==============================] - 0s 9ms/step - loss: 0.3243 - val_loss: 0.2802\n",
      "Epoch 76/600\n",
      "5/5 [==============================] - 0s 9ms/step - loss: 0.2817 - val_loss: 0.2829\n",
      "Epoch 77/600\n",
      "5/5 [==============================] - 0s 9ms/step - loss: 0.2672 - val_loss: 0.2855\n",
      "Epoch 78/600\n",
      "5/5 [==============================] - 0s 11ms/step - loss: 0.2852 - val_loss: 0.2878\n",
      "Epoch 79/600\n",
      "5/5 [==============================] - 0s 10ms/step - loss: 0.3166 - val_loss: 0.2886\n",
      "Epoch 80/600\n",
      "5/5 [==============================] - 0s 8ms/step - loss: 0.3148 - val_loss: 0.2884\n",
      "Epoch 81/600\n",
      "5/5 [==============================] - 0s 10ms/step - loss: 0.2756 - val_loss: 0.2872\n",
      "Epoch 82/600\n",
      "5/5 [==============================] - 0s 9ms/step - loss: 0.3183 - val_loss: 0.2846\n",
      "Epoch 83/600\n",
      "5/5 [==============================] - 0s 8ms/step - loss: 0.2746 - val_loss: 0.2783\n",
      "Epoch 84/600\n"
     ]
    },
    {
     "name": "stdout",
     "output_type": "stream",
     "text": [
      "5/5 [==============================] - 0s 10ms/step - loss: 0.2895 - val_loss: 0.2713\n",
      "Epoch 85/600\n",
      "5/5 [==============================] - 0s 8ms/step - loss: 0.3009 - val_loss: 0.2699\n",
      "Epoch 86/600\n",
      "5/5 [==============================] - 0s 9ms/step - loss: 0.2734 - val_loss: 0.2708\n",
      "Epoch 87/600\n",
      "5/5 [==============================] - 0s 10ms/step - loss: 0.2740 - val_loss: 0.2770\n",
      "Epoch 88/600\n",
      "5/5 [==============================] - 0s 8ms/step - loss: 0.3058 - val_loss: 0.2789\n",
      "Epoch 89/600\n",
      "5/5 [==============================] - 0s 9ms/step - loss: 0.2994 - val_loss: 0.2781\n",
      "Epoch 90/600\n",
      "5/5 [==============================] - 0s 10ms/step - loss: 0.2700 - val_loss: 0.2710\n",
      "Epoch 91/600\n",
      "5/5 [==============================] - 0s 10ms/step - loss: 0.2550 - val_loss: 0.2679\n",
      "Epoch 92/600\n",
      "5/5 [==============================] - 0s 8ms/step - loss: 0.2803 - val_loss: 0.2644\n",
      "Epoch 93/600\n",
      "5/5 [==============================] - 0s 9ms/step - loss: 0.2433 - val_loss: 0.2649\n",
      "Epoch 94/600\n",
      "5/5 [==============================] - 0s 8ms/step - loss: 0.2570 - val_loss: 0.2634\n",
      "Epoch 95/600\n",
      "5/5 [==============================] - 0s 9ms/step - loss: 0.2622 - val_loss: 0.2652\n",
      "Epoch 96/600\n",
      "5/5 [==============================] - 0s 9ms/step - loss: 0.3074 - val_loss: 0.2655\n",
      "Epoch 97/600\n",
      "5/5 [==============================] - 0s 10ms/step - loss: 0.2872 - val_loss: 0.2678\n",
      "Epoch 98/600\n",
      "5/5 [==============================] - 0s 9ms/step - loss: 0.2553 - val_loss: 0.2691\n",
      "Epoch 99/600\n",
      "5/5 [==============================] - 0s 9ms/step - loss: 0.2620 - val_loss: 0.2690\n",
      "Epoch 100/600\n",
      "5/5 [==============================] - 0s 9ms/step - loss: 0.2692 - val_loss: 0.2639\n",
      "Epoch 101/600\n",
      "5/5 [==============================] - 0s 9ms/step - loss: 0.2878 - val_loss: 0.2614\n",
      "Epoch 102/600\n",
      "5/5 [==============================] - 0s 9ms/step - loss: 0.2977 - val_loss: 0.2617\n",
      "Epoch 103/600\n",
      "5/5 [==============================] - 0s 9ms/step - loss: 0.3141 - val_loss: 0.2634\n",
      "Epoch 104/600\n",
      "5/5 [==============================] - 0s 10ms/step - loss: 0.2791 - val_loss: 0.2654\n",
      "Epoch 105/600\n",
      "5/5 [==============================] - 0s 10ms/step - loss: 0.2663 - val_loss: 0.2698\n",
      "Epoch 106/600\n",
      "5/5 [==============================] - 0s 11ms/step - loss: 0.2796 - val_loss: 0.2711\n",
      "Epoch 107/600\n",
      "5/5 [==============================] - 0s 11ms/step - loss: 0.3044 - val_loss: 0.2714\n",
      "Epoch 108/600\n",
      "5/5 [==============================] - 0s 10ms/step - loss: 0.2911 - val_loss: 0.2699\n",
      "Epoch 109/600\n",
      "5/5 [==============================] - 0s 10ms/step - loss: 0.2818 - val_loss: 0.2638\n",
      "Epoch 110/600\n",
      "5/5 [==============================] - 0s 9ms/step - loss: 0.3163 - val_loss: 0.2618\n",
      "Epoch 111/600\n",
      "5/5 [==============================] - 0s 9ms/step - loss: 0.2919 - val_loss: 0.2659\n",
      "Epoch 112/600\n",
      "5/5 [==============================] - 0s 10ms/step - loss: 0.2698 - val_loss: 0.2640\n",
      "Epoch 113/600\n",
      "5/5 [==============================] - 0s 9ms/step - loss: 0.2624 - val_loss: 0.2653\n",
      "Epoch 114/600\n",
      "5/5 [==============================] - 0s 9ms/step - loss: 0.2972 - val_loss: 0.2694\n",
      "Epoch 115/600\n",
      "5/5 [==============================] - 0s 9ms/step - loss: 0.2630 - val_loss: 0.2675\n",
      "Epoch 116/600\n",
      "5/5 [==============================] - 0s 9ms/step - loss: 0.2692 - val_loss: 0.2641\n",
      "Epoch 117/600\n",
      "5/5 [==============================] - 0s 10ms/step - loss: 0.2415 - val_loss: 0.2633\n",
      "Epoch 118/600\n",
      "5/5 [==============================] - 0s 8ms/step - loss: 0.2439 - val_loss: 0.2628\n",
      "Epoch 119/600\n",
      "5/5 [==============================] - 0s 10ms/step - loss: 0.2852 - val_loss: 0.2649\n",
      "Epoch 120/600\n",
      "5/5 [==============================] - 0s 8ms/step - loss: 0.2580 - val_loss: 0.2664\n",
      "Epoch 121/600\n",
      "5/5 [==============================] - 0s 10ms/step - loss: 0.2421 - val_loss: 0.2679\n",
      "Epoch 122/600\n",
      "5/5 [==============================] - 0s 8ms/step - loss: 0.2537 - val_loss: 0.2618\n",
      "Epoch 123/600\n",
      "5/5 [==============================] - 0s 11ms/step - loss: 0.2637 - val_loss: 0.2618\n",
      "Epoch 124/600\n",
      "5/5 [==============================] - 0s 8ms/step - loss: 0.2619 - val_loss: 0.2589\n",
      "Epoch 125/600\n",
      "5/5 [==============================] - 0s 9ms/step - loss: 0.2714 - val_loss: 0.2566\n",
      "Epoch 126/600\n",
      "5/5 [==============================] - 0s 8ms/step - loss: 0.2695 - val_loss: 0.2585\n",
      "Epoch 127/600\n",
      "5/5 [==============================] - 0s 9ms/step - loss: 0.2286 - val_loss: 0.2621\n",
      "Epoch 128/600\n",
      "5/5 [==============================] - 0s 9ms/step - loss: 0.2466 - val_loss: 0.2610\n",
      "Epoch 129/600\n",
      "5/5 [==============================] - 0s 9ms/step - loss: 0.2470 - val_loss: 0.2675\n",
      "Epoch 130/600\n",
      "5/5 [==============================] - 0s 9ms/step - loss: 0.2566 - val_loss: 0.2657\n",
      "Epoch 131/600\n",
      "5/5 [==============================] - 0s 9ms/step - loss: 0.2606 - val_loss: 0.2623\n",
      "Epoch 132/600\n",
      "5/5 [==============================] - 0s 9ms/step - loss: 0.2749 - val_loss: 0.2635\n",
      "Epoch 133/600\n",
      "5/5 [==============================] - 0s 10ms/step - loss: 0.2480 - val_loss: 0.2612\n",
      "Epoch 134/600\n",
      "5/5 [==============================] - 0s 9ms/step - loss: 0.2689 - val_loss: 0.2672\n",
      "Epoch 135/600\n",
      "5/5 [==============================] - 0s 9ms/step - loss: 0.2561 - val_loss: 0.2666\n",
      "Epoch 136/600\n",
      "5/5 [==============================] - 0s 9ms/step - loss: 0.2433 - val_loss: 0.2705\n",
      "Epoch 137/600\n",
      "5/5 [==============================] - 0s 9ms/step - loss: 0.2592 - val_loss: 0.2657\n",
      "Epoch 138/600\n",
      "5/5 [==============================] - 0s 9ms/step - loss: 0.2670 - val_loss: 0.2576\n",
      "Epoch 139/600\n",
      "5/5 [==============================] - 0s 10ms/step - loss: 0.2268 - val_loss: 0.2534\n",
      "Epoch 140/600\n",
      "5/5 [==============================] - 0s 10ms/step - loss: 0.2465 - val_loss: 0.2456\n",
      "Epoch 141/600\n",
      "5/5 [==============================] - 0s 9ms/step - loss: 0.2522 - val_loss: 0.2444\n",
      "Epoch 142/600\n",
      "5/5 [==============================] - 0s 9ms/step - loss: 0.2580 - val_loss: 0.2460\n",
      "Epoch 143/600\n",
      "5/5 [==============================] - 0s 9ms/step - loss: 0.2787 - val_loss: 0.2516\n",
      "Epoch 144/600\n",
      "5/5 [==============================] - 0s 9ms/step - loss: 0.2391 - val_loss: 0.2544\n",
      "Epoch 145/600\n",
      "5/5 [==============================] - 0s 9ms/step - loss: 0.2733 - val_loss: 0.2637\n",
      "Epoch 146/600\n",
      "5/5 [==============================] - 0s 10ms/step - loss: 0.3009 - val_loss: 0.2619\n",
      "Epoch 147/600\n",
      "5/5 [==============================] - 0s 10ms/step - loss: 0.2475 - val_loss: 0.2624\n",
      "Epoch 148/600\n",
      "5/5 [==============================] - 0s 10ms/step - loss: 0.2744 - val_loss: 0.2607\n",
      "Epoch 149/600\n",
      "5/5 [==============================] - 0s 11ms/step - loss: 0.2549 - val_loss: 0.2558\n",
      "Epoch 150/600\n",
      "5/5 [==============================] - 0s 10ms/step - loss: 0.2293 - val_loss: 0.2452\n",
      "Epoch 151/600\n",
      "5/5 [==============================] - 0s 12ms/step - loss: 0.2830 - val_loss: 0.2438\n",
      "Epoch 152/600\n",
      "5/5 [==============================] - 0s 12ms/step - loss: 0.2579 - val_loss: 0.2467\n",
      "Epoch 153/600\n",
      "5/5 [==============================] - 0s 10ms/step - loss: 0.2690 - val_loss: 0.2496\n",
      "Epoch 154/600\n",
      "5/5 [==============================] - 0s 16ms/step - loss: 0.2511 - val_loss: 0.2507\n",
      "Epoch 155/600\n",
      "5/5 [==============================] - 0s 9ms/step - loss: 0.2256 - val_loss: 0.2546\n",
      "Epoch 156/600\n",
      "5/5 [==============================] - 0s 10ms/step - loss: 0.2407 - val_loss: 0.2516\n",
      "Epoch 157/600\n",
      "5/5 [==============================] - 0s 10ms/step - loss: 0.2612 - val_loss: 0.2497\n",
      "Epoch 158/600\n",
      "5/5 [==============================] - 0s 8ms/step - loss: 0.2487 - val_loss: 0.2471\n",
      "Epoch 159/600\n",
      "5/5 [==============================] - 0s 9ms/step - loss: 0.2630 - val_loss: 0.2454\n",
      "Epoch 160/600\n",
      "5/5 [==============================] - 0s 9ms/step - loss: 0.2259 - val_loss: 0.2443\n",
      "Epoch 161/600\n",
      "5/5 [==============================] - 0s 9ms/step - loss: 0.2592 - val_loss: 0.2430\n",
      "Epoch 162/600\n",
      "5/5 [==============================] - 0s 9ms/step - loss: 0.2168 - val_loss: 0.2411\n",
      "Epoch 163/600\n",
      "5/5 [==============================] - 0s 9ms/step - loss: 0.2483 - val_loss: 0.2403\n",
      "Epoch 164/600\n",
      "5/5 [==============================] - 0s 10ms/step - loss: 0.2465 - val_loss: 0.2436\n",
      "Epoch 165/600\n",
      "5/5 [==============================] - 0s 10ms/step - loss: 0.2240 - val_loss: 0.2508\n",
      "Epoch 166/600\n"
     ]
    },
    {
     "name": "stdout",
     "output_type": "stream",
     "text": [
      "5/5 [==============================] - 0s 10ms/step - loss: 0.2503 - val_loss: 0.2483\n",
      "Epoch 167/600\n",
      "5/5 [==============================] - 0s 9ms/step - loss: 0.2432 - val_loss: 0.2515\n",
      "Epoch 168/600\n",
      "5/5 [==============================] - 0s 9ms/step - loss: 0.2376 - val_loss: 0.2525\n",
      "Epoch 169/600\n",
      "5/5 [==============================] - 0s 10ms/step - loss: 0.2307 - val_loss: 0.2483\n",
      "Epoch 170/600\n",
      "5/5 [==============================] - 0s 9ms/step - loss: 0.2759 - val_loss: 0.2437\n",
      "Epoch 171/600\n",
      "5/5 [==============================] - 0s 9ms/step - loss: 0.2214 - val_loss: 0.2372\n",
      "Epoch 172/600\n",
      "5/5 [==============================] - 0s 9ms/step - loss: 0.2662 - val_loss: 0.2306\n",
      "Epoch 173/600\n",
      "5/5 [==============================] - 0s 9ms/step - loss: 0.2407 - val_loss: 0.2314\n",
      "Epoch 174/600\n",
      "5/5 [==============================] - 0s 9ms/step - loss: 0.2511 - val_loss: 0.2383\n",
      "Epoch 175/600\n",
      "5/5 [==============================] - 0s 9ms/step - loss: 0.2204 - val_loss: 0.2432\n",
      "Epoch 176/600\n",
      "5/5 [==============================] - 0s 9ms/step - loss: 0.2728 - val_loss: 0.2539\n",
      "Epoch 177/600\n",
      "5/5 [==============================] - 0s 10ms/step - loss: 0.2514 - val_loss: 0.2520\n",
      "Epoch 178/600\n",
      "5/5 [==============================] - 0s 10ms/step - loss: 0.2442 - val_loss: 0.2474\n",
      "Epoch 179/600\n",
      "5/5 [==============================] - 0s 11ms/step - loss: 0.2539 - val_loss: 0.2440\n",
      "Epoch 180/600\n",
      "5/5 [==============================] - 0s 9ms/step - loss: 0.2444 - val_loss: 0.2438\n",
      "Epoch 181/600\n",
      "5/5 [==============================] - 0s 8ms/step - loss: 0.2520 - val_loss: 0.2406\n",
      "Epoch 182/600\n",
      "5/5 [==============================] - 0s 9ms/step - loss: 0.2280 - val_loss: 0.2445\n",
      "Epoch 183/600\n",
      "5/5 [==============================] - 0s 9ms/step - loss: 0.2044 - val_loss: 0.2440\n",
      "Epoch 184/600\n",
      "5/5 [==============================] - 0s 9ms/step - loss: 0.2641 - val_loss: 0.2429\n",
      "Epoch 185/600\n",
      "5/5 [==============================] - 0s 10ms/step - loss: 0.2397 - val_loss: 0.2404\n",
      "Epoch 186/600\n",
      "5/5 [==============================] - 0s 9ms/step - loss: 0.2541 - val_loss: 0.2382\n",
      "Epoch 187/600\n",
      "5/5 [==============================] - 0s 9ms/step - loss: 0.2276 - val_loss: 0.2363\n",
      "Epoch 188/600\n",
      "5/5 [==============================] - 0s 10ms/step - loss: 0.2499 - val_loss: 0.2428\n",
      "Epoch 189/600\n",
      "5/5 [==============================] - 0s 9ms/step - loss: 0.2268 - val_loss: 0.2425\n",
      "Epoch 190/600\n",
      "5/5 [==============================] - 0s 10ms/step - loss: 0.2384 - val_loss: 0.2453\n",
      "Epoch 191/600\n",
      "5/5 [==============================] - 0s 9ms/step - loss: 0.2365 - val_loss: 0.2438\n",
      "Epoch 192/600\n",
      "5/5 [==============================] - 0s 9ms/step - loss: 0.2389 - val_loss: 0.2453\n",
      "Epoch 193/600\n",
      "5/5 [==============================] - 0s 9ms/step - loss: 0.2115 - val_loss: 0.2503\n",
      "Epoch 194/600\n",
      "5/5 [==============================] - 0s 9ms/step - loss: 0.1965 - val_loss: 0.2438\n",
      "Epoch 195/600\n",
      "5/5 [==============================] - 0s 9ms/step - loss: 0.2295 - val_loss: 0.2367\n",
      "Epoch 196/600\n",
      "5/5 [==============================] - 0s 9ms/step - loss: 0.2303 - val_loss: 0.2322\n",
      "Epoch 197/600\n",
      "5/5 [==============================] - 0s 9ms/step - loss: 0.2199 - val_loss: 0.2337\n",
      "Epoch 197: early stopping\n"
     ]
    },
    {
     "data": {
      "text/plain": [
       "<keras.callbacks.History at 0x1bae357f730>"
      ]
     },
     "execution_count": 85,
     "metadata": {},
     "output_type": "execute_result"
    }
   ],
   "source": [
    "model.fit(x=X_train,y=y_train,epochs=600,validation_data=(X_test,y_test),\n",
    "         callbacks=[early_stop])"
   ]
  },
  {
   "cell_type": "code",
   "execution_count": 86,
   "id": "039e277f",
   "metadata": {},
   "outputs": [],
   "source": [
    "model_loss_binary = pd.DataFrame(model.history.history)"
   ]
  },
  {
   "cell_type": "code",
   "execution_count": 87,
   "id": "299db313",
   "metadata": {},
   "outputs": [
    {
     "data": {
      "text/plain": [
       "<AxesSubplot:>"
      ]
     },
     "execution_count": 87,
     "metadata": {},
     "output_type": "execute_result"
    },
    {
     "data": {
      "image/png": "[encoded data removed]",
      "text/plain": [
       "<Figure size 432x288 with 1 Axes>"
      ]
     },
     "metadata": {
      "needs_background": "light"
     },
     "output_type": "display_data"
    }
   ],
   "source": [
    "model_loss_binary.plot()"
   ]
  },
  {
   "cell_type": "code",
   "execution_count": 88,
   "id": "732fb8f5",
   "metadata": {},
   "outputs": [],
   "source": [
    "pred_binary = (model.predict(X_test)>0.5).astype('int32') "
   ]
  },
  {
   "cell_type": "code",
   "execution_count": null,
   "id": "68e48123",
   "metadata": {},
   "outputs": [],
   "source": [
    "# BINARY KLASIFIKACIJA JE PROSLA JAKO DOBRO S F1 OD 92%"
   ]
  },
  {
   "cell_type": "code",
   "execution_count": 89,
   "id": "6f157738",
   "metadata": {},
   "outputs": [
    {
     "name": "stdout",
     "output_type": "stream",
     "text": [
      "              precision    recall  f1-score   support\n",
      "\n",
      "           0       1.00      0.86      0.92        21\n",
      "           1       0.82      1.00      0.90        14\n",
      "\n",
      "    accuracy                           0.91        35\n",
      "   macro avg       0.91      0.93      0.91        35\n",
      "weighted avg       0.93      0.91      0.92        35\n",
      "\n",
      " \n",
      "[[18  3]\n",
      " [ 0 14]]\n"
     ]
    }
   ],
   "source": [
    "print(classification_report(y_test,pred_binary))\n",
    "print(' ')\n",
    "print(confusion_matrix(y_test,pred_binary))"
   ]
  },
  {
   "cell_type": "code",
   "execution_count": 90,
   "id": "967ef57b",
   "metadata": {},
   "outputs": [
    {
     "data": {
      "text/plain": [
       "Word                 15.0\n",
       "Power Point           5.0\n",
       "Excel                14.0\n",
       "Bonus                 5.0\n",
       "Test iz teorije 1     5.0\n",
       "Test iz teorije 2    16.0\n",
       "Bonus teorija         5.0\n",
       "Bonus kviz            3.0\n",
       "Ukupno.1             78.5\n",
       "Prolazak              1.0\n",
       "Ocijena               3.0\n",
       "Name: 17, dtype: float64"
      ]
     },
     "execution_count": 90,
     "metadata": {},
     "output_type": "execute_result"
    }
   ],
   "source": [
    "osoba_4 = df.drop(['Ukupno.1','Prolazak','Ocijena','Test iz teorije 1','Test iz teorije 2'],axis=1).iloc[17]\n",
    "df.iloc[17]"
   ]
  },
  {
   "cell_type": "code",
   "execution_count": 91,
   "id": "49248bdd",
   "metadata": {
    "scrolled": false
   },
   "outputs": [
    {
     "data": {
      "text/plain": [
       "array([[0.9811419]], dtype=float32)"
      ]
     },
     "execution_count": 91,
     "metadata": {},
     "output_type": "execute_result"
    }
   ],
   "source": [
    "model.predict(scaler.transform(osoba_4.values.reshape(1,-1)))"
   ]
  },
  {
   "cell_type": "code",
   "execution_count": null,
   "id": "44435501",
   "metadata": {},
   "outputs": [],
   "source": [
    "# ZA OSOBU 4 SMO PREDVIDILI DA CE PROCI KAO STO I JE"
   ]
  }
 ],
 "metadata": {
  "kernelspec": {
   "display_name": "Python 3",
   "language": "python",
   "name": "python3"
  },
  "language_info": {
   "codemirror_mode": {
    "name": "ipython",
    "version": 3
   },
   "file_extension": ".py",
   "mimetype": "text/x-python",
   "name": "python",
   "nbconvert_exporter": "python",
   "pygments_lexer": "ipython3",
   "version": "3.8.8"
  }
 },
 "nbformat": 4,
 "nbformat_minor": 5
}
